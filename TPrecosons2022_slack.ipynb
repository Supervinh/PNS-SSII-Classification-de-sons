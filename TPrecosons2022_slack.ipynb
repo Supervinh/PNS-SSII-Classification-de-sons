{
 "cells": [
  {
   "cell_type": "markdown",
   "metadata": {},
   "source": [
    "# TP classification de sons à rendre\n",
    "\n",
    "Tom Bevan (tom.bevan@etu.unice.fr)\n",
    "Vinh Faucher (vinh.faucher@etu.unice.fr)\n",
    "\n",
    "Polytech SI3 - SSII - 2021-22"
   ]
  },
  {
   "cell_type": "markdown",
   "source": [
    "# Données\n",
    "\n",
    "Nous avons choisi 4 mots : gauche, droite, milieu, bas.\n",
    "Pour chaque mot, nous avons au minimum 31 enregistrements différents.\n",
    "Nous avons dû faire un prétraitement, afin notamment de convertir les fichiers en wav et pour certains de les découper."
   ],
   "metadata": {
    "collapsed": false,
    "pycharm": {
     "name": "#%% md\n"
    }
   }
  },
  {
   "cell_type": "code",
   "execution_count": 1,
   "metadata": {
    "ExecuteTime": {
     "end_time": "2022-02-25T08:49:55.796301Z",
     "start_time": "2022-02-25T08:49:55.791554Z"
    }
   },
   "outputs": [],
   "source": [
    "#les imports nécessaires pour la suite\n",
    "import matplotlib.pyplot as plt\n",
    "import numpy as np \n",
    "import librosa\n",
    "import librosa.display\n",
    "import IPython.display as ipd\n",
    "import glob"
   ]
  },
  {
   "cell_type": "code",
   "execution_count": 2,
   "metadata": {
    "ExecuteTime": {
     "end_time": "2022-02-25T08:49:56.520153Z",
     "start_time": "2022-02-25T08:49:56.515470Z"
    }
   },
   "outputs": [
    {
     "name": "stdout",
     "output_type": "stream",
     "text": [
      "1.0.2\n"
     ]
    }
   ],
   "source": [
    "import sklearn\n",
    "print(sklearn.__version__)"
   ]
  },
  {
   "cell_type": "markdown",
   "metadata": {},
   "source": [
    "## Les données\n",
    "On va utiliser le jeu de données <a href=\"https://ai.googleblog.com/2017/08/launching-speech-commands-dataset.html\">\"speech commands\"</a>."
   ]
  },
  {
   "cell_type": "code",
   "execution_count": 3,
   "metadata": {
    "ExecuteTime": {
     "end_time": "2022-02-25T08:49:58.889474Z",
     "start_time": "2022-02-25T08:49:58.883203Z"
    }
   },
   "outputs": [],
   "source": [
    "basedir=r\".\\Sons\\\\\"\n",
    "# à adapter selon l'ordinateur\n",
    "classes = [\"gauche\", \"droite\", \"milieu\", \"bas\"] #Nos classes"
   ]
  },
  {
   "cell_type": "code",
   "execution_count": 4,
   "metadata": {
    "ExecuteTime": {
     "end_time": "2022-02-25T08:50:00.023621Z",
     "start_time": "2022-02-25T08:49:59.985871Z"
    }
   },
   "outputs": [
    {
     "name": "stdout",
     "output_type": "stream",
     "text": [
      "32 sons de la classe  gauche\n",
      "33 sons de la classe  droite\n",
      "29 sons de la classe  milieu\n",
      "31 sons de la classe  bas\n"
     ]
    }
   ],
   "source": [
    "for cl in classes:\n",
    "    listSons = glob.glob(basedir+cl+\"/*.wav\")\n",
    "    print(len(listSons), \"sons de la classe \", cl)"
   ]
  },
  {
   "cell_type": "markdown",
   "source": [
    "### On commence avec un seul son (au choix)\n",
    "Charger le son"
   ],
   "metadata": {
    "collapsed": false
   }
  },
  {
   "cell_type": "code",
   "execution_count": 5,
   "outputs": [],
   "source": [
    "y, sr = librosa.load(listSons[0])"
   ],
   "metadata": {
    "collapsed": false,
    "pycharm": {
     "name": "#%%\n"
    }
   }
  },
  {
   "cell_type": "markdown",
   "metadata": {},
   "source": [
    "### Calcul des MFCCs du son"
   ]
  },
  {
   "cell_type": "code",
   "execution_count": 6,
   "metadata": {
    "ExecuteTime": {
     "end_time": "2022-02-25T08:50:37.891293Z",
     "start_time": "2022-02-25T08:50:37.874734Z"
    }
   },
   "outputs": [],
   "source": [
    "mfccFeatures = librosa.feature.mfcc(y,sr,n_mfcc=13)"
   ]
  },
  {
   "cell_type": "code",
   "execution_count": 7,
   "metadata": {
    "ExecuteTime": {
     "end_time": "2022-02-25T08:50:42.950247Z",
     "start_time": "2022-02-25T08:50:42.942686Z"
    }
   },
   "outputs": [
    {
     "data": {
      "text/plain": "(13, 61)"
     },
     "execution_count": 7,
     "metadata": {},
     "output_type": "execute_result"
    }
   ],
   "source": [
    "mfccFeatures.shape"
   ]
  },
  {
   "cell_type": "markdown",
   "metadata": {},
   "source": [
    "## Calcul des MFCCs de tous les sons"
   ]
  },
  {
   "cell_type": "markdown",
   "metadata": {},
   "source": [
    "### On va partir d'une base de 20 sons de chaque classe"
   ]
  },
  {
   "cell_type": "code",
   "execution_count": 13,
   "metadata": {
    "ExecuteTime": {
     "end_time": "2022-02-25T08:53:44.486149Z",
     "start_time": "2022-02-25T08:53:42.913609Z"
    }
   },
   "outputs": [
    {
     "name": "stdout",
     "output_type": "stream",
     "text": [
      "### .\\Sons\\\\gauche\\AM_gauche.wav ###\n",
      "MFCC:  (13, 69) longueur du son :  35280\n",
      "### .\\Sons\\\\gauche\\AP_Gauche.wav ###\n",
      "MFCC:  (13, 74) longueur du son :  37632\n",
      "### .\\Sons\\\\gauche\\A_Gauche.wav ###\n",
      "MFCC:  (13, 65) longueur du son :  32928\n",
      "### .\\Sons\\\\gauche\\Gauche1.wav ###\n",
      "MFCC:  (13, 108) longueur du son :  55125\n",
      "### .\\Sons\\\\gauche\\Gauche10.wav ###\n",
      "MFCC:  (13, 68) longueur du son :  34304\n",
      "### .\\Sons\\\\gauche\\Gauche11.wav ###\n",
      "MFCC:  (13, 164) longueur du son :  83456\n",
      "### .\\Sons\\\\gauche\\Gauche12.wav ###\n",
      "MFCC:  (13, 44) longueur du son :  22050\n",
      "### .\\Sons\\\\gauche\\Gauche13.wav ###\n",
      "MFCC:  (13, 35) longueur du son :  17640\n",
      "### .\\Sons\\\\gauche\\Gauche14.wav ###\n",
      "MFCC:  (13, 44) longueur du son :  22051\n",
      "### .\\Sons\\\\gauche\\Gauche15.wav ###\n",
      "MFCC:  (13, 35) longueur du son :  17643\n",
      "### .\\Sons\\\\gauche\\Gauche16.wav ###\n",
      "MFCC:  (13, 44) longueur du son :  22053\n",
      "### .\\Sons\\\\gauche\\Gauche17.wav ###\n",
      "MFCC:  (13, 83) longueur du son :  41984\n",
      "### .\\Sons\\\\gauche\\Gauche18.wav ###\n",
      "MFCC:  (13, 64) longueur du son :  32256\n",
      "### .\\Sons\\\\gauche\\Gauche19.wav ###\n",
      "MFCC:  (13, 64) longueur du son :  32256\n",
      "### .\\Sons\\\\gauche\\Gauche2.wav ###\n",
      "MFCC:  (13, 31) longueur du son :  15435\n",
      "### .\\Sons\\\\gauche\\Gauche20.wav ###\n",
      "MFCC:  (13, 64) longueur du son :  32256\n",
      "### .\\Sons\\\\gauche\\Gauche21.wav ###\n",
      "MFCC:  (13, 98) longueur du son :  49664\n",
      "### .\\Sons\\\\gauche\\Gauche22.wav ###\n",
      "MFCC:  (13, 49) longueur du son :  24576\n",
      "### .\\Sons\\\\gauche\\Gauche23.wav ###\n",
      "MFCC:  (13, 75) longueur du son :  37888\n",
      "### .\\Sons\\\\gauche\\Gauche24.wav ###\n",
      "MFCC:  (13, 59) longueur du son :  29696\n",
      "### .\\Sons\\\\droite\\AM_droite.wav ###\n",
      "MFCC:  (13, 57) longueur du son :  29165\n",
      "### .\\Sons\\\\droite\\AP_Droite.wav ###\n",
      "MFCC:  (13, 65) longueur du son :  32928\n",
      "### .\\Sons\\\\droite\\A_Droite.wav ###\n",
      "MFCC:  (13, 62) longueur du son :  31517\n",
      "### .\\Sons\\\\droite\\Droite1.wav ###\n",
      "MFCC:  (13, 151) longueur du son :  77175\n",
      "### .\\Sons\\\\droite\\Droite10.wav ###\n",
      "MFCC:  (13, 86) longueur du son :  43520\n",
      "### .\\Sons\\\\droite\\Droite11.wav ###\n",
      "MFCC:  (13, 72) longueur du son :  36352\n",
      "### .\\Sons\\\\droite\\Droite12.wav ###\n",
      "MFCC:  (13, 160) longueur du son :  81408\n",
      "### .\\Sons\\\\droite\\Droite13.wav ###\n",
      "MFCC:  (13, 160) longueur du son :  81408\n",
      "### .\\Sons\\\\droite\\Droite14.wav ###\n",
      "MFCC:  (13, 52) longueur du son :  26460\n",
      "### .\\Sons\\\\droite\\Droite15.wav ###\n",
      "MFCC:  (13, 52) longueur du son :  26460\n",
      "### .\\Sons\\\\droite\\Droite16.wav ###\n",
      "MFCC:  (13, 52) longueur du son :  26461\n",
      "### .\\Sons\\\\droite\\Droite17.wav ###\n",
      "MFCC:  (13, 52) longueur du son :  26460\n",
      "### .\\Sons\\\\droite\\Droite18.wav ###\n",
      "MFCC:  (13, 44) longueur du son :  22050\n",
      "### .\\Sons\\\\droite\\Droite19.wav ###\n",
      "MFCC:  (13, 78) longueur du son :  39424\n",
      "### .\\Sons\\\\droite\\Droite2.wav ###\n",
      "MFCC:  (13, 44) longueur du son :  22050\n",
      "### .\\Sons\\\\droite\\Droite20.wav ###\n",
      "MFCC:  (13, 73) longueur du son :  36864\n",
      "### .\\Sons\\\\droite\\Droite21.wav ###\n",
      "MFCC:  (13, 73) longueur du son :  36864\n",
      "### .\\Sons\\\\droite\\Droite22.wav ###\n",
      "MFCC:  (13, 104) longueur du son :  52736\n",
      "### .\\Sons\\\\droite\\Droite23.wav ###\n",
      "MFCC:  (13, 48) longueur du son :  24064\n",
      "### .\\Sons\\\\droite\\Droite24.wav ###\n",
      "MFCC:  (13, 90) longueur du son :  45568\n",
      "### .\\Sons\\\\milieu\\AM_milieu.wav ###\n",
      "MFCC:  (13, 53) longueur du son :  26813\n",
      "### .\\Sons\\\\milieu\\AP_Milieu.wav ###\n",
      "MFCC:  (13, 76) longueur du son :  38573\n",
      "### .\\Sons\\\\milieu\\A_Milieu.wav ###\n",
      "MFCC:  (13, 71) longueur du son :  36221\n",
      "### .\\Sons\\\\milieu\\Milieu1.wav ###\n",
      "MFCC:  (13, 119) longueur du son :  60811\n",
      "### .\\Sons\\\\milieu\\Milieu10.wav ###\n",
      "MFCC:  (13, 85) longueur du son :  43008\n",
      "### .\\Sons\\\\milieu\\Milieu11.wav ###\n",
      "MFCC:  (13, 120) longueur du son :  60928\n",
      "### .\\Sons\\\\milieu\\Milieu12.wav ###\n",
      "MFCC:  (13, 62) longueur du son :  31287\n",
      "### .\\Sons\\\\milieu\\Milieu13.wav ###\n",
      "MFCC:  (13, 54) longueur du son :  27348\n",
      "### .\\Sons\\\\milieu\\Milieu14.wav ###\n",
      "MFCC:  (13, 54) longueur du son :  27503\n",
      "### .\\Sons\\\\milieu\\Milieu15.wav ###\n",
      "MFCC:  (13, 60) longueur du son :  30220\n",
      "### .\\Sons\\\\milieu\\Milieu16.wav ###\n",
      "MFCC:  (13, 55) longueur du son :  27742\n",
      "### .\\Sons\\\\milieu\\Milieu17.wav ###\n",
      "MFCC:  (13, 73) longueur du son :  36864\n",
      "### .\\Sons\\\\milieu\\Milieu18.wav ###\n",
      "MFCC:  (13, 118) longueur du son :  59904\n",
      "### .\\Sons\\\\milieu\\Milieu19.wav ###\n",
      "MFCC:  (13, 79) longueur du son :  39936\n",
      "### .\\Sons\\\\milieu\\Milieu2.wav ###\n",
      "MFCC:  (13, 51) longueur du son :  25972\n",
      "### .\\Sons\\\\milieu\\Milieu20.wav ###\n",
      "MFCC:  (13, 78) longueur du son :  39424\n",
      "### .\\Sons\\\\milieu\\Milieu21.wav ###\n",
      "MFCC:  (13, 98) longueur du son :  49664\n",
      "### .\\Sons\\\\milieu\\Milieu22.wav ###\n",
      "MFCC:  (13, 108) longueur du son :  54784\n",
      "### .\\Sons\\\\milieu\\Milieu23.wav ###\n",
      "MFCC:  (13, 59) longueur du son :  29906\n",
      "### .\\Sons\\\\milieu\\Milieu24.wav ###\n",
      "MFCC:  (13, 75) longueur du son :  38264\n",
      "### .\\Sons\\\\bas\\AM_bas.wav ###\n",
      "MFCC:  (13, 61) longueur du son :  31047\n",
      "### .\\Sons\\\\bas\\AP_Bas.wav ###\n",
      "MFCC:  (13, 48) longueur du son :  24461\n",
      "### .\\Sons\\\\bas\\A_Bas.wav ###\n",
      "MFCC:  (13, 61) longueur du son :  31047\n",
      "### .\\Sons\\\\bas\\Bas1.wav ###\n",
      "MFCC:  (13, 44) longueur du son :  22050\n",
      "### .\\Sons\\\\bas\\Bas10.wav ###\n",
      "MFCC:  (13, 68) longueur du son :  34304\n",
      "### .\\Sons\\\\bas\\Bas11.wav ###\n",
      "MFCC:  (13, 130) longueur du son :  66048\n",
      "### .\\Sons\\\\bas\\Bas12.wav ###\n",
      "MFCC:  (13, 31) longueur du son :  15435\n",
      "### .\\Sons\\\\bas\\Bas13.wav ###\n",
      "MFCC:  (13, 35) longueur du son :  17640\n",
      "### .\\Sons\\\\bas\\Bas14.wav ###\n",
      "MFCC:  (13, 33) longueur du son :  16538\n",
      "### .\\Sons\\\\bas\\Bas15.wav ###\n",
      "MFCC:  (13, 31) longueur du son :  15438\n",
      "### .\\Sons\\\\bas\\Bas16.wav ###\n",
      "MFCC:  (13, 44) longueur du son :  22050\n",
      "### .\\Sons\\\\bas\\Bas17.wav ###\n",
      "MFCC:  (13, 54) longueur du son :  27136\n",
      "### .\\Sons\\\\bas\\Bas18.wav ###\n",
      "MFCC:  (13, 65) longueur du son :  32768\n",
      "### .\\Sons\\\\bas\\Bas19.wav ###\n",
      "MFCC:  (13, 54) longueur du son :  27136\n",
      "### .\\Sons\\\\bas\\Bas2.wav ###\n",
      "MFCC:  (13, 26) longueur du son :  13230\n",
      "### .\\Sons\\\\bas\\Bas20.wav ###\n",
      "MFCC:  (13, 106) longueur du son :  53760\n",
      "### .\\Sons\\\\bas\\Bas21.wav ###\n",
      "MFCC:  (13, 73) longueur du son :  36864\n",
      "### .\\Sons\\\\bas\\Bas22.wav ###\n",
      "MFCC:  (13, 65) longueur du son :  32768\n",
      "### .\\Sons\\\\bas\\Bas23.wav ###\n",
      "MFCC:  (13, 103) longueur du son :  52224\n",
      "### .\\Sons\\\\bas\\Bas24.wav ###\n",
      "MFCC:  (13, 93) longueur du son :  47104\n"
     ]
    }
   ],
   "source": [
    "nb=20\n",
    "nbMFCCtotal = 0\n",
    "\n",
    "for cl in classes:\n",
    "    listSons = glob.glob(basedir+ cl+\"/*.wav\")\n",
    "    for s in listSons[:nb]:\n",
    "        print(\"###\",s,\"###\")\n",
    "        (sig,rate) = librosa.load(s)\n",
    "        mfcc_feat = librosa.feature.mfcc(sig,rate,n_mfcc=13)\n",
    "        print(\"MFCC: \", mfcc_feat.shape, \"longueur du son : \", len(sig))\n",
    "        nbMFCCtotal += mfcc_feat.shape[1]\n"
   ]
  },
  {
   "cell_type": "code",
   "execution_count": 14,
   "metadata": {
    "ExecuteTime": {
     "end_time": "2022-02-25T08:58:05.449331Z",
     "start_time": "2022-02-25T08:58:03.653875Z"
    }
   },
   "outputs": [
    {
     "name": "stdout",
     "output_type": "stream",
     "text": [
      "### .\\Sons\\\\gauche\\AM_gauche.wav ###\n",
      "MFCC:  (13, 69) len :  35280\n",
      "### .\\Sons\\\\gauche\\AP_Gauche.wav ###\n",
      "MFCC:  (13, 74) len :  37632\n",
      "### .\\Sons\\\\gauche\\A_Gauche.wav ###\n",
      "MFCC:  (13, 65) len :  32928\n",
      "### .\\Sons\\\\gauche\\Gauche1.wav ###\n",
      "MFCC:  (13, 108) len :  55125\n",
      "### .\\Sons\\\\gauche\\Gauche10.wav ###\n",
      "MFCC:  (13, 68) len :  34304\n",
      "### .\\Sons\\\\gauche\\Gauche11.wav ###\n",
      "MFCC:  (13, 164) len :  83456\n",
      "### .\\Sons\\\\gauche\\Gauche12.wav ###\n",
      "MFCC:  (13, 44) len :  22050\n",
      "### .\\Sons\\\\gauche\\Gauche13.wav ###\n",
      "MFCC:  (13, 35) len :  17640\n",
      "### .\\Sons\\\\gauche\\Gauche14.wav ###\n",
      "MFCC:  (13, 44) len :  22051\n",
      "### .\\Sons\\\\gauche\\Gauche15.wav ###\n",
      "MFCC:  (13, 35) len :  17643\n",
      "### .\\Sons\\\\gauche\\Gauche16.wav ###\n",
      "MFCC:  (13, 44) len :  22053\n",
      "### .\\Sons\\\\gauche\\Gauche17.wav ###\n",
      "MFCC:  (13, 83) len :  41984\n",
      "### .\\Sons\\\\gauche\\Gauche18.wav ###\n",
      "MFCC:  (13, 64) len :  32256\n",
      "### .\\Sons\\\\gauche\\Gauche19.wav ###\n",
      "MFCC:  (13, 64) len :  32256\n",
      "### .\\Sons\\\\gauche\\Gauche2.wav ###\n",
      "MFCC:  (13, 31) len :  15435\n",
      "### .\\Sons\\\\gauche\\Gauche20.wav ###\n",
      "MFCC:  (13, 64) len :  32256\n",
      "### .\\Sons\\\\gauche\\Gauche21.wav ###\n",
      "MFCC:  (13, 98) len :  49664\n",
      "### .\\Sons\\\\gauche\\Gauche22.wav ###\n",
      "MFCC:  (13, 49) len :  24576\n",
      "### .\\Sons\\\\gauche\\Gauche23.wav ###\n",
      "MFCC:  (13, 75) len :  37888\n",
      "### .\\Sons\\\\gauche\\Gauche24.wav ###\n",
      "MFCC:  (13, 59) len :  29696\n",
      "### .\\Sons\\\\droite\\AM_droite.wav ###\n",
      "MFCC:  (13, 57) len :  29165\n",
      "### .\\Sons\\\\droite\\AP_Droite.wav ###\n",
      "MFCC:  (13, 65) len :  32928\n",
      "### .\\Sons\\\\droite\\A_Droite.wav ###\n",
      "MFCC:  (13, 62) len :  31517\n",
      "### .\\Sons\\\\droite\\Droite1.wav ###\n",
      "MFCC:  (13, 151) len :  77175\n",
      "### .\\Sons\\\\droite\\Droite10.wav ###\n",
      "MFCC:  (13, 86) len :  43520\n",
      "### .\\Sons\\\\droite\\Droite11.wav ###\n",
      "MFCC:  (13, 72) len :  36352\n",
      "### .\\Sons\\\\droite\\Droite12.wav ###\n",
      "MFCC:  (13, 160) len :  81408\n",
      "### .\\Sons\\\\droite\\Droite13.wav ###\n",
      "MFCC:  (13, 160) len :  81408\n",
      "### .\\Sons\\\\droite\\Droite14.wav ###\n",
      "MFCC:  (13, 52) len :  26460\n",
      "### .\\Sons\\\\droite\\Droite15.wav ###\n",
      "MFCC:  (13, 52) len :  26460\n",
      "### .\\Sons\\\\droite\\Droite16.wav ###\n",
      "MFCC:  (13, 52) len :  26461\n",
      "### .\\Sons\\\\droite\\Droite17.wav ###\n",
      "MFCC:  (13, 52) len :  26460\n",
      "### .\\Sons\\\\droite\\Droite18.wav ###\n",
      "MFCC:  (13, 44) len :  22050\n",
      "### .\\Sons\\\\droite\\Droite19.wav ###\n",
      "MFCC:  (13, 78) len :  39424\n",
      "### .\\Sons\\\\droite\\Droite2.wav ###\n",
      "MFCC:  (13, 44) len :  22050\n",
      "### .\\Sons\\\\droite\\Droite20.wav ###\n",
      "MFCC:  (13, 73) len :  36864\n",
      "### .\\Sons\\\\droite\\Droite21.wav ###\n",
      "MFCC:  (13, 73) len :  36864\n",
      "### .\\Sons\\\\droite\\Droite22.wav ###\n",
      "MFCC:  (13, 104) len :  52736\n",
      "### .\\Sons\\\\droite\\Droite23.wav ###\n",
      "MFCC:  (13, 48) len :  24064\n",
      "### .\\Sons\\\\droite\\Droite24.wav ###\n",
      "MFCC:  (13, 90) len :  45568\n",
      "### .\\Sons\\\\milieu\\AM_milieu.wav ###\n",
      "MFCC:  (13, 53) len :  26813\n",
      "### .\\Sons\\\\milieu\\AP_Milieu.wav ###\n",
      "MFCC:  (13, 76) len :  38573\n",
      "### .\\Sons\\\\milieu\\A_Milieu.wav ###\n",
      "MFCC:  (13, 71) len :  36221\n",
      "### .\\Sons\\\\milieu\\Milieu1.wav ###\n",
      "MFCC:  (13, 119) len :  60811\n",
      "### .\\Sons\\\\milieu\\Milieu10.wav ###\n",
      "MFCC:  (13, 85) len :  43008\n",
      "### .\\Sons\\\\milieu\\Milieu11.wav ###\n",
      "MFCC:  (13, 120) len :  60928\n",
      "### .\\Sons\\\\milieu\\Milieu12.wav ###\n",
      "MFCC:  (13, 62) len :  31287\n",
      "### .\\Sons\\\\milieu\\Milieu13.wav ###\n",
      "MFCC:  (13, 54) len :  27348\n",
      "### .\\Sons\\\\milieu\\Milieu14.wav ###\n",
      "MFCC:  (13, 54) len :  27503\n",
      "### .\\Sons\\\\milieu\\Milieu15.wav ###\n",
      "MFCC:  (13, 60) len :  30220\n",
      "### .\\Sons\\\\milieu\\Milieu16.wav ###\n",
      "MFCC:  (13, 55) len :  27742\n",
      "### .\\Sons\\\\milieu\\Milieu17.wav ###\n",
      "MFCC:  (13, 73) len :  36864\n",
      "### .\\Sons\\\\milieu\\Milieu18.wav ###\n",
      "MFCC:  (13, 118) len :  59904\n",
      "### .\\Sons\\\\milieu\\Milieu19.wav ###\n",
      "MFCC:  (13, 79) len :  39936\n",
      "### .\\Sons\\\\milieu\\Milieu2.wav ###\n",
      "MFCC:  (13, 51) len :  25972\n",
      "### .\\Sons\\\\milieu\\Milieu20.wav ###\n",
      "MFCC:  (13, 78) len :  39424\n",
      "### .\\Sons\\\\milieu\\Milieu21.wav ###\n",
      "MFCC:  (13, 98) len :  49664\n",
      "### .\\Sons\\\\milieu\\Milieu22.wav ###\n",
      "MFCC:  (13, 108) len :  54784\n",
      "### .\\Sons\\\\milieu\\Milieu23.wav ###\n",
      "MFCC:  (13, 59) len :  29906\n",
      "### .\\Sons\\\\milieu\\Milieu24.wav ###\n",
      "MFCC:  (13, 75) len :  38264\n",
      "### .\\Sons\\\\bas\\AM_bas.wav ###\n",
      "MFCC:  (13, 61) len :  31047\n",
      "### .\\Sons\\\\bas\\AP_Bas.wav ###\n",
      "MFCC:  (13, 48) len :  24461\n",
      "### .\\Sons\\\\bas\\A_Bas.wav ###\n",
      "MFCC:  (13, 61) len :  31047\n",
      "### .\\Sons\\\\bas\\Bas1.wav ###\n",
      "MFCC:  (13, 44) len :  22050\n",
      "### .\\Sons\\\\bas\\Bas10.wav ###\n",
      "MFCC:  (13, 68) len :  34304\n",
      "### .\\Sons\\\\bas\\Bas11.wav ###\n",
      "MFCC:  (13, 130) len :  66048\n",
      "### .\\Sons\\\\bas\\Bas12.wav ###\n",
      "MFCC:  (13, 31) len :  15435\n",
      "### .\\Sons\\\\bas\\Bas13.wav ###\n",
      "MFCC:  (13, 35) len :  17640\n",
      "### .\\Sons\\\\bas\\Bas14.wav ###\n",
      "MFCC:  (13, 33) len :  16538\n",
      "### .\\Sons\\\\bas\\Bas15.wav ###\n",
      "MFCC:  (13, 31) len :  15438\n",
      "### .\\Sons\\\\bas\\Bas16.wav ###\n",
      "MFCC:  (13, 44) len :  22050\n",
      "### .\\Sons\\\\bas\\Bas17.wav ###\n",
      "MFCC:  (13, 54) len :  27136\n",
      "### .\\Sons\\\\bas\\Bas18.wav ###\n",
      "MFCC:  (13, 65) len :  32768\n",
      "### .\\Sons\\\\bas\\Bas19.wav ###\n",
      "MFCC:  (13, 54) len :  27136\n",
      "### .\\Sons\\\\bas\\Bas2.wav ###\n",
      "MFCC:  (13, 26) len :  13230\n",
      "### .\\Sons\\\\bas\\Bas20.wav ###\n",
      "MFCC:  (13, 106) len :  53760\n",
      "### .\\Sons\\\\bas\\Bas21.wav ###\n",
      "MFCC:  (13, 73) len :  36864\n",
      "### .\\Sons\\\\bas\\Bas22.wav ###\n",
      "MFCC:  (13, 65) len :  32768\n",
      "### .\\Sons\\\\bas\\Bas23.wav ###\n",
      "MFCC:  (13, 103) len :  52224\n",
      "### .\\Sons\\\\bas\\Bas24.wav ###\n",
      "MFCC:  (13, 93) len :  47104\n",
      "shape :  (80, 13)\n"
     ]
    }
   ],
   "source": [
    "lesMfcc = np.empty(shape=(nb*len(classes), 13), dtype=float) \n",
    "verbose=True\n",
    "\n",
    "i=0\n",
    "for cl in classes:\n",
    "    listSons = glob.glob(basedir+cl+\"/*.wav\")\n",
    "    for s in listSons[:nb]:\n",
    "        if verbose:\n",
    "            print(\"###\",s,\"###\")\n",
    "        (sig,rate) = librosa.load(s)\n",
    "        mfcc_feat = librosa.feature.mfcc(sig,rate,n_mfcc=13)\n",
    "        if verbose:\n",
    "            print(\"MFCC: \", mfcc_feat.shape, \"len : \", len(sig))\n",
    "        lesMfcc[i] = np.mean(mfcc_feat, axis=1)\n",
    "        i += 1\n",
    "\n",
    "if verbose:\n",
    "    print(\"shape : \",lesMfcc.shape)\n"
   ]
  },
  {
   "cell_type": "markdown",
   "metadata": {},
   "source": [
    "### Classification linéaire des sons"
   ]
  },
  {
   "cell_type": "markdown",
   "metadata": {},
   "source": [
    "Il ne reste plus que l'étape de classification des sons. On va utiliser pour cela une méthode simple de classification linéaire: <a href=\"https://scikit-learn.org/stable/modules/generated/sklearn.linear_model.LogisticRegression.html\">la régression logistique</a>."
   ]
  },
  {
   "cell_type": "code",
   "execution_count": 24,
   "metadata": {
    "ExecuteTime": {
     "end_time": "2022-02-25T08:58:13.600739Z",
     "start_time": "2022-02-25T08:58:13.597649Z"
    }
   },
   "outputs": [],
   "source": [
    "from sklearn.linear_model import LogisticRegression"
   ]
  },
  {
   "cell_type": "code",
   "execution_count": 25,
   "outputs": [
    {
     "name": "stderr",
     "output_type": "stream",
     "text": [
      "C:\\Users\\Vinh\\AppData\\Local\\Programs\\Python\\Python310\\lib\\site-packages\\sklearn\\linear_model\\_logistic.py:814: ConvergenceWarning: lbfgs failed to converge (status=1):\n",
      "STOP: TOTAL NO. of ITERATIONS REACHED LIMIT.\n",
      "\n",
      "Increase the number of iterations (max_iter) or scale the data as shown in:\n",
      "    https://scikit-learn.org/stable/modules/preprocessing.html\n",
      "Please also refer to the documentation for alternative solver options:\n",
      "    https://scikit-learn.org/stable/modules/linear_model.html#logistic-regression\n",
      "  n_iter_i = _check_optimize_result(\n"
     ]
    },
    {
     "data": {
      "text/plain": "LogisticRegression()"
     },
     "execution_count": 25,
     "metadata": {},
     "output_type": "execute_result"
    }
   ],
   "source": [
    "# création de l'objet de regression logistique\n",
    "logisticRegr = LogisticRegression()\n",
    "\n",
    "# classes des sons:\n",
    "yTrain = []\n",
    "for clNumber in range(len(classes)):\n",
    "    yTrain += [clNumber]*nb\n",
    "\n",
    "# apprentissage de la séparation en utilisation des données pour lesquelles on connait la classe\n",
    "logisticRegr.fit(lesMfcc, yTrain)\n"
   ],
   "metadata": {
    "collapsed": false,
    "pycharm": {
     "name": "#%%\n"
    }
   }
  },
  {
   "cell_type": "code",
   "execution_count": 26,
   "metadata": {
    "ExecuteTime": {
     "end_time": "2022-02-25T08:59:45.739936Z",
     "start_time": "2022-02-25T08:59:45.735686Z"
    }
   },
   "outputs": [
    {
     "name": "stdout",
     "output_type": "stream",
     "text": [
      "[-4.69089787e+02  8.63889294e+01  1.39268181e+01  1.89268923e+01\n",
      "  1.78328517e+00  7.06519408e+00 -2.39426885e+00 -3.99301274e-01\n",
      " -4.65427798e+00  7.91415403e-01 -2.48054977e+00 -1.13191820e-01\n",
      " -3.19836352e+00]\n",
      "[76.32810292 27.55803413 10.80640636 11.58393458  9.39365411  7.53728595\n",
      "  7.70266053  7.26641346  5.59684665  4.74261308  6.5263291   4.46761364\n",
      "  4.04859528]\n"
     ]
    }
   ],
   "source": [
    "from sklearn import preprocessing\n",
    "\n",
    "scaler = preprocessing.StandardScaler().fit(lesMfcc)\n",
    "\n",
    "print(scaler.mean_)\n",
    "print(scaler.scale_)\n",
    "\n",
    "xTrain = scaler.transform(lesMfcc)"
   ]
  },
  {
   "cell_type": "code",
   "execution_count": 27,
   "metadata": {
    "ExecuteTime": {
     "end_time": "2022-02-25T09:00:12.651229Z",
     "start_time": "2022-02-25T09:00:12.645985Z"
    }
   },
   "outputs": [],
   "source": [
    "from sklearn.metrics import f1_score, accuracy_score, confusion_matrix, ConfusionMatrixDisplay"
   ]
  },
  {
   "cell_type": "code",
   "execution_count": 28,
   "metadata": {
    "ExecuteTime": {
     "end_time": "2022-02-25T09:00:14.900690Z",
     "start_time": "2022-02-25T09:00:14.892372Z"
    }
   },
   "outputs": [
    {
     "name": "stdout",
     "output_type": "stream",
     "text": [
      "train F1 score =  0.7250000000000001\n",
      "train accuracy score =  0.725\n"
     ]
    }
   ],
   "source": [
    "ypred = logisticRegr.predict(xTrain)\n",
    "print(\"train F1 score = \", f1_score(yTrain, ypred, average = 'micro'))\n",
    "print(\"train accuracy score = \", accuracy_score(yTrain, ypred))\n"
   ]
  },
  {
   "cell_type": "code",
   "execution_count": 29,
   "metadata": {
    "ExecuteTime": {
     "end_time": "2022-02-25T09:00:43.964577Z",
     "start_time": "2022-02-25T09:00:43.837453Z"
    }
   },
   "outputs": [
    {
     "data": {
      "text/plain": "<Figure size 432x288 with 2 Axes>",
      "image/png": "[encoded data removed]"
     },
     "metadata": {
      "needs_background": "light"
     },
     "output_type": "display_data"
    }
   ],
   "source": [
    "cm = confusion_matrix(yTrain, ypred, labels=[0,1,2,3])\n",
    "disp = ConfusionMatrixDisplay(confusion_matrix=cm, display_labels=classes)\n",
    "disp.plot()\n",
    "disp.ax_.set_title('Confusion matrix (train dataset)')\n",
    "plt.show()"
   ]
  },
  {
   "cell_type": "markdown",
   "metadata": {},
   "source": [
    "### Evaluation de la classification"
   ]
  },
  {
   "cell_type": "markdown",
   "metadata": {},
   "source": [
    "Pour évaluer de façon juste, on va utiliser des sons qui n'ont pas déjà servi à l'apprentissage. On va par exemple prendre les nb derniers de chaque classe."
   ]
  },
  {
   "cell_type": "code",
   "execution_count": 30,
   "metadata": {
    "ExecuteTime": {
     "end_time": "2022-02-25T09:01:28.380732Z",
     "start_time": "2022-02-25T09:01:26.600587Z"
    },
    "scrolled": true
   },
   "outputs": [
    {
     "name": "stdout",
     "output_type": "stream",
     "text": [
      "### .\\Sons\\\\gauche\\Gauche18.wav ###\n",
      "MFCC:  (13, 64) len :  32256\n",
      "### .\\Sons\\\\gauche\\Gauche19.wav ###\n",
      "MFCC:  (13, 64) len :  32256\n",
      "### .\\Sons\\\\gauche\\Gauche2.wav ###\n",
      "MFCC:  (13, 31) len :  15435\n",
      "### .\\Sons\\\\gauche\\Gauche20.wav ###\n",
      "MFCC:  (13, 64) len :  32256\n",
      "### .\\Sons\\\\gauche\\Gauche21.wav ###\n",
      "MFCC:  (13, 98) len :  49664\n",
      "### .\\Sons\\\\gauche\\Gauche22.wav ###\n",
      "MFCC:  (13, 49) len :  24576\n",
      "### .\\Sons\\\\gauche\\Gauche23.wav ###\n",
      "MFCC:  (13, 75) len :  37888\n",
      "### .\\Sons\\\\gauche\\Gauche24.wav ###\n",
      "MFCC:  (13, 59) len :  29696\n",
      "### .\\Sons\\\\gauche\\Gauche25.wav ###\n",
      "MFCC:  (13, 87) len :  44100\n",
      "### .\\Sons\\\\gauche\\Gauche26.wav ###\n",
      "MFCC:  (13, 44) len :  22053\n",
      "### .\\Sons\\\\gauche\\Gauche27.wav ###\n",
      "MFCC:  (13, 61) len :  30870\n",
      "### .\\Sons\\\\gauche\\Gauche28.wav ###\n",
      "MFCC:  (13, 100) len :  50715\n",
      "### .\\Sons\\\\gauche\\Gauche3.wav ###\n",
      "MFCC:  (13, 44) len :  22050\n",
      "### .\\Sons\\\\gauche\\Gauche4.wav ###\n",
      "MFCC:  (13, 52) len :  26460\n",
      "### .\\Sons\\\\gauche\\Gauche5.wav ###\n",
      "MFCC:  (13, 44) len :  22050\n",
      "### .\\Sons\\\\gauche\\Gauche6.wav ###\n",
      "MFCC:  (13, 65) len :  33075\n",
      "### .\\Sons\\\\gauche\\Gauche7.wav ###\n",
      "MFCC:  (13, 103) len :  52479\n",
      "### .\\Sons\\\\gauche\\Gauche8.wav ###\n",
      "MFCC:  (13, 82) len :  41472\n",
      "### .\\Sons\\\\gauche\\Gauche9.wav ###\n",
      "MFCC:  (13, 82) len :  41472\n",
      "### .\\Sons\\\\gauche\\V_Gauche.wav ###\n",
      "MFCC:  (13, 122) len :  62093\n",
      "### .\\Sons\\\\droite\\Droite19.wav ###\n",
      "MFCC:  (13, 78) len :  39424\n",
      "### .\\Sons\\\\droite\\Droite2.wav ###\n",
      "MFCC:  (13, 44) len :  22050\n",
      "### .\\Sons\\\\droite\\Droite20.wav ###\n",
      "MFCC:  (13, 73) len :  36864\n",
      "### .\\Sons\\\\droite\\Droite21.wav ###\n",
      "MFCC:  (13, 73) len :  36864\n",
      "### .\\Sons\\\\droite\\Droite22.wav ###\n",
      "MFCC:  (13, 104) len :  52736\n",
      "### .\\Sons\\\\droite\\Droite23.wav ###\n",
      "MFCC:  (13, 48) len :  24064\n",
      "### .\\Sons\\\\droite\\Droite24.wav ###\n",
      "MFCC:  (13, 90) len :  45568\n",
      "### .\\Sons\\\\droite\\Droite25.wav ###\n",
      "MFCC:  (13, 64) len :  32256\n",
      "### .\\Sons\\\\droite\\Droite26.wav ###\n",
      "MFCC:  (13, 87) len :  44100\n",
      "### .\\Sons\\\\droite\\Droite27.wav ###\n",
      "MFCC:  (13, 44) len :  22050\n",
      "### .\\Sons\\\\droite\\Droite28.wav ###\n",
      "MFCC:  (13, 56) len :  28665\n",
      "### .\\Sons\\\\droite\\Droite29.wav ###\n",
      "MFCC:  (13, 61) len :  30870\n",
      "### .\\Sons\\\\droite\\Droite3.wav ###\n",
      "MFCC:  (13, 65) len :  33075\n",
      "### .\\Sons\\\\droite\\Droite4.wav ###\n",
      "MFCC:  (13, 65) len :  33075\n",
      "### .\\Sons\\\\droite\\Droite5.wav ###\n",
      "MFCC:  (13, 44) len :  22050\n",
      "### .\\Sons\\\\droite\\Droite6.wav ###\n",
      "MFCC:  (13, 44) len :  22050\n",
      "### .\\Sons\\\\droite\\Droite7.wav ###\n",
      "MFCC:  (13, 91) len :  46305\n",
      "### .\\Sons\\\\droite\\Droite8.wav ###\n",
      "MFCC:  (13, 57) len :  28672\n",
      "### .\\Sons\\\\droite\\Droite9.wav ###\n",
      "MFCC:  (13, 116) len :  58880\n",
      "### .\\Sons\\\\droite\\V_Droite.wav ###\n",
      "MFCC:  (13, 108) len :  55037\n",
      "### .\\Sons\\\\milieu\\Milieu15.wav ###\n",
      "MFCC:  (13, 60) len :  30220\n",
      "### .\\Sons\\\\milieu\\Milieu16.wav ###\n",
      "MFCC:  (13, 55) len :  27742\n",
      "### .\\Sons\\\\milieu\\Milieu17.wav ###\n",
      "MFCC:  (13, 73) len :  36864\n",
      "### .\\Sons\\\\milieu\\Milieu18.wav ###\n",
      "MFCC:  (13, 118) len :  59904\n",
      "### .\\Sons\\\\milieu\\Milieu19.wav ###\n",
      "MFCC:  (13, 79) len :  39936\n",
      "### .\\Sons\\\\milieu\\Milieu2.wav ###\n",
      "MFCC:  (13, 51) len :  25972\n",
      "### .\\Sons\\\\milieu\\Milieu20.wav ###\n",
      "MFCC:  (13, 78) len :  39424\n",
      "### .\\Sons\\\\milieu\\Milieu21.wav ###\n",
      "MFCC:  (13, 98) len :  49664\n",
      "### .\\Sons\\\\milieu\\Milieu22.wav ###\n",
      "MFCC:  (13, 108) len :  54784\n",
      "### .\\Sons\\\\milieu\\Milieu23.wav ###\n",
      "MFCC:  (13, 59) len :  29906\n",
      "### .\\Sons\\\\milieu\\Milieu24.wav ###\n",
      "MFCC:  (13, 75) len :  38264\n",
      "### .\\Sons\\\\milieu\\Milieu25.wav ###\n",
      "MFCC:  (13, 44) len :  22050\n",
      "### .\\Sons\\\\milieu\\Milieu3.wav ###\n",
      "MFCC:  (13, 43) len :  21562\n",
      "### .\\Sons\\\\milieu\\Milieu4.wav ###\n",
      "MFCC:  (13, 68) len :  34696\n",
      "### .\\Sons\\\\milieu\\Milieu5.wav ###\n",
      "MFCC:  (13, 23) len :  11764\n",
      "### .\\Sons\\\\milieu\\Milieu6.wav ###\n",
      "MFCC:  (13, 36) len :  18379\n",
      "### .\\Sons\\\\milieu\\Milieu7.wav ###\n",
      "MFCC:  (13, 84) len :  42777\n",
      "### .\\Sons\\\\milieu\\Milieu8.wav ###\n",
      "MFCC:  (13, 94) len :  47616\n",
      "### .\\Sons\\\\milieu\\Milieu9.wav ###\n",
      "MFCC:  (13, 82) len :  41472\n",
      "### .\\Sons\\\\milieu\\V_Milieu.wav ###\n",
      "MFCC:  (13, 118) len :  60212\n",
      "### .\\Sons\\\\bas\\Bas17.wav ###\n",
      "MFCC:  (13, 54) len :  27136\n",
      "### .\\Sons\\\\bas\\Bas18.wav ###\n",
      "MFCC:  (13, 65) len :  32768\n",
      "### .\\Sons\\\\bas\\Bas19.wav ###\n",
      "MFCC:  (13, 54) len :  27136\n",
      "### .\\Sons\\\\bas\\Bas2.wav ###\n",
      "MFCC:  (13, 26) len :  13230\n",
      "### .\\Sons\\\\bas\\Bas20.wav ###\n",
      "MFCC:  (13, 106) len :  53760\n",
      "### .\\Sons\\\\bas\\Bas21.wav ###\n",
      "MFCC:  (13, 73) len :  36864\n",
      "### .\\Sons\\\\bas\\Bas22.wav ###\n",
      "MFCC:  (13, 65) len :  32768\n",
      "### .\\Sons\\\\bas\\Bas23.wav ###\n",
      "MFCC:  (13, 103) len :  52224\n",
      "### .\\Sons\\\\bas\\Bas24.wav ###\n",
      "MFCC:  (13, 93) len :  47104\n",
      "### .\\Sons\\\\bas\\Bas25.wav ###\n",
      "MFCC:  (13, 33) len :  16538\n",
      "### .\\Sons\\\\bas\\Bas26.wav ###\n",
      "MFCC:  (13, 48) len :  24255\n",
      "### .\\Sons\\\\bas\\Bas27.wav ###\n",
      "MFCC:  (13, 52) len :  26460\n",
      "### .\\Sons\\\\bas\\Bas3.wav ###\n",
      "MFCC:  (13, 44) len :  22050\n",
      "### .\\Sons\\\\bas\\Bas4.wav ###\n",
      "MFCC:  (13, 44) len :  22050\n",
      "### .\\Sons\\\\bas\\Bas5.wav ###\n",
      "MFCC:  (13, 44) len :  22050\n",
      "### .\\Sons\\\\bas\\Bas6.wav ###\n",
      "MFCC:  (13, 35) len :  17640\n",
      "### .\\Sons\\\\bas\\Bas7.wav ###\n",
      "MFCC:  (13, 99) len :  50274\n",
      "### .\\Sons\\\\bas\\Bas8.wav ###\n",
      "MFCC:  (13, 69) len :  34816\n",
      "### .\\Sons\\\\bas\\Bas9.wav ###\n",
      "MFCC:  (13, 86) len :  43520\n",
      "### .\\Sons\\\\bas\\V_Bas.wav ###\n",
      "MFCC:  (13, 120) len :  61152\n",
      "shape :  (80, 13)\n"
     ]
    }
   ],
   "source": [
    "lesMfccTest = np.empty(shape=(nb*len(classes), 13), dtype=float) \n",
    "verbose=True\n",
    "\n",
    "i=0\n",
    "for cl in classes:\n",
    "    listSons = glob.glob(basedir+ cl+\"/*.wav\")\n",
    "    for s in listSons[-nb:]:\n",
    "        if verbose:\n",
    "            print(\"###\",s,\"###\")\n",
    "        (sig,rate) = librosa.load(s)\n",
    "        mfcc_feat = librosa.feature.mfcc(sig,rate,n_mfcc=13)\n",
    "        if verbose:\n",
    "            print(\"MFCC: \", mfcc_feat.shape, \"len : \", len(sig))\n",
    "        lesMfccTest[i] = np.mean(mfcc_feat, axis=1)\n",
    "        i += 1\n",
    "\n",
    "if verbose:\n",
    "    print(\"shape : \",lesMfccTest.shape)\n",
    "    \n",
    "xTest = scaler.transform(lesMfccTest)\n",
    "yTest = []\n",
    "for clNumber in range(len(classes)):\n",
    "    yTest += [clNumber]*nb"
   ]
  },
  {
   "cell_type": "code",
   "execution_count": 31,
   "metadata": {
    "ExecuteTime": {
     "end_time": "2022-02-25T09:01:34.439586Z",
     "start_time": "2022-02-25T09:01:34.428698Z"
    }
   },
   "outputs": [
    {
     "name": "stdout",
     "output_type": "stream",
     "text": [
      "test F1 score =  0.6625\n",
      "test accuracy score =  0.6625\n"
     ]
    }
   ],
   "source": [
    "predTest = logisticRegr.predict(xTest)\n",
    "print(\"test F1 score = \", f1_score(yTest, predTest, average = 'micro'))\n",
    "print(\"test accuracy score = \", accuracy_score(yTest, predTest))\n"
   ]
  },
  {
   "cell_type": "code",
   "execution_count": 32,
   "metadata": {
    "ExecuteTime": {
     "end_time": "2022-02-25T09:01:40.027134Z",
     "start_time": "2022-02-25T09:01:39.899121Z"
    }
   },
   "outputs": [
    {
     "data": {
      "text/plain": "<Figure size 432x288 with 2 Axes>",
      "image/png": "[encoded data removed]"
     },
     "metadata": {
      "needs_background": "light"
     },
     "output_type": "display_data"
    }
   ],
   "source": [
    "cm = confusion_matrix(yTest, predTest, labels=[0,1,2,3])\n",
    "disp = ConfusionMatrixDisplay(confusion_matrix=cm, display_labels=classes)\n",
    "disp.plot()\n",
    "disp.ax_.set_title('Confusion matrix (test dataset)')\n",
    "plt.show()"
   ]
  },
  {
   "cell_type": "code",
   "execution_count": null,
   "outputs": [],
   "source": [],
   "metadata": {
    "collapsed": false,
    "pycharm": {
     "name": "#%%\n"
    }
   }
  }
 ],
 "metadata": {
  "hide_input": false,
  "kernelspec": {
   "display_name": "Python 3",
   "language": "python",
   "name": "python3"
  },
  "language_info": {
   "codemirror_mode": {
    "name": "ipython",
    "version": 3
   },
   "file_extension": ".py",
   "mimetype": "text/x-python",
   "name": "python",
   "nbconvert_exporter": "python",
   "pygments_lexer": "ipython3",
   "version": "3.8.10"
  },
  "latex_envs": {
   "LaTeX_envs_menu_present": true,
   "autoclose": false,
   "autocomplete": true,
   "bibliofile": "biblio.bib",
   "cite_by": "apalike",
   "current_citInitial": 1,
   "eqLabelWithNumbers": true,
   "eqNumInitial": 1,
   "hotkeys": {
    "equation": "Ctrl-E",
    "itemize": "Ctrl-I"
   },
   "labels_anchors": false,
   "latex_user_defs": false,
   "report_style_numbering": false,
   "user_envs_cfg": false
  },
  "varInspector": {
   "cols": {
    "lenName": 16,
    "lenType": 16,
    "lenVar": 40
   },
   "kernels_config": {
    "python": {
     "delete_cmd_postfix": "",
     "delete_cmd_prefix": "del ",
     "library": "var_list.py",
     "varRefreshCmd": "print(var_dic_list())"
    },
    "r": {
     "delete_cmd_postfix": ") ",
     "delete_cmd_prefix": "rm(",
     "library": "var_list.r",
     "varRefreshCmd": "cat(var_dic_list()) "
    }
   },
   "types_to_exclude": [
    "module",
    "function",
    "builtin_function_or_method",
    "instance",
    "_Feature"
   ],
   "window_display": false
  }
 },
 "nbformat": 4,
 "nbformat_minor": 4
}