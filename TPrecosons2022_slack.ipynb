{
 "cells": [
  {
   "cell_type": "markdown",
   "metadata": {},
   "source": [
    "# TP classification de sons à rendre\n",
    "\n",
    "Tom Bevan (tom.bevan@etu.unice.fr)\n",
    "Vinh Faucher (vinh.faucher@etu.unice.fr)\n",
    "\n",
    "Polytech SI3 - SSII - 2021-22"
   ]
  },
  {
   "cell_type": "markdown",
   "source": [
    "# Données\n",
    "\n",
    "Nous avons choisi 4 mots : gauche, droite, milieu, bas.\n",
    "Pour chaque mot, nous avons au minimum 31 enregistrements différents.\n",
    "Nous avons dû faire un prétraitement, afin notamment de convertir les fichiers en wav et pour certains de les découper."
   ],
   "metadata": {
    "collapsed": false,
    "pycharm": {
     "name": "#%% md\n"
    }
   }
  },
  {
   "cell_type": "code",
   "execution_count": 1,
   "metadata": {
    "ExecuteTime": {
     "end_time": "2022-02-25T08:49:55.796301Z",
     "start_time": "2022-02-25T08:49:55.791554Z"
    }
   },
   "outputs": [],
   "source": [
    "#les imports nécessaires pour la suite\n",
    "import matplotlib.pyplot as plt\n",
    "import numpy as np \n",
    "import librosa\n",
    "import librosa.display\n",
    "import IPython.display as ipd\n",
    "import glob"
   ]
  },
  {
   "cell_type": "code",
   "execution_count": 2,
   "metadata": {
    "ExecuteTime": {
     "end_time": "2022-02-25T08:49:56.520153Z",
     "start_time": "2022-02-25T08:49:56.515470Z"
    }
   },
   "outputs": [
    {
     "name": "stdout",
     "output_type": "stream",
     "text": [
      "1.0.2\n"
     ]
    }
   ],
   "source": [
    "import sklearn\n",
    "print(sklearn.__version__)"
   ]
  },
  {
   "cell_type": "markdown",
   "metadata": {},
   "source": [
    "## Les données\n",
    "On va utiliser le jeu de données <a href=\"https://ai.googleblog.com/2017/08/launching-speech-commands-dataset.html\">\"speech commands\"</a>."
   ]
  },
  {
   "cell_type": "code",
   "execution_count": 3,
   "metadata": {
    "ExecuteTime": {
     "end_time": "2022-02-25T08:49:58.889474Z",
     "start_time": "2022-02-25T08:49:58.883203Z"
    }
   },
   "outputs": [],
   "source": [
    "basedir=\"./Sons/\"\n",
    "# à adapter selon l'ordinateur\n",
    "classes = [\"Gauche\", \"Droite\", \"Milieu\", \"Bas\"] #Nos classes"
   ]
  },
  {
   "cell_type": "code",
   "execution_count": 4,
   "metadata": {
    "ExecuteTime": {
     "end_time": "2022-02-25T08:50:00.023621Z",
     "start_time": "2022-02-25T08:49:59.985871Z"
    }
   },
   "outputs": [
    {
     "name": "stdout",
     "output_type": "stream",
     "text": [
      "33 sons de la classe  Gauche\n",
      "35 sons de la classe  Droite\n",
      "31 sons de la classe  Milieu\n",
      "33 sons de la classe  Bas\n"
     ]
    }
   ],
   "source": [
    "for cl in classes:\n",
    "    listSons = glob.glob(basedir+cl+\"/*.wav\")\n",
    "    print(len(listSons), \"sons de la classe \", cl)"
   ]
  },
  {
   "cell_type": "markdown",
   "source": [
    "### On commence avec un seul son (au choix)\n",
    "Charger le son"
   ],
   "metadata": {
    "collapsed": false
   }
  },
  {
   "cell_type": "code",
   "execution_count": 5,
   "outputs": [],
   "source": [
    "y, sr = librosa.load(listSons[0])"
   ],
   "metadata": {
    "collapsed": false,
    "pycharm": {
     "name": "#%%\n"
    }
   }
  },
  {
   "cell_type": "markdown",
   "metadata": {},
   "source": [
    "### Calcul des MFCCs du son"
   ]
  },
  {
   "cell_type": "code",
   "execution_count": 6,
   "metadata": {
    "ExecuteTime": {
     "end_time": "2022-02-25T08:50:37.891293Z",
     "start_time": "2022-02-25T08:50:37.874734Z"
    }
   },
   "outputs": [],
   "source": [
    "mfccFeatures = librosa.feature.mfcc(y,sr,n_mfcc=13)"
   ]
  },
  {
   "cell_type": "code",
   "execution_count": 7,
   "metadata": {
    "ExecuteTime": {
     "end_time": "2022-02-25T08:50:42.950247Z",
     "start_time": "2022-02-25T08:50:42.942686Z"
    }
   },
   "outputs": [
    {
     "data": {
      "text/plain": "(13, 61)"
     },
     "execution_count": 7,
     "metadata": {},
     "output_type": "execute_result"
    }
   ],
   "source": [
    "mfccFeatures.shape"
   ]
  },
  {
   "cell_type": "markdown",
   "metadata": {},
   "source": [
    "## Calcul des MFCCs de tous les sons"
   ]
  },
  {
   "cell_type": "markdown",
   "metadata": {},
   "source": [
    "### On va partir d'une base de 24 sons de chaque classe"
   ]
  },
  {
   "cell_type": "code",
   "execution_count": 8,
   "metadata": {
    "ExecuteTime": {
     "end_time": "2022-02-25T08:53:44.486149Z",
     "start_time": "2022-02-25T08:53:42.913609Z"
    }
   },
   "outputs": [
    {
     "name": "stdout",
     "output_type": "stream",
     "text": [
      "### ./Sons/Gauche\\AM_gauche.wav ###\n",
      "MFCC:  (13, 69) longueur du son :  35280\n",
      "### ./Sons/Gauche\\AP_Gauche.wav ###\n",
      "MFCC:  (13, 74) longueur du son :  37632\n",
      "### ./Sons/Gauche\\A_Gauche.wav ###\n",
      "MFCC:  (13, 65) longueur du son :  32928\n",
      "### ./Sons/Gauche\\Gauche1.wav ###\n",
      "MFCC:  (13, 108) longueur du son :  55125\n",
      "### ./Sons/Gauche\\Gauche10.wav ###\n",
      "MFCC:  (13, 68) longueur du son :  34304\n",
      "### ./Sons/Gauche\\Gauche11.wav ###\n",
      "MFCC:  (13, 164) longueur du son :  83456\n",
      "### ./Sons/Gauche\\Gauche12.wav ###\n",
      "MFCC:  (13, 44) longueur du son :  22050\n",
      "### ./Sons/Gauche\\Gauche13.wav ###\n",
      "MFCC:  (13, 35) longueur du son :  17640\n",
      "### ./Sons/Gauche\\Gauche14.wav ###\n",
      "MFCC:  (13, 44) longueur du son :  22051\n",
      "### ./Sons/Gauche\\Gauche15.wav ###\n",
      "MFCC:  (13, 35) longueur du son :  17643\n",
      "### ./Sons/Gauche\\Gauche16.wav ###\n",
      "MFCC:  (13, 44) longueur du son :  22053\n",
      "### ./Sons/Gauche\\Gauche17.wav ###\n",
      "MFCC:  (13, 83) longueur du son :  41984\n",
      "### ./Sons/Gauche\\Gauche18.wav ###\n",
      "MFCC:  (13, 64) longueur du son :  32256\n",
      "### ./Sons/Gauche\\Gauche19.wav ###\n",
      "MFCC:  (13, 64) longueur du son :  32256\n",
      "### ./Sons/Gauche\\Gauche2.wav ###\n",
      "MFCC:  (13, 31) longueur du son :  15435\n",
      "### ./Sons/Gauche\\Gauche20.wav ###\n",
      "MFCC:  (13, 64) longueur du son :  32256\n",
      "### ./Sons/Gauche\\Gauche21.wav ###\n",
      "MFCC:  (13, 98) longueur du son :  49664\n",
      "### ./Sons/Gauche\\Gauche22.wav ###\n",
      "MFCC:  (13, 49) longueur du son :  24576\n",
      "### ./Sons/Gauche\\Gauche23.wav ###\n",
      "MFCC:  (13, 75) longueur du son :  37888\n",
      "### ./Sons/Gauche\\Gauche24.wav ###\n",
      "MFCC:  (13, 59) longueur du son :  29696\n",
      "### ./Sons/Gauche\\Gauche25.wav ###\n",
      "MFCC:  (13, 87) longueur du son :  44100\n",
      "### ./Sons/Gauche\\Gauche26.wav ###\n",
      "MFCC:  (13, 44) longueur du son :  22053\n",
      "### ./Sons/Gauche\\Gauche27.wav ###\n",
      "MFCC:  (13, 61) longueur du son :  30870\n",
      "### ./Sons/Gauche\\Gauche28.wav ###\n",
      "MFCC:  (13, 100) longueur du son :  50715\n",
      "### ./Sons/Droite\\AM_droite.wav ###\n",
      "MFCC:  (13, 57) longueur du son :  29165\n",
      "### ./Sons/Droite\\AP_Droite.wav ###\n",
      "MFCC:  (13, 65) longueur du son :  32928\n",
      "### ./Sons/Droite\\A_Droite.wav ###\n",
      "MFCC:  (13, 62) longueur du son :  31517\n",
      "### ./Sons/Droite\\Droite1.wav ###\n",
      "MFCC:  (13, 151) longueur du son :  77175\n",
      "### ./Sons/Droite\\Droite10.wav ###\n",
      "MFCC:  (13, 86) longueur du son :  43520\n",
      "### ./Sons/Droite\\Droite11.wav ###\n",
      "MFCC:  (13, 72) longueur du son :  36352\n",
      "### ./Sons/Droite\\Droite12.wav ###\n",
      "MFCC:  (13, 160) longueur du son :  81408\n",
      "### ./Sons/Droite\\Droite13.wav ###\n",
      "MFCC:  (13, 160) longueur du son :  81408\n",
      "### ./Sons/Droite\\Droite14.wav ###\n",
      "MFCC:  (13, 52) longueur du son :  26460\n",
      "### ./Sons/Droite\\Droite15.wav ###\n",
      "MFCC:  (13, 52) longueur du son :  26460\n",
      "### ./Sons/Droite\\Droite16.wav ###\n",
      "MFCC:  (13, 52) longueur du son :  26461\n",
      "### ./Sons/Droite\\Droite17.wav ###\n",
      "MFCC:  (13, 52) longueur du son :  26460\n",
      "### ./Sons/Droite\\Droite18.wav ###\n",
      "MFCC:  (13, 44) longueur du son :  22050\n",
      "### ./Sons/Droite\\Droite19.wav ###\n",
      "MFCC:  (13, 78) longueur du son :  39424\n",
      "### ./Sons/Droite\\Droite2.wav ###\n",
      "MFCC:  (13, 44) longueur du son :  22050\n",
      "### ./Sons/Droite\\Droite20.wav ###\n",
      "MFCC:  (13, 73) longueur du son :  36864\n",
      "### ./Sons/Droite\\Droite21.wav ###\n",
      "MFCC:  (13, 73) longueur du son :  36864\n",
      "### ./Sons/Droite\\Droite22.wav ###\n",
      "MFCC:  (13, 104) longueur du son :  52736\n",
      "### ./Sons/Droite\\Droite23.wav ###\n",
      "MFCC:  (13, 48) longueur du son :  24064\n",
      "### ./Sons/Droite\\Droite24.wav ###\n",
      "MFCC:  (13, 90) longueur du son :  45568\n",
      "### ./Sons/Droite\\Droite25.wav ###\n",
      "MFCC:  (13, 64) longueur du son :  32256\n",
      "### ./Sons/Droite\\Droite26.wav ###\n",
      "MFCC:  (13, 87) longueur du son :  44100\n",
      "### ./Sons/Droite\\Droite27.wav ###\n",
      "MFCC:  (13, 44) longueur du son :  22050\n",
      "### ./Sons/Droite\\Droite28.wav ###\n",
      "MFCC:  (13, 56) longueur du son :  28665\n",
      "### ./Sons/Milieu\\AM_milieu.wav ###\n",
      "MFCC:  (13, 53) longueur du son :  26813\n",
      "### ./Sons/Milieu\\AP_Milieu.wav ###\n",
      "MFCC:  (13, 76) longueur du son :  38573\n",
      "### ./Sons/Milieu\\A_Milieu.wav ###\n",
      "MFCC:  (13, 71) longueur du son :  36221\n",
      "### ./Sons/Milieu\\Milieu1.wav ###\n",
      "MFCC:  (13, 119) longueur du son :  60811\n",
      "### ./Sons/Milieu\\Milieu10.wav ###\n",
      "MFCC:  (13, 85) longueur du son :  43008\n",
      "### ./Sons/Milieu\\Milieu11.wav ###\n",
      "MFCC:  (13, 120) longueur du son :  60928\n",
      "### ./Sons/Milieu\\Milieu12.wav ###\n",
      "MFCC:  (13, 62) longueur du son :  31287\n",
      "### ./Sons/Milieu\\Milieu13.wav ###\n",
      "MFCC:  (13, 54) longueur du son :  27348\n",
      "### ./Sons/Milieu\\Milieu14.wav ###\n",
      "MFCC:  (13, 54) longueur du son :  27503\n",
      "### ./Sons/Milieu\\Milieu15.wav ###\n",
      "MFCC:  (13, 60) longueur du son :  30220\n",
      "### ./Sons/Milieu\\Milieu16.wav ###\n",
      "MFCC:  (13, 55) longueur du son :  27742\n",
      "### ./Sons/Milieu\\Milieu17.wav ###\n",
      "MFCC:  (13, 73) longueur du son :  36864\n",
      "### ./Sons/Milieu\\Milieu18.wav ###\n",
      "MFCC:  (13, 118) longueur du son :  59904\n",
      "### ./Sons/Milieu\\Milieu19.wav ###\n",
      "MFCC:  (13, 79) longueur du son :  39936\n",
      "### ./Sons/Milieu\\Milieu2.wav ###\n",
      "MFCC:  (13, 51) longueur du son :  25972\n",
      "### ./Sons/Milieu\\Milieu20.wav ###\n",
      "MFCC:  (13, 78) longueur du son :  39424\n",
      "### ./Sons/Milieu\\Milieu21.wav ###\n",
      "MFCC:  (13, 98) longueur du son :  49664\n",
      "### ./Sons/Milieu\\Milieu22.wav ###\n",
      "MFCC:  (13, 108) longueur du son :  54784\n",
      "### ./Sons/Milieu\\Milieu23.wav ###\n",
      "MFCC:  (13, 59) longueur du son :  29906\n",
      "### ./Sons/Milieu\\Milieu24.wav ###\n",
      "MFCC:  (13, 75) longueur du son :  38264\n",
      "### ./Sons/Milieu\\Milieu25.wav ###\n",
      "MFCC:  (13, 44) longueur du son :  22050\n",
      "### ./Sons/Milieu\\Milieu3.wav ###\n",
      "MFCC:  (13, 43) longueur du son :  21562\n",
      "### ./Sons/Milieu\\milieu30.wav ###\n",
      "MFCC:  (13, 57) longueur du son :  28981\n",
      "### ./Sons/Milieu\\milieu31.wav ###\n",
      "MFCC:  (13, 68) longueur du son :  34535\n",
      "### ./Sons/Bas\\AM_bas.wav ###\n",
      "MFCC:  (13, 61) longueur du son :  31047\n",
      "### ./Sons/Bas\\AP_Bas.wav ###\n",
      "MFCC:  (13, 48) longueur du son :  24461\n",
      "### ./Sons/Bas\\A_Bas.wav ###\n",
      "MFCC:  (13, 61) longueur du son :  31047\n",
      "### ./Sons/Bas\\Bas1.wav ###\n",
      "MFCC:  (13, 44) longueur du son :  22050\n",
      "### ./Sons/Bas\\Bas10.wav ###\n",
      "MFCC:  (13, 68) longueur du son :  34304\n",
      "### ./Sons/Bas\\Bas11.wav ###\n",
      "MFCC:  (13, 130) longueur du son :  66048\n",
      "### ./Sons/Bas\\Bas12.wav ###\n",
      "MFCC:  (13, 31) longueur du son :  15435\n",
      "### ./Sons/Bas\\Bas13.wav ###\n",
      "MFCC:  (13, 35) longueur du son :  17640\n",
      "### ./Sons/Bas\\Bas14.wav ###\n",
      "MFCC:  (13, 33) longueur du son :  16538\n",
      "### ./Sons/Bas\\Bas15.wav ###\n",
      "MFCC:  (13, 31) longueur du son :  15438\n",
      "### ./Sons/Bas\\Bas16.wav ###\n",
      "MFCC:  (13, 44) longueur du son :  22050\n",
      "### ./Sons/Bas\\Bas17.wav ###\n",
      "MFCC:  (13, 54) longueur du son :  27136\n",
      "### ./Sons/Bas\\Bas18.wav ###\n",
      "MFCC:  (13, 65) longueur du son :  32768\n",
      "### ./Sons/Bas\\Bas19.wav ###\n",
      "MFCC:  (13, 54) longueur du son :  27136\n",
      "### ./Sons/Bas\\Bas2.wav ###\n",
      "MFCC:  (13, 26) longueur du son :  13230\n",
      "### ./Sons/Bas\\Bas20.wav ###\n",
      "MFCC:  (13, 106) longueur du son :  53760\n",
      "### ./Sons/Bas\\Bas21.wav ###\n",
      "MFCC:  (13, 73) longueur du son :  36864\n",
      "### ./Sons/Bas\\Bas22.wav ###\n",
      "MFCC:  (13, 65) longueur du son :  32768\n",
      "### ./Sons/Bas\\Bas23.wav ###\n",
      "MFCC:  (13, 103) longueur du son :  52224\n",
      "### ./Sons/Bas\\Bas24.wav ###\n",
      "MFCC:  (13, 93) longueur du son :  47104\n",
      "### ./Sons/Bas\\Bas25.wav ###\n",
      "MFCC:  (13, 33) longueur du son :  16538\n",
      "### ./Sons/Bas\\Bas26.wav ###\n",
      "MFCC:  (13, 48) longueur du son :  24255\n",
      "### ./Sons/Bas\\Bas27.wav ###\n",
      "MFCC:  (13, 52) longueur du son :  26460\n",
      "### ./Sons/Bas\\Bas3.wav ###\n",
      "MFCC:  (13, 44) longueur du son :  22050\n"
     ]
    }
   ],
   "source": [
    "nb=24\n",
    "nbMFCCtotal = 0\n",
    "\n",
    "for cl in classes:\n",
    "    listSons = glob.glob(basedir+ cl+\"/*.wav\")\n",
    "    for s in listSons[:nb]:\n",
    "        print(\"###\",s,\"###\")\n",
    "        (sig,rate) = librosa.load(s)\n",
    "        mfcc_feat = librosa.feature.mfcc(sig,rate,n_mfcc=13)\n",
    "        print(\"MFCC: \", mfcc_feat.shape, \"longueur du son : \", len(sig))\n",
    "        nbMFCCtotal += mfcc_feat.shape[1]\n"
   ]
  },
  {
   "cell_type": "code",
   "execution_count": 9,
   "metadata": {
    "ExecuteTime": {
     "end_time": "2022-02-25T08:58:05.449331Z",
     "start_time": "2022-02-25T08:58:03.653875Z"
    }
   },
   "outputs": [
    {
     "name": "stdout",
     "output_type": "stream",
     "text": [
      "### ./Sons/Gauche\\AM_gauche.wav ###\n",
      "MFCC:  (13, 69) len :  35280\n",
      "### ./Sons/Gauche\\AP_Gauche.wav ###\n",
      "MFCC:  (13, 74) len :  37632\n",
      "### ./Sons/Gauche\\A_Gauche.wav ###\n",
      "MFCC:  (13, 65) len :  32928\n",
      "### ./Sons/Gauche\\Gauche1.wav ###\n",
      "MFCC:  (13, 108) len :  55125\n",
      "### ./Sons/Gauche\\Gauche10.wav ###\n",
      "MFCC:  (13, 68) len :  34304\n",
      "### ./Sons/Gauche\\Gauche11.wav ###\n",
      "MFCC:  (13, 164) len :  83456\n",
      "### ./Sons/Gauche\\Gauche12.wav ###\n",
      "MFCC:  (13, 44) len :  22050\n",
      "### ./Sons/Gauche\\Gauche13.wav ###\n",
      "MFCC:  (13, 35) len :  17640\n",
      "### ./Sons/Gauche\\Gauche14.wav ###\n",
      "MFCC:  (13, 44) len :  22051\n",
      "### ./Sons/Gauche\\Gauche15.wav ###\n",
      "MFCC:  (13, 35) len :  17643\n",
      "### ./Sons/Gauche\\Gauche16.wav ###\n",
      "MFCC:  (13, 44) len :  22053\n",
      "### ./Sons/Gauche\\Gauche17.wav ###\n",
      "MFCC:  (13, 83) len :  41984\n",
      "### ./Sons/Gauche\\Gauche18.wav ###\n",
      "MFCC:  (13, 64) len :  32256\n",
      "### ./Sons/Gauche\\Gauche19.wav ###\n",
      "MFCC:  (13, 64) len :  32256\n",
      "### ./Sons/Gauche\\Gauche2.wav ###\n",
      "MFCC:  (13, 31) len :  15435\n",
      "### ./Sons/Gauche\\Gauche20.wav ###\n",
      "MFCC:  (13, 64) len :  32256\n",
      "### ./Sons/Gauche\\Gauche21.wav ###\n",
      "MFCC:  (13, 98) len :  49664\n",
      "### ./Sons/Gauche\\Gauche22.wav ###\n",
      "MFCC:  (13, 49) len :  24576\n",
      "### ./Sons/Gauche\\Gauche23.wav ###\n",
      "MFCC:  (13, 75) len :  37888\n",
      "### ./Sons/Gauche\\Gauche24.wav ###\n",
      "MFCC:  (13, 59) len :  29696\n",
      "### ./Sons/Gauche\\Gauche25.wav ###\n",
      "MFCC:  (13, 87) len :  44100\n",
      "### ./Sons/Gauche\\Gauche26.wav ###\n",
      "MFCC:  (13, 44) len :  22053\n",
      "### ./Sons/Gauche\\Gauche27.wav ###\n",
      "MFCC:  (13, 61) len :  30870\n",
      "### ./Sons/Gauche\\Gauche28.wav ###\n",
      "MFCC:  (13, 100) len :  50715\n",
      "### ./Sons/Droite\\AM_droite.wav ###\n",
      "MFCC:  (13, 57) len :  29165\n",
      "### ./Sons/Droite\\AP_Droite.wav ###\n",
      "MFCC:  (13, 65) len :  32928\n",
      "### ./Sons/Droite\\A_Droite.wav ###\n",
      "MFCC:  (13, 62) len :  31517\n",
      "### ./Sons/Droite\\Droite1.wav ###\n",
      "MFCC:  (13, 151) len :  77175\n",
      "### ./Sons/Droite\\Droite10.wav ###\n",
      "MFCC:  (13, 86) len :  43520\n",
      "### ./Sons/Droite\\Droite11.wav ###\n",
      "MFCC:  (13, 72) len :  36352\n",
      "### ./Sons/Droite\\Droite12.wav ###\n",
      "MFCC:  (13, 160) len :  81408\n",
      "### ./Sons/Droite\\Droite13.wav ###\n",
      "MFCC:  (13, 160) len :  81408\n",
      "### ./Sons/Droite\\Droite14.wav ###\n",
      "MFCC:  (13, 52) len :  26460\n",
      "### ./Sons/Droite\\Droite15.wav ###\n",
      "MFCC:  (13, 52) len :  26460\n",
      "### ./Sons/Droite\\Droite16.wav ###\n",
      "MFCC:  (13, 52) len :  26461\n",
      "### ./Sons/Droite\\Droite17.wav ###\n",
      "MFCC:  (13, 52) len :  26460\n",
      "### ./Sons/Droite\\Droite18.wav ###\n",
      "MFCC:  (13, 44) len :  22050\n",
      "### ./Sons/Droite\\Droite19.wav ###\n",
      "MFCC:  (13, 78) len :  39424\n",
      "### ./Sons/Droite\\Droite2.wav ###\n",
      "MFCC:  (13, 44) len :  22050\n",
      "### ./Sons/Droite\\Droite20.wav ###\n",
      "MFCC:  (13, 73) len :  36864\n",
      "### ./Sons/Droite\\Droite21.wav ###\n",
      "MFCC:  (13, 73) len :  36864\n",
      "### ./Sons/Droite\\Droite22.wav ###\n",
      "MFCC:  (13, 104) len :  52736\n",
      "### ./Sons/Droite\\Droite23.wav ###\n",
      "MFCC:  (13, 48) len :  24064\n",
      "### ./Sons/Droite\\Droite24.wav ###\n",
      "MFCC:  (13, 90) len :  45568\n",
      "### ./Sons/Droite\\Droite25.wav ###\n",
      "MFCC:  (13, 64) len :  32256\n",
      "### ./Sons/Droite\\Droite26.wav ###\n",
      "MFCC:  (13, 87) len :  44100\n",
      "### ./Sons/Droite\\Droite27.wav ###\n",
      "MFCC:  (13, 44) len :  22050\n",
      "### ./Sons/Droite\\Droite28.wav ###\n",
      "MFCC:  (13, 56) len :  28665\n",
      "### ./Sons/Milieu\\AM_milieu.wav ###\n",
      "MFCC:  (13, 53) len :  26813\n",
      "### ./Sons/Milieu\\AP_Milieu.wav ###\n",
      "MFCC:  (13, 76) len :  38573\n",
      "### ./Sons/Milieu\\A_Milieu.wav ###\n",
      "MFCC:  (13, 71) len :  36221\n",
      "### ./Sons/Milieu\\Milieu1.wav ###\n",
      "MFCC:  (13, 119) len :  60811\n",
      "### ./Sons/Milieu\\Milieu10.wav ###\n",
      "MFCC:  (13, 85) len :  43008\n",
      "### ./Sons/Milieu\\Milieu11.wav ###\n",
      "MFCC:  (13, 120) len :  60928\n",
      "### ./Sons/Milieu\\Milieu12.wav ###\n",
      "MFCC:  (13, 62) len :  31287\n",
      "### ./Sons/Milieu\\Milieu13.wav ###\n",
      "MFCC:  (13, 54) len :  27348\n",
      "### ./Sons/Milieu\\Milieu14.wav ###\n",
      "MFCC:  (13, 54) len :  27503\n",
      "### ./Sons/Milieu\\Milieu15.wav ###\n",
      "MFCC:  (13, 60) len :  30220\n",
      "### ./Sons/Milieu\\Milieu16.wav ###\n",
      "MFCC:  (13, 55) len :  27742\n",
      "### ./Sons/Milieu\\Milieu17.wav ###\n",
      "MFCC:  (13, 73) len :  36864\n",
      "### ./Sons/Milieu\\Milieu18.wav ###\n",
      "MFCC:  (13, 118) len :  59904\n",
      "### ./Sons/Milieu\\Milieu19.wav ###\n",
      "MFCC:  (13, 79) len :  39936\n",
      "### ./Sons/Milieu\\Milieu2.wav ###\n",
      "MFCC:  (13, 51) len :  25972\n",
      "### ./Sons/Milieu\\Milieu20.wav ###\n",
      "MFCC:  (13, 78) len :  39424\n",
      "### ./Sons/Milieu\\Milieu21.wav ###\n",
      "MFCC:  (13, 98) len :  49664\n",
      "### ./Sons/Milieu\\Milieu22.wav ###\n",
      "MFCC:  (13, 108) len :  54784\n",
      "### ./Sons/Milieu\\Milieu23.wav ###\n",
      "MFCC:  (13, 59) len :  29906\n",
      "### ./Sons/Milieu\\Milieu24.wav ###\n",
      "MFCC:  (13, 75) len :  38264\n",
      "### ./Sons/Milieu\\Milieu25.wav ###\n",
      "MFCC:  (13, 44) len :  22050\n",
      "### ./Sons/Milieu\\Milieu3.wav ###\n",
      "MFCC:  (13, 43) len :  21562\n",
      "### ./Sons/Milieu\\milieu30.wav ###\n",
      "MFCC:  (13, 57) len :  28981\n",
      "### ./Sons/Milieu\\milieu31.wav ###\n",
      "MFCC:  (13, 68) len :  34535\n",
      "### ./Sons/Bas\\AM_bas.wav ###\n",
      "MFCC:  (13, 61) len :  31047\n",
      "### ./Sons/Bas\\AP_Bas.wav ###\n",
      "MFCC:  (13, 48) len :  24461\n",
      "### ./Sons/Bas\\A_Bas.wav ###\n",
      "MFCC:  (13, 61) len :  31047\n",
      "### ./Sons/Bas\\Bas1.wav ###\n",
      "MFCC:  (13, 44) len :  22050\n",
      "### ./Sons/Bas\\Bas10.wav ###\n",
      "MFCC:  (13, 68) len :  34304\n",
      "### ./Sons/Bas\\Bas11.wav ###\n",
      "MFCC:  (13, 130) len :  66048\n",
      "### ./Sons/Bas\\Bas12.wav ###\n",
      "MFCC:  (13, 31) len :  15435\n",
      "### ./Sons/Bas\\Bas13.wav ###\n",
      "MFCC:  (13, 35) len :  17640\n",
      "### ./Sons/Bas\\Bas14.wav ###\n",
      "MFCC:  (13, 33) len :  16538\n",
      "### ./Sons/Bas\\Bas15.wav ###\n",
      "MFCC:  (13, 31) len :  15438\n",
      "### ./Sons/Bas\\Bas16.wav ###\n",
      "MFCC:  (13, 44) len :  22050\n",
      "### ./Sons/Bas\\Bas17.wav ###\n",
      "MFCC:  (13, 54) len :  27136\n",
      "### ./Sons/Bas\\Bas18.wav ###\n",
      "MFCC:  (13, 65) len :  32768\n",
      "### ./Sons/Bas\\Bas19.wav ###\n",
      "MFCC:  (13, 54) len :  27136\n",
      "### ./Sons/Bas\\Bas2.wav ###\n",
      "MFCC:  (13, 26) len :  13230\n",
      "### ./Sons/Bas\\Bas20.wav ###\n",
      "MFCC:  (13, 106) len :  53760\n",
      "### ./Sons/Bas\\Bas21.wav ###\n",
      "MFCC:  (13, 73) len :  36864\n",
      "### ./Sons/Bas\\Bas22.wav ###\n",
      "MFCC:  (13, 65) len :  32768\n",
      "### ./Sons/Bas\\Bas23.wav ###\n",
      "MFCC:  (13, 103) len :  52224\n",
      "### ./Sons/Bas\\Bas24.wav ###\n",
      "MFCC:  (13, 93) len :  47104\n",
      "### ./Sons/Bas\\Bas25.wav ###\n",
      "MFCC:  (13, 33) len :  16538\n",
      "### ./Sons/Bas\\Bas26.wav ###\n",
      "MFCC:  (13, 48) len :  24255\n",
      "### ./Sons/Bas\\Bas27.wav ###\n",
      "MFCC:  (13, 52) len :  26460\n",
      "### ./Sons/Bas\\Bas3.wav ###\n",
      "MFCC:  (13, 44) len :  22050\n",
      "shape :  (96, 13)\n"
     ]
    }
   ],
   "source": [
    "lesMfcc = np.empty(shape=(nb*len(classes), 13), dtype=float) \n",
    "verbose=True\n",
    "\n",
    "i=0\n",
    "for cl in classes:\n",
    "    listSons = glob.glob(basedir+cl+\"/*.wav\")\n",
    "    for s in listSons[:nb]:\n",
    "        if verbose:\n",
    "            print(\"###\",s,\"###\")\n",
    "        (sig,rate) = librosa.load(s)\n",
    "        mfcc_feat = librosa.feature.mfcc(sig,rate,n_mfcc=13)\n",
    "        if verbose:\n",
    "            print(\"MFCC: \", mfcc_feat.shape, \"len : \", len(sig))\n",
    "        lesMfcc[i] = np.mean(mfcc_feat, axis=1)\n",
    "        i += 1\n",
    "\n",
    "if verbose:\n",
    "    print(\"shape : \",lesMfcc.shape)\n"
   ]
  },
  {
   "cell_type": "markdown",
   "metadata": {},
   "source": [
    "### Classification linéaire des sons"
   ]
  },
  {
   "cell_type": "markdown",
   "metadata": {},
   "source": [
    "Il ne reste plus que l'étape de classification des sons. On va utiliser pour cela une méthode simple de classification linéaire: <a href=\"https://scikit-learn.org/stable/modules/generated/sklearn.linear_model.LogisticRegression.html\">la régression logistique</a>."
   ]
  },
  {
   "cell_type": "code",
   "execution_count": 10,
   "metadata": {
    "ExecuteTime": {
     "end_time": "2022-02-25T08:58:13.600739Z",
     "start_time": "2022-02-25T08:58:13.597649Z"
    }
   },
   "outputs": [],
   "source": [
    "from sklearn.linear_model import LogisticRegression"
   ]
  },
  {
   "cell_type": "code",
   "execution_count": 11,
   "outputs": [
    {
     "name": "stderr",
     "output_type": "stream",
     "text": [
      "C:\\Users\\Vinh\\AppData\\Local\\Programs\\Python\\Python310\\lib\\site-packages\\sklearn\\linear_model\\_logistic.py:814: ConvergenceWarning: lbfgs failed to converge (status=1):\n",
      "STOP: TOTAL NO. of ITERATIONS REACHED LIMIT.\n",
      "\n",
      "Increase the number of iterations (max_iter) or scale the data as shown in:\n",
      "    https://scikit-learn.org/stable/modules/preprocessing.html\n",
      "Please also refer to the documentation for alternative solver options:\n",
      "    https://scikit-learn.org/stable/modules/linear_model.html#logistic-regression\n",
      "  n_iter_i = _check_optimize_result(\n"
     ]
    },
    {
     "data": {
      "text/plain": "LogisticRegression()"
     },
     "execution_count": 11,
     "metadata": {},
     "output_type": "execute_result"
    }
   ],
   "source": [
    "# création de l'objet de regression logistique\n",
    "logisticRegr = LogisticRegression()\n",
    "\n",
    "# classes des sons:\n",
    "yTrain = []\n",
    "for clNumber in range(len(classes)):\n",
    "    yTrain += [clNumber]*nb\n",
    "\n",
    "# apprentissage de la séparation en utilisation des données pour lesquelles on connait la classe\n",
    "logisticRegr.fit(lesMfcc, yTrain)\n"
   ],
   "metadata": {
    "collapsed": false,
    "pycharm": {
     "name": "#%%\n"
    }
   }
  },
  {
   "cell_type": "code",
   "execution_count": 12,
   "metadata": {
    "ExecuteTime": {
     "end_time": "2022-02-25T08:59:45.739936Z",
     "start_time": "2022-02-25T08:59:45.735686Z"
    }
   },
   "outputs": [
    {
     "name": "stdout",
     "output_type": "stream",
     "text": [
      "[-4.78574109e+02  8.48325775e+01  1.50443787e+01  1.83302242e+01\n",
      "  2.55594794e+00  6.14859614e+00 -2.17643263e+00 -2.54853707e-01\n",
      " -4.22506791e+00  4.49146098e-01 -2.89862999e+00 -3.47633045e-01\n",
      " -3.74531842e+00]\n",
      "[78.45399078 27.05161594 11.70750327 12.4709003  10.52341361  7.79785018\n",
      "  7.31325653  7.10183625  5.94089722  4.9692214   6.38911479  4.84522938\n",
      "  4.26318789]\n"
     ]
    }
   ],
   "source": [
    "from sklearn import preprocessing\n",
    "\n",
    "scaler = preprocessing.StandardScaler().fit(lesMfcc)\n",
    "\n",
    "print(scaler.mean_)\n",
    "print(scaler.scale_)\n",
    "\n",
    "xTrain = scaler.transform(lesMfcc)"
   ]
  },
  {
   "cell_type": "code",
   "execution_count": 13,
   "metadata": {
    "ExecuteTime": {
     "end_time": "2022-02-25T09:00:12.651229Z",
     "start_time": "2022-02-25T09:00:12.645985Z"
    }
   },
   "outputs": [],
   "source": [
    "from sklearn.metrics import f1_score, accuracy_score, confusion_matrix, ConfusionMatrixDisplay"
   ]
  },
  {
   "cell_type": "code",
   "execution_count": 14,
   "metadata": {
    "ExecuteTime": {
     "end_time": "2022-02-25T09:00:14.900690Z",
     "start_time": "2022-02-25T09:00:14.892372Z"
    }
   },
   "outputs": [
    {
     "name": "stdout",
     "output_type": "stream",
     "text": [
      "train F1 score =  0.71875\n",
      "train accuracy score =  0.71875\n"
     ]
    }
   ],
   "source": [
    "ypred = logisticRegr.predict(xTrain)\n",
    "print(\"train F1 score = \", f1_score(yTrain, ypred, average = 'micro'))\n",
    "print(\"train accuracy score = \", accuracy_score(yTrain, ypred))\n"
   ]
  },
  {
   "cell_type": "code",
   "execution_count": 15,
   "metadata": {
    "ExecuteTime": {
     "end_time": "2022-02-25T09:00:43.964577Z",
     "start_time": "2022-02-25T09:00:43.837453Z"
    }
   },
   "outputs": [
    {
     "data": {
      "text/plain": "<Figure size 432x288 with 2 Axes>",
      "image/png": "[encoded data removed]"
     },
     "metadata": {
      "needs_background": "light"
     },
     "output_type": "display_data"
    }
   ],
   "source": [
    "cm = confusion_matrix(yTrain, ypred, labels=[0,1,2,3])\n",
    "disp = ConfusionMatrixDisplay(confusion_matrix=cm, display_labels=classes)\n",
    "disp.plot()\n",
    "disp.ax_.set_title('Confusion matrix (train dataset)')\n",
    "plt.show()"
   ]
  },
  {
   "cell_type": "markdown",
   "metadata": {},
   "source": [
    "### Evaluation de la classification"
   ]
  },
  {
   "cell_type": "markdown",
   "metadata": {},
   "source": [
    "Pour évaluer de façon juste, on va utiliser des sons qui n'ont pas déjà servi à l'apprentissage. On va par exemple prendre les nb derniers de chaque classe."
   ]
  },
  {
   "cell_type": "code",
   "execution_count": 16,
   "metadata": {
    "ExecuteTime": {
     "end_time": "2022-02-25T09:01:28.380732Z",
     "start_time": "2022-02-25T09:01:26.600587Z"
    },
    "scrolled": true
   },
   "outputs": [
    {
     "name": "stdout",
     "output_type": "stream",
     "text": [
      "### ./Sons/Gauche\\Gauche15.wav ###\n",
      "MFCC:  (13, 35) len :  17643\n",
      "### ./Sons/Gauche\\Gauche16.wav ###\n",
      "MFCC:  (13, 44) len :  22053\n",
      "### ./Sons/Gauche\\Gauche17.wav ###\n",
      "MFCC:  (13, 83) len :  41984\n",
      "### ./Sons/Gauche\\Gauche18.wav ###\n",
      "MFCC:  (13, 64) len :  32256\n",
      "### ./Sons/Gauche\\Gauche19.wav ###\n",
      "MFCC:  (13, 64) len :  32256\n",
      "### ./Sons/Gauche\\Gauche2.wav ###\n",
      "MFCC:  (13, 31) len :  15435\n",
      "### ./Sons/Gauche\\Gauche20.wav ###\n",
      "MFCC:  (13, 64) len :  32256\n",
      "### ./Sons/Gauche\\Gauche21.wav ###\n",
      "MFCC:  (13, 98) len :  49664\n",
      "### ./Sons/Gauche\\Gauche22.wav ###\n",
      "MFCC:  (13, 49) len :  24576\n",
      "### ./Sons/Gauche\\Gauche23.wav ###\n",
      "MFCC:  (13, 75) len :  37888\n",
      "### ./Sons/Gauche\\Gauche24.wav ###\n",
      "MFCC:  (13, 59) len :  29696\n",
      "### ./Sons/Gauche\\Gauche25.wav ###\n",
      "MFCC:  (13, 87) len :  44100\n",
      "### ./Sons/Gauche\\Gauche26.wav ###\n",
      "MFCC:  (13, 44) len :  22053\n",
      "### ./Sons/Gauche\\Gauche27.wav ###\n",
      "MFCC:  (13, 61) len :  30870\n",
      "### ./Sons/Gauche\\Gauche28.wav ###\n",
      "MFCC:  (13, 100) len :  50715\n",
      "### ./Sons/Gauche\\Gauche3.wav ###\n",
      "MFCC:  (13, 44) len :  22050\n",
      "### ./Sons/Gauche\\gauche30.wav ###\n",
      "MFCC:  (13, 54) len :  27427\n",
      "### ./Sons/Gauche\\Gauche4.wav ###\n",
      "MFCC:  (13, 52) len :  26460\n",
      "### ./Sons/Gauche\\Gauche5.wav ###\n",
      "MFCC:  (13, 44) len :  22050\n",
      "### ./Sons/Gauche\\Gauche6.wav ###\n",
      "MFCC:  (13, 65) len :  33075\n",
      "### ./Sons/Gauche\\Gauche7.wav ###\n",
      "MFCC:  (13, 103) len :  52479\n",
      "### ./Sons/Gauche\\Gauche8.wav ###\n",
      "MFCC:  (13, 82) len :  41472\n",
      "### ./Sons/Gauche\\Gauche9.wav ###\n",
      "MFCC:  (13, 82) len :  41472\n",
      "### ./Sons/Gauche\\V_Gauche.wav ###\n",
      "MFCC:  (13, 122) len :  62093\n",
      "### ./Sons/Droite\\Droite17.wav ###\n",
      "MFCC:  (13, 52) len :  26460\n",
      "### ./Sons/Droite\\Droite18.wav ###\n",
      "MFCC:  (13, 44) len :  22050\n",
      "### ./Sons/Droite\\Droite19.wav ###\n",
      "MFCC:  (13, 78) len :  39424\n",
      "### ./Sons/Droite\\Droite2.wav ###\n",
      "MFCC:  (13, 44) len :  22050\n",
      "### ./Sons/Droite\\Droite20.wav ###\n",
      "MFCC:  (13, 73) len :  36864\n",
      "### ./Sons/Droite\\Droite21.wav ###\n",
      "MFCC:  (13, 73) len :  36864\n",
      "### ./Sons/Droite\\Droite22.wav ###\n",
      "MFCC:  (13, 104) len :  52736\n",
      "### ./Sons/Droite\\Droite23.wav ###\n",
      "MFCC:  (13, 48) len :  24064\n",
      "### ./Sons/Droite\\Droite24.wav ###\n",
      "MFCC:  (13, 90) len :  45568\n",
      "### ./Sons/Droite\\Droite25.wav ###\n",
      "MFCC:  (13, 64) len :  32256\n",
      "### ./Sons/Droite\\Droite26.wav ###\n",
      "MFCC:  (13, 87) len :  44100\n",
      "### ./Sons/Droite\\Droite27.wav ###\n",
      "MFCC:  (13, 44) len :  22050\n",
      "### ./Sons/Droite\\Droite28.wav ###\n",
      "MFCC:  (13, 56) len :  28665\n",
      "### ./Sons/Droite\\Droite29.wav ###\n",
      "MFCC:  (13, 61) len :  30870\n",
      "### ./Sons/Droite\\Droite3.wav ###\n",
      "MFCC:  (13, 65) len :  33075\n",
      "### ./Sons/Droite\\droite30.wav ###\n",
      "MFCC:  (13, 63) len :  31910\n",
      "### ./Sons/Droite\\droite31.wav ###\n",
      "MFCC:  (13, 68) len :  34518\n",
      "### ./Sons/Droite\\Droite4.wav ###\n",
      "MFCC:  (13, 65) len :  33075\n",
      "### ./Sons/Droite\\Droite5.wav ###\n",
      "MFCC:  (13, 44) len :  22050\n",
      "### ./Sons/Droite\\Droite6.wav ###\n",
      "MFCC:  (13, 44) len :  22050\n",
      "### ./Sons/Droite\\Droite7.wav ###\n",
      "MFCC:  (13, 91) len :  46305\n",
      "### ./Sons/Droite\\Droite8.wav ###\n",
      "MFCC:  (13, 57) len :  28672\n",
      "### ./Sons/Droite\\Droite9.wav ###\n",
      "MFCC:  (13, 116) len :  58880\n",
      "### ./Sons/Droite\\V_Droite.wav ###\n",
      "MFCC:  (13, 108) len :  55037\n",
      "### ./Sons/Milieu\\Milieu13.wav ###\n",
      "MFCC:  (13, 54) len :  27348\n",
      "### ./Sons/Milieu\\Milieu14.wav ###\n",
      "MFCC:  (13, 54) len :  27503\n",
      "### ./Sons/Milieu\\Milieu15.wav ###\n",
      "MFCC:  (13, 60) len :  30220\n",
      "### ./Sons/Milieu\\Milieu16.wav ###\n",
      "MFCC:  (13, 55) len :  27742\n",
      "### ./Sons/Milieu\\Milieu17.wav ###\n",
      "MFCC:  (13, 73) len :  36864\n",
      "### ./Sons/Milieu\\Milieu18.wav ###\n",
      "MFCC:  (13, 118) len :  59904\n",
      "### ./Sons/Milieu\\Milieu19.wav ###\n",
      "MFCC:  (13, 79) len :  39936\n",
      "### ./Sons/Milieu\\Milieu2.wav ###\n",
      "MFCC:  (13, 51) len :  25972\n",
      "### ./Sons/Milieu\\Milieu20.wav ###\n",
      "MFCC:  (13, 78) len :  39424\n",
      "### ./Sons/Milieu\\Milieu21.wav ###\n",
      "MFCC:  (13, 98) len :  49664\n",
      "### ./Sons/Milieu\\Milieu22.wav ###\n",
      "MFCC:  (13, 108) len :  54784\n",
      "### ./Sons/Milieu\\Milieu23.wav ###\n",
      "MFCC:  (13, 59) len :  29906\n",
      "### ./Sons/Milieu\\Milieu24.wav ###\n",
      "MFCC:  (13, 75) len :  38264\n",
      "### ./Sons/Milieu\\Milieu25.wav ###\n",
      "MFCC:  (13, 44) len :  22050\n",
      "### ./Sons/Milieu\\Milieu3.wav ###\n",
      "MFCC:  (13, 43) len :  21562\n",
      "### ./Sons/Milieu\\milieu30.wav ###\n",
      "MFCC:  (13, 57) len :  28981\n",
      "### ./Sons/Milieu\\milieu31.wav ###\n",
      "MFCC:  (13, 68) len :  34535\n",
      "### ./Sons/Milieu\\Milieu4.wav ###\n",
      "MFCC:  (13, 68) len :  34696\n",
      "### ./Sons/Milieu\\Milieu5.wav ###\n",
      "MFCC:  (13, 23) len :  11764\n",
      "### ./Sons/Milieu\\Milieu6.wav ###\n",
      "MFCC:  (13, 36) len :  18379\n",
      "### ./Sons/Milieu\\Milieu7.wav ###\n",
      "MFCC:  (13, 84) len :  42777\n",
      "### ./Sons/Milieu\\Milieu8.wav ###\n",
      "MFCC:  (13, 94) len :  47616\n",
      "### ./Sons/Milieu\\Milieu9.wav ###\n",
      "MFCC:  (13, 82) len :  41472\n",
      "### ./Sons/Milieu\\V_Milieu.wav ###\n",
      "MFCC:  (13, 118) len :  60212\n",
      "### ./Sons/Bas\\Bas15.wav ###\n",
      "MFCC:  (13, 31) len :  15438\n",
      "### ./Sons/Bas\\Bas16.wav ###\n",
      "MFCC:  (13, 44) len :  22050\n",
      "### ./Sons/Bas\\Bas17.wav ###\n",
      "MFCC:  (13, 54) len :  27136\n",
      "### ./Sons/Bas\\Bas18.wav ###\n",
      "MFCC:  (13, 65) len :  32768\n",
      "### ./Sons/Bas\\Bas19.wav ###\n",
      "MFCC:  (13, 54) len :  27136\n",
      "### ./Sons/Bas\\Bas2.wav ###\n",
      "MFCC:  (13, 26) len :  13230\n",
      "### ./Sons/Bas\\Bas20.wav ###\n",
      "MFCC:  (13, 106) len :  53760\n",
      "### ./Sons/Bas\\Bas21.wav ###\n",
      "MFCC:  (13, 73) len :  36864\n",
      "### ./Sons/Bas\\Bas22.wav ###\n",
      "MFCC:  (13, 65) len :  32768\n",
      "### ./Sons/Bas\\Bas23.wav ###\n",
      "MFCC:  (13, 103) len :  52224\n",
      "### ./Sons/Bas\\Bas24.wav ###\n",
      "MFCC:  (13, 93) len :  47104\n",
      "### ./Sons/Bas\\Bas25.wav ###\n",
      "MFCC:  (13, 33) len :  16538\n",
      "### ./Sons/Bas\\Bas26.wav ###\n",
      "MFCC:  (13, 48) len :  24255\n",
      "### ./Sons/Bas\\Bas27.wav ###\n",
      "MFCC:  (13, 52) len :  26460\n",
      "### ./Sons/Bas\\Bas3.wav ###\n",
      "MFCC:  (13, 44) len :  22050\n",
      "### ./Sons/Bas\\bas30.wav ###\n",
      "MFCC:  (13, 62) len :  31703\n",
      "### ./Sons/Bas\\bas31.wav ###\n",
      "MFCC:  (13, 62) len :  31424\n",
      "### ./Sons/Bas\\Bas4.wav ###\n",
      "MFCC:  (13, 44) len :  22050\n",
      "### ./Sons/Bas\\Bas5.wav ###\n",
      "MFCC:  (13, 44) len :  22050\n",
      "### ./Sons/Bas\\Bas6.wav ###\n",
      "MFCC:  (13, 35) len :  17640\n",
      "### ./Sons/Bas\\Bas7.wav ###\n",
      "MFCC:  (13, 99) len :  50274\n",
      "### ./Sons/Bas\\Bas8.wav ###\n",
      "MFCC:  (13, 69) len :  34816\n",
      "### ./Sons/Bas\\Bas9.wav ###\n",
      "MFCC:  (13, 86) len :  43520\n",
      "### ./Sons/Bas\\V_Bas.wav ###\n",
      "MFCC:  (13, 120) len :  61152\n",
      "shape :  (96, 13)\n"
     ]
    }
   ],
   "source": [
    "lesMfccTest = np.empty(shape=(nb*len(classes), 13), dtype=float) \n",
    "verbose=True\n",
    "\n",
    "i=0\n",
    "for cl in classes:\n",
    "    listSons = glob.glob(basedir+ cl+\"/*.wav\")\n",
    "    for s in listSons[-nb:]:\n",
    "        if verbose:\n",
    "            print(\"###\",s,\"###\")\n",
    "        (sig,rate) = librosa.load(s)\n",
    "        mfcc_feat = librosa.feature.mfcc(sig,rate,n_mfcc=13)\n",
    "        if verbose:\n",
    "            print(\"MFCC: \", mfcc_feat.shape, \"len : \", len(sig))\n",
    "        lesMfccTest[i] = np.mean(mfcc_feat, axis=1)\n",
    "        i += 1\n",
    "\n",
    "if verbose:\n",
    "    print(\"shape : \",lesMfccTest.shape)\n",
    "    \n",
    "xTest = scaler.transform(lesMfccTest)\n",
    "yTest = []\n",
    "for clNumber in range(len(classes)):\n",
    "    yTest += [clNumber]*nb"
   ]
  },
  {
   "cell_type": "code",
   "execution_count": 17,
   "metadata": {
    "ExecuteTime": {
     "end_time": "2022-02-25T09:01:34.439586Z",
     "start_time": "2022-02-25T09:01:34.428698Z"
    }
   },
   "outputs": [
    {
     "name": "stdout",
     "output_type": "stream",
     "text": [
      "test F1 score =  0.6145833333333334\n",
      "test accuracy score =  0.6145833333333334\n"
     ]
    }
   ],
   "source": [
    "predTest = logisticRegr.predict(xTest)\n",
    "print(\"test F1 score = \", f1_score(yTest, predTest, average = 'micro'))\n",
    "print(\"test accuracy score = \", accuracy_score(yTest, predTest))\n"
   ]
  },
  {
   "cell_type": "code",
   "execution_count": 18,
   "metadata": {
    "ExecuteTime": {
     "end_time": "2022-02-25T09:01:40.027134Z",
     "start_time": "2022-02-25T09:01:39.899121Z"
    }
   },
   "outputs": [
    {
     "data": {
      "text/plain": "<Figure size 432x288 with 2 Axes>",
      "image/png": "[encoded data removed]"
     },
     "metadata": {
      "needs_background": "light"
     },
     "output_type": "display_data"
    }
   ],
   "source": [
    "cm = confusion_matrix(yTest, predTest, labels=[0,1,2,3])\n",
    "disp = ConfusionMatrixDisplay(confusion_matrix=cm, display_labels=classes)\n",
    "disp.plot()\n",
    "disp.ax_.set_title('Confusion matrix (test dataset)')\n",
    "plt.show()"
   ]
  },
  {
   "cell_type": "code",
   "execution_count": null,
   "outputs": [],
   "source": [],
   "metadata": {
    "collapsed": false,
    "pycharm": {
     "name": "#%%\n"
    }
   }
  }
 ],
 "metadata": {
  "hide_input": false,
  "kernelspec": {
   "display_name": "Python 3",
   "language": "python",
   "name": "python3"
  },
  "language_info": {
   "codemirror_mode": {
    "name": "ipython",
    "version": 3
   },
   "file_extension": ".py",
   "mimetype": "text/x-python",
   "name": "python",
   "nbconvert_exporter": "python",
   "pygments_lexer": "ipython3",
   "version": "3.8.10"
  },
  "latex_envs": {
   "LaTeX_envs_menu_present": true,
   "autoclose": false,
   "autocomplete": true,
   "bibliofile": "biblio.bib",
   "cite_by": "apalike",
   "current_citInitial": 1,
   "eqLabelWithNumbers": true,
   "eqNumInitial": 1,
   "hotkeys": {
    "equation": "Ctrl-E",
    "itemize": "Ctrl-I"
   },
   "labels_anchors": false,
   "latex_user_defs": false,
   "report_style_numbering": false,
   "user_envs_cfg": false
  },
  "varInspector": {
   "cols": {
    "lenName": 16,
    "lenType": 16,
    "lenVar": 40
   },
   "kernels_config": {
    "python": {
     "delete_cmd_postfix": "",
     "delete_cmd_prefix": "del ",
     "library": "var_list.py",
     "varRefreshCmd": "print(var_dic_list())"
    },
    "r": {
     "delete_cmd_postfix": ") ",
     "delete_cmd_prefix": "rm(",
     "library": "var_list.r",
     "varRefreshCmd": "cat(var_dic_list()) "
    }
   },
   "types_to_exclude": [
    "module",
    "function",
    "builtin_function_or_method",
    "instance",
    "_Feature"
   ],
   "window_display": false
  }
 },
 "nbformat": 4,
 "nbformat_minor": 4
}