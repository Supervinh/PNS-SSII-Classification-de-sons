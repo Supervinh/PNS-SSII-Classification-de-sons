{
 "cells": [
  {
   "cell_type": "markdown",
   "metadata": {},
   "source": [
    "# TP classification de sons à rendre\n",
    "\n",
    "Tom Bevan (tom.bevan@etu.unice.fr)\n",
    "Vinh Faucher (vinh.faucher@etu.unice.fr)\n",
    "\n",
    "Polytech SI3 - SSII - 2021-22"
   ]
  },
  {
   "cell_type": "markdown",
   "source": [
    "# Données\n",
    "\n",
    "Nous avons choisi 4 mots : gauche, droite, milieu, bas.\n",
    "Pour chaque mot, nous avons au minimum 31 enregistrements différents.\n",
    "Nous avons dû faire un prétraitement, afin notamment de convertir les fichiers en wav et pour certains de les découper."
   ],
   "metadata": {
    "collapsed": false,
    "pycharm": {
     "name": "#%% md\n"
    }
   }
  },
  {
   "cell_type": "code",
   "execution_count": 1,
   "metadata": {
    "ExecuteTime": {
     "end_time": "2022-02-25T08:49:55.796301Z",
     "start_time": "2022-02-25T08:49:55.791554Z"
    }
   },
   "outputs": [],
   "source": [
    "#les imports nécessaires pour la suite\n",
    "import matplotlib.pyplot as plt\n",
    "import numpy as np \n",
    "import librosa\n",
    "import librosa.display\n",
    "import IPython.display as ipd\n",
    "import glob\n",
    "import sklearn\n",
    "from sklearn.linear_model import LogisticRegression\n",
    "from sklearn import preprocessing\n",
    "from sklearn.metrics import f1_score, accuracy_score, confusion_matrix, ConfusionMatrixDisplay\n",
    "from sklearn.cluster import KMeans"
   ]
  },
  {
   "cell_type": "markdown",
   "metadata": {},
   "source": [
    "## Les données\n",
    "On va utiliser le jeu de données <a href=\"https://ai.googleblog.com/2017/08/launching-speech-commands-dataset.html\">\"speech commands\"</a>."
   ]
  },
  {
   "cell_type": "code",
   "execution_count": 2,
   "metadata": {
    "ExecuteTime": {
     "end_time": "2022-02-25T08:49:58.889474Z",
     "start_time": "2022-02-25T08:49:58.883203Z"
    }
   },
   "outputs": [],
   "source": [
    "basedir=\"./Sons/\"\n",
    "# à adapter selon l'ordinateur\n",
    "classes = ['Gauche', 'Droite','Milieu', 'Bas'] #Nos classes\n",
    "verbose = False\n",
    "taille_mfcc=13"
   ]
  },
  {
   "cell_type": "code",
   "execution_count": 3,
   "metadata": {
    "ExecuteTime": {
     "end_time": "2022-02-25T08:50:00.023621Z",
     "start_time": "2022-02-25T08:49:59.985871Z"
    }
   },
   "outputs": [
    {
     "name": "stdout",
     "output_type": "stream",
     "text": [
      "33 sons de la classe  Gauche\n",
      "35 sons de la classe  Droite\n",
      "31 sons de la classe  Milieu\n",
      "33 sons de la classe  Bas\n"
     ]
    }
   ],
   "source": [
    "for cl in classes:\n",
    "    listSons = glob.glob(basedir+cl+\"/*.wav\")\n",
    "    print(len(listSons), \"sons de la classe \", cl)"
   ]
  },
  {
   "cell_type": "markdown",
   "metadata": {},
   "source": [
    "## Calcul des MFCCs de tous les sons"
   ]
  },
  {
   "cell_type": "markdown",
   "metadata": {},
   "source": [
    "### On va partir d'une base de 24 sons de chaque classe"
   ]
  },
  {
   "cell_type": "code",
   "execution_count": 4,
   "metadata": {
    "ExecuteTime": {
     "end_time": "2022-02-25T08:53:44.486149Z",
     "start_time": "2022-02-25T08:53:42.913609Z"
    }
   },
   "outputs": [],
   "source": [
    "def build_MFCC(mfcc, nb):\n",
    "    global verbose\n",
    "    i=0\n",
    "    for cl in classes:\n",
    "        listeSons = glob.glob(basedir+cl+\"/*.wav\")\n",
    "        for s in listeSons[:nb]:\n",
    "            if verbose:\n",
    "                print(\"###\",s,\"###\")\n",
    "            (sig,rate) = librosa.load(s)\n",
    "            mfcc_feat = librosa.feature.mfcc(sig,rate,n_mfcc=13)\n",
    "            if verbose:\n",
    "                print(\"MFCC: \", mfcc_feat.shape, \"len : \", len(sig))\n",
    "            mfcc[i] = np.mean(mfcc_feat, axis=1)\n",
    "            i += 1\n",
    "    if verbose:\n",
    "        print(\"shape : \",mfcc.shape)\n",
    "    return mfcc\n"
   ]
  },
  {
   "cell_type": "code",
   "execution_count": 5,
   "metadata": {
    "ExecuteTime": {
     "end_time": "2022-02-25T08:58:05.449331Z",
     "start_time": "2022-02-25T08:58:03.653875Z"
    }
   },
   "outputs": [],
   "source": [
    "nb=20\n",
    "lesMfcc = np.empty(shape=(nb*len(classes), 13), dtype=float)\n",
    "lesMfcc = build_MFCC(lesMfcc, nb)\n"
   ]
  },
  {
   "cell_type": "markdown",
   "metadata": {},
   "source": [
    "### Classification linéaire des sons"
   ]
  },
  {
   "cell_type": "markdown",
   "metadata": {},
   "source": [
    "Il ne reste plus que l'étape de classification des sons. On va utiliser pour cela une méthode simple de classification linéaire: <a href=\"https://scikit-learn.org/stable/modules/generated/sklearn.linear_model.LogisticRegression.html\">la régression logistique</a>."
   ]
  },
  {
   "cell_type": "code",
   "execution_count": 6,
   "outputs": [
    {
     "name": "stderr",
     "output_type": "stream",
     "text": [
      "C:\\Users\\Vinh\\AppData\\Local\\Programs\\Python\\Python310\\lib\\site-packages\\sklearn\\linear_model\\_logistic.py:814: ConvergenceWarning: lbfgs failed to converge (status=1):\n",
      "STOP: TOTAL NO. of ITERATIONS REACHED LIMIT.\n",
      "\n",
      "Increase the number of iterations (max_iter) or scale the data as shown in:\n",
      "    https://scikit-learn.org/stable/modules/preprocessing.html\n",
      "Please also refer to the documentation for alternative solver options:\n",
      "    https://scikit-learn.org/stable/modules/linear_model.html#logistic-regression\n",
      "  n_iter_i = _check_optimize_result(\n"
     ]
    },
    {
     "data": {
      "text/plain": "LogisticRegression()"
     },
     "execution_count": 6,
     "metadata": {},
     "output_type": "execute_result"
    }
   ],
   "source": [
    "# création de l'objet de regression logistique\n",
    "logisticRegr = LogisticRegression()\n",
    "\n",
    "# classes des sons:\n",
    "yTrain = []\n",
    "for clNumber in range(len(classes)):\n",
    "    yTrain += [clNumber]*nb\n",
    "\n",
    "# apprentissage de la séparation en utilisation des données pour lesquelles on connait la classe\n",
    "logisticRegr.fit(lesMfcc, yTrain)\n"
   ],
   "metadata": {
    "collapsed": false,
    "pycharm": {
     "name": "#%%\n"
    }
   }
  },
  {
   "cell_type": "code",
   "execution_count": 7,
   "metadata": {
    "ExecuteTime": {
     "end_time": "2022-02-25T08:59:45.739936Z",
     "start_time": "2022-02-25T08:59:45.735686Z"
    }
   },
   "outputs": [
    {
     "name": "stdout",
     "output_type": "stream",
     "text": [
      "[-4.69089787e+02  8.63889294e+01  1.39268181e+01  1.89268923e+01\n",
      "  1.78328517e+00  7.06519408e+00 -2.39426885e+00 -3.99301274e-01\n",
      " -4.65427798e+00  7.91415403e-01 -2.48054977e+00 -1.13191820e-01\n",
      " -3.19836352e+00]\n",
      "[76.32810292 27.55803413 10.80640636 11.58393458  9.39365411  7.53728595\n",
      "  7.70266053  7.26641346  5.59684665  4.74261308  6.5263291   4.46761364\n",
      "  4.04859528]\n"
     ]
    }
   ],
   "source": [
    "scaler = preprocessing.StandardScaler().fit(lesMfcc)\n",
    "\n",
    "print(scaler.mean_)\n",
    "print(scaler.scale_)\n",
    "\n",
    "xTrain = scaler.transform(lesMfcc)"
   ]
  },
  {
   "cell_type": "code",
   "execution_count": 8,
   "metadata": {
    "ExecuteTime": {
     "end_time": "2022-02-25T09:00:14.900690Z",
     "start_time": "2022-02-25T09:00:14.892372Z"
    }
   },
   "outputs": [
    {
     "name": "stdout",
     "output_type": "stream",
     "text": [
      "train F1 score =  0.7250000000000001\n",
      "train accuracy score =  0.725\n"
     ]
    }
   ],
   "source": [
    "ypred = logisticRegr.predict(xTrain)\n",
    "print(\"train F1 score = \", f1_score(yTrain, ypred, average = 'micro'))\n",
    "print(\"train accuracy score = \", accuracy_score(yTrain, ypred))\n"
   ]
  },
  {
   "cell_type": "code",
   "execution_count": 9,
   "metadata": {
    "ExecuteTime": {
     "end_time": "2022-02-25T09:00:43.964577Z",
     "start_time": "2022-02-25T09:00:43.837453Z"
    }
   },
   "outputs": [
    {
     "data": {
      "text/plain": "<Figure size 432x288 with 2 Axes>",
      "image/png": "[encoded data removed]"
     },
     "metadata": {
      "needs_background": "light"
     },
     "output_type": "display_data"
    }
   ],
   "source": [
    "cm = confusion_matrix(yTrain, ypred, labels=[0,1,2,3])\n",
    "disp = ConfusionMatrixDisplay(confusion_matrix=cm, display_labels=classes)\n",
    "disp.plot()\n",
    "disp.ax_.set_title('Confusion matrix (train dataset)')\n",
    "plt.show()"
   ]
  },
  {
   "cell_type": "markdown",
   "metadata": {},
   "source": [
    "### Evaluation de la classification"
   ]
  },
  {
   "cell_type": "markdown",
   "metadata": {},
   "source": [
    "Pour évaluer de façon juste, on va utiliser des sons qui n'ont pas déjà servi à l'apprentissage. On va par exemple prendre les nb derniers de chaque classe."
   ]
  },
  {
   "cell_type": "code",
   "execution_count": 10,
   "metadata": {
    "ExecuteTime": {
     "end_time": "2022-02-25T09:01:28.380732Z",
     "start_time": "2022-02-25T09:01:26.600587Z"
    },
    "scrolled": true
   },
   "outputs": [],
   "source": [
    "nbTest = 10\n",
    "lesMfccTest = np.empty(shape=(nbTest*len(classes), 13), dtype=float)\n",
    "lesMfccTest = build_MFCC(lesMfccTest, nbTest)\n",
    "xTest = scaler.transform(lesMfccTest)\n",
    "yTest = []\n",
    "for clNumber in range(len(classes)):\n",
    "    yTest += [clNumber]*nbTest"
   ]
  },
  {
   "cell_type": "code",
   "execution_count": 11,
   "metadata": {
    "ExecuteTime": {
     "end_time": "2022-02-25T09:01:34.439586Z",
     "start_time": "2022-02-25T09:01:34.428698Z"
    }
   },
   "outputs": [
    {
     "name": "stdout",
     "output_type": "stream",
     "text": [
      "test F1 score =  0.675\n",
      "test accuracy score =  0.675\n"
     ]
    }
   ],
   "source": [
    "predTest = logisticRegr.predict(xTest)\n",
    "print(\"test F1 score = \", f1_score(yTest, predTest, average = 'micro'))\n",
    "print(\"test accuracy score = \", accuracy_score(yTest, predTest))\n"
   ]
  },
  {
   "cell_type": "code",
   "execution_count": 12,
   "outputs": [
    {
     "data": {
      "text/plain": "<Figure size 432x288 with 2 Axes>",
      "image/png": "[encoded data removed]"
     },
     "metadata": {
      "needs_background": "light"
     },
     "output_type": "display_data"
    }
   ],
   "source": [
    "cm = confusion_matrix(yTest, predTest, labels=[0,1,2,3])\n",
    "disp = ConfusionMatrixDisplay(confusion_matrix=cm, display_labels=classes)\n",
    "disp.plot()\n",
    "disp.ax_.set_title('Confusion matrix (test dataset)')\n",
    "plt.show()"
   ],
   "metadata": {
    "collapsed": false,
    "pycharm": {
     "name": "#%%\n"
    }
   }
  },
  {
   "cell_type": "markdown",
   "source": [
    "On peut voir que les mots milieu et droite sont assez bien reconnus, le mot bas un peu moins, et le mot gauche est le mot le moins bien reconnu dans notre liste."
   ],
   "metadata": {
    "collapsed": false,
    "pycharm": {
     "name": "#%% md\n"
    }
   }
  },
  {
   "cell_type": "markdown",
   "source": [
    "## Classification par sac de descripteurs"
   ],
   "metadata": {
    "collapsed": false,
    "pycharm": {
     "name": "#%% md\n"
    }
   }
  },
  {
   "cell_type": "code",
   "execution_count": 13,
   "outputs": [],
   "source": [
    "def build_bof(k, lesLabels, dimSons):\n",
    "    '''méthode pour construire le Bag Of Features d'un échantillon de sons'''\n",
    "    bofs = np.empty(shape = (0, k), dtype = int) # tableau des BoF\n",
    "    i = 0 # indice pour le parcours de MFCC\n",
    "\n",
    "    for nbS in dimSons: # Parcours des sons\n",
    "        tmpBof = np.array([0]*k) # initialisation du BOF pour le son courant\n",
    "        j = 0\n",
    "        while j < nbS: # pour chaque MFCC de ce son\n",
    "            tmpBof[lesLabels[i]] += 1\n",
    "            j+=1\n",
    "            i+=1\n",
    "        tmpBof = tmpBof/nbS # transformation en pourcentage\n",
    "        copyBof = tmpBof.copy()\n",
    "        bofs = np.append(bofs, [copyBof], 0)\n",
    "\n",
    "    return bofs\n",
    "\n",
    "def build_MFCC_for_bof(listSons, lesMfcc, dimSons, nb = 20):\n",
    "    '''méthode pour construite le tableau des MFCC d'un échantillon de sons'''\n",
    "    global taille_mfcc\n",
    "    for s in listSons[:nb]: # on prends les nb premiers sons de la liste 1\n",
    "        sig, rate = librosa.load(s)\n",
    "        mfcc_feat = librosa.feature.mfcc(sig,rate,n_mfcc=taille_mfcc) # on calcule les MFCC du son\n",
    "\n",
    "        lesMfcc = np.append(lesMfcc, mfcc_feat.transpose(), axis = 0) # on ajoute les MFCC du son à notre array\n",
    "        dimSons.append(mfcc_feat.shape[1]) # et on \"déclare\" le nombre de MFCC du son\n",
    "    return lesMfcc"
   ],
   "metadata": {
    "collapsed": false,
    "pycharm": {
     "name": "#%%\n"
    }
   }
  },
  {
   "cell_type": "code",
   "execution_count": 14,
   "outputs": [
    {
     "name": "stdout",
     "output_type": "stream",
     "text": [
      "train score pour k = 2: 0.3125\n",
      "test score pour k = 2: 0.3\n",
      "train score pour k = 3: 0.3\n",
      "test score pour k = 3: 0.3\n",
      "train score pour k = 4: 0.4125\n",
      "test score pour k = 4: 0.425\n",
      "train score pour k = 5: 0.575\n",
      "test score pour k = 5: 0.525\n",
      "train score pour k = 6: 0.5125\n",
      "test score pour k = 6: 0.5\n",
      "train score pour k = 7: 0.625\n",
      "test score pour k = 7: 0.45\n",
      "train score pour k = 8: 0.6\n",
      "test score pour k = 8: 0.47500000000000003\n",
      "train score pour k = 9: 0.7250000000000001\n",
      "test score pour k = 9: 0.575\n",
      "train score pour k = 10: 0.7\n",
      "test score pour k = 10: 0.575\n",
      "train score pour k = 11: 0.7125\n",
      "test score pour k = 11: 0.575\n",
      "train score pour k = 12: 0.7375\n",
      "test score pour k = 12: 0.65\n",
      "train score pour k = 13: 0.75\n",
      "test score pour k = 13: 0.625\n",
      "train score pour k = 14: 0.7375\n",
      "test score pour k = 14: 0.55\n"
     ]
    }
   ],
   "source": [
    "# partie d'initialisation des fichiers sons\n",
    "################################################################################################################\n",
    "\n",
    "basedir=\"./Sons/\"\n",
    "class1 = 'Gauche'\n",
    "class2 = 'Droite'\n",
    "class3 = 'Milieu'\n",
    "class4 = 'Bas'\n",
    "\n",
    "listSons1 = glob.glob(basedir+class1+\"/*.wav\")\n",
    "listSons2 = glob.glob(basedir+class2+\"/*.wav\")\n",
    "listSons3 = glob.glob(basedir+class3+\"/*.wav\")\n",
    "listSons4 = glob.glob(basedir+class4+\"/*.wav\")\n",
    "\n",
    "\n",
    "\n",
    "# partie construction du vecteur de tous les MFCC\n",
    "################################################################################################################\n",
    "\n",
    "nb = 20 # nombre de sons dans l'échantillon\n",
    "lesMfcc = np.empty(shape = (0, 13), dtype = float) # tableau de tous les MFCC (de tous les sons)\n",
    "dimSons = []\n",
    "lesMfcc = build_MFCC_for_bof(listSons1, lesMfcc, dimSons, nb)\n",
    "lesMfcc = build_MFCC_for_bof(listSons2, lesMfcc, dimSons, nb)\n",
    "lesMfcc = build_MFCC_for_bof(listSons3, lesMfcc, dimSons, nb)\n",
    "lesMfcc = build_MFCC_for_bof(listSons4, lesMfcc, dimSons, nb)\n",
    "\n",
    "\n",
    "nbTest=10\n",
    "lesMfccTest = np.empty(shape=(0, 13), dtype=float)\n",
    "dimSonsTest = []\n",
    "# on va prendre les nb derniers sons\n",
    "lesMfccTest = build_MFCC_for_bof(listSons1[-nbTest:], lesMfccTest, dimSonsTest, nbTest)\n",
    "lesMfccTest = build_MFCC_for_bof(listSons2[-nbTest:], lesMfccTest, dimSonsTest, nbTest)\n",
    "lesMfccTest = build_MFCC_for_bof(listSons3[-nbTest:], lesMfccTest, dimSonsTest, nbTest)\n",
    "lesMfccTest = build_MFCC_for_bof(listSons4[-nbTest:], lesMfccTest, dimSonsTest, nbTest)\n",
    "\n",
    "\n",
    "# ici on va tester l'apprentissage en faisant varier le nombre de clusters k\n",
    "\n",
    "# apprentissage\n",
    "################################################################################################################\n",
    "\n",
    "test_k_results = {}\n",
    "train_k_results = {}\n",
    "\n",
    "for k in range(2, 15):\n",
    "    monKmeans = KMeans(n_clusters = k) # création de l'objet\n",
    "    monKmeans.fit(lesMfcc) # apprentissage\n",
    "    lesLabels = monKmeans.labels_ # tableau des numéros de \"regroupement\" de toutes nos MFCC\n",
    "\n",
    "    bofs = build_bof(k, lesLabels, dimSons)\n",
    "\n",
    "    logisticRegr = LogisticRegression() # création de l'objet de regression logistique\n",
    "\n",
    "    # classes des sons (0 pour classe1 et 1 pour classe2)\n",
    "    groundTruth = [0]*nb + [1]*nb + [2]*nb + [3]*nb\n",
    "\n",
    "    logisticRegr.fit(bofs, groundTruth) # apprentissage\n",
    "    resTrain = logisticRegr.predict(bofs)\n",
    "    scoreTrain = f1_score(groundTruth, resTrain, average='micro')\n",
    "    print(f'train score pour k = {k}:', scoreTrain)\n",
    "    train_k_results[k] = scoreTrain\n",
    "\n",
    "\n",
    "\n",
    "    lesLabelsTest = monKmeans.predict(lesMfccTest) # prédiction des partitions pour ces MFCCs\n",
    "\n",
    "\n",
    "\n",
    "    bofsTest = build_bof(k, lesLabelsTest, dimSonsTest)\n",
    "\n",
    "    groundTruthTest = [0]*nbTest + [1]*nbTest + [2]*nbTest + [3]*nbTest\n",
    "    resTest = logisticRegr.predict(bofsTest)\n",
    "    scoreTest = f1_score(groundTruthTest,resTest, average='micro')\n",
    "    print(f'test score pour k = {k}:', scoreTest)\n",
    "    test_k_results[k] = scoreTest"
   ],
   "metadata": {
    "collapsed": false,
    "pycharm": {
     "name": "#%%\n"
    }
   }
  },
  {
   "cell_type": "code",
   "execution_count": 15,
   "outputs": [
    {
     "name": "stdout",
     "output_type": "stream",
     "text": [
      "k max = 12\n",
      "train score pour k = 12: 0.6875\n",
      "test score pour taille Mfcc = 13: 0.65\n",
      "train score pour k = 12: 0.75\n",
      "test score pour taille Mfcc = 14: 0.675\n",
      "train score pour k = 12: 0.7125\n",
      "test score pour taille Mfcc = 15: 0.7\n",
      "train score pour k = 12: 0.675\n",
      "test score pour taille Mfcc = 16: 0.5\n",
      "train score pour k = 12: 0.7\n",
      "test score pour taille Mfcc = 17: 0.675\n",
      "train score pour k = 12: 0.7375\n",
      "test score pour taille Mfcc = 18: 0.7\n",
      "train score pour k = 12: 0.7\n",
      "test score pour taille Mfcc = 19: 0.7\n"
     ]
    }
   ],
   "source": [
    "k = 12\n",
    "print(f\"k max = {k}\")\n",
    "\n",
    "for taille_mfcc in range(13, 20):\n",
    "    lesMfcc = np.empty(shape = (0, taille_mfcc), dtype = float) # tableau de tous les MFCC (de tous les sons)\n",
    "    dimSons = []\n",
    "    lesMfcc = build_MFCC_for_bof(listSons1, lesMfcc, dimSons, nb)\n",
    "    lesMfcc = build_MFCC_for_bof(listSons2, lesMfcc, dimSons, nb)\n",
    "    lesMfcc = build_MFCC_for_bof(listSons3, lesMfcc, dimSons, nb)\n",
    "    lesMfcc = build_MFCC_for_bof(listSons4, lesMfcc, dimSons, nb)\n",
    "\n",
    "\n",
    "    lesMfccTest = np.empty(shape=(0, taille_mfcc), dtype=float)\n",
    "    dimSonsTest = []\n",
    "    # on va prendre les nb derniers sons\n",
    "    lesMfccTest = build_MFCC_for_bof(listSons1[-nbTest:], lesMfccTest, dimSonsTest, nbTest)\n",
    "    lesMfccTest = build_MFCC_for_bof(listSons2[-nbTest:], lesMfccTest, dimSonsTest, nbTest)\n",
    "    lesMfccTest = build_MFCC_for_bof(listSons3[-nbTest:], lesMfccTest, dimSonsTest, nbTest)\n",
    "    lesMfccTest = build_MFCC_for_bof(listSons4[-nbTest:], lesMfccTest, dimSonsTest, nbTest)\n",
    "\n",
    "    monKmeans = KMeans(n_clusters = k) # création de l'objet\n",
    "    monKmeans.fit(lesMfcc) # apprentissage\n",
    "    lesLabels = monKmeans.labels_ # tableau des numéros de \"regroupement\" de toutes nos MFCC\n",
    "\n",
    "    bofs = build_bof(k, lesLabels, dimSons)\n",
    "\n",
    "    logisticRegr = LogisticRegression() # création de l'objet de regression logistique\n",
    "\n",
    "    # classes des sons (0 pour classe1 et 1 pour classe2)\n",
    "    groundTruth = [0]*nb + [1]*nb + [2]*nb + [3]*nb\n",
    "\n",
    "    logisticRegr.fit(bofs, groundTruth) # apprentissage\n",
    "    resTrain = logisticRegr.predict(bofs)\n",
    "    scoreTrain = f1_score(groundTruth, resTrain, average='micro')\n",
    "    print(f'train score pour k = {k}:', scoreTrain)\n",
    "    train_k_results[k] = scoreTrain\n",
    "\n",
    "\n",
    "    lesLabelsTest = monKmeans.predict(lesMfccTest) # prédiction des partitions pour ces MFCCs\n",
    "\n",
    "    bofsTest = build_bof(k, lesLabelsTest, dimSonsTest)\n",
    "\n",
    "    groundTruthTest = [0]*nbTest + [1]*nbTest + [2]*nbTest + [3]*nbTest\n",
    "    resTest = logisticRegr.predict(bofsTest)\n",
    "    scoreTest = f1_score(groundTruthTest,resTest, average='micro')\n",
    "    print(f'test score pour taille Mfcc = {taille_mfcc}:', scoreTest)"
   ],
   "metadata": {
    "collapsed": false,
    "pycharm": {
     "name": "#%%\n"
    }
   }
  },
  {
   "cell_type": "code",
   "execution_count": null,
   "outputs": [],
   "source": [],
   "metadata": {
    "collapsed": false,
    "pycharm": {
     "name": "#%%\n"
    }
   }
  }
 ],
 "metadata": {
  "hide_input": false,
  "kernelspec": {
   "display_name": "Python 3",
   "language": "python",
   "name": "python3"
  },
  "language_info": {
   "codemirror_mode": {
    "name": "ipython",
    "version": 3
   },
   "file_extension": ".py",
   "mimetype": "text/x-python",
   "name": "python",
   "nbconvert_exporter": "python",
   "pygments_lexer": "ipython3",
   "version": "3.8.10"
  },
  "latex_envs": {
   "LaTeX_envs_menu_present": true,
   "autoclose": false,
   "autocomplete": true,
   "bibliofile": "biblio.bib",
   "cite_by": "apalike",
   "current_citInitial": 1,
   "eqLabelWithNumbers": true,
   "eqNumInitial": 1,
   "hotkeys": {
    "equation": "Ctrl-E",
    "itemize": "Ctrl-I"
   },
   "labels_anchors": false,
   "latex_user_defs": false,
   "report_style_numbering": false,
   "user_envs_cfg": false
  },
  "varInspector": {
   "cols": {
    "lenName": 16,
    "lenType": 16,
    "lenVar": 40
   },
   "kernels_config": {
    "python": {
     "delete_cmd_postfix": "",
     "delete_cmd_prefix": "del ",
     "library": "var_list.py",
     "varRefreshCmd": "print(var_dic_list())"
    },
    "r": {
     "delete_cmd_postfix": ") ",
     "delete_cmd_prefix": "rm(",
     "library": "var_list.r",
     "varRefreshCmd": "cat(var_dic_list()) "
    }
   },
   "types_to_exclude": [
    "module",
    "function",
    "builtin_function_or_method",
    "instance",
    "_Feature"
   ],
   "window_display": false
  }
 },
 "nbformat": 4,
 "nbformat_minor": 4
}