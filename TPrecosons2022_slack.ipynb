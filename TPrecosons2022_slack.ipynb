{
 "cells": [
  {
   "cell_type": "markdown",
   "metadata": {},
   "source": [
    "# TP classification de sons à rendre\n",
    "\n",
    "Tom Bevan (tom.bevan@etu.unice.fr)\n",
    "Vinh Faucher (vinh.faucher@etu.unice.fr)\n",
    "\n",
    "Polytech SI3 - SSII - 2021-22"
   ]
  },
  {
   "cell_type": "markdown",
   "source": [
    "# Données\n",
    "\n",
    "Nous avons choisi 4 mots : gauche, droite, milieu, bas.\n",
    "Pour chaque mot, nous avons au minimum 31 enregistrements différents.\n",
    "Nous avons dû faire un prétraitement, afin notamment de convertir les fichiers en wav et pour certains de les découper."
   ],
   "metadata": {
    "collapsed": false,
    "pycharm": {
     "name": "#%% md\n"
    }
   }
  },
  {
   "cell_type": "code",
   "execution_count": 1,
   "metadata": {
    "ExecuteTime": {
     "end_time": "2022-02-25T08:49:55.796301Z",
     "start_time": "2022-02-25T08:49:55.791554Z"
    }
   },
   "outputs": [],
   "source": [
    "#les imports nécessaires pour la suite\n",
    "import matplotlib.pyplot as plt\n",
    "import numpy as np \n",
    "import librosa\n",
    "import librosa.display\n",
    "import IPython.display as ipd\n",
    "import glob"
   ]
  },
  {
   "cell_type": "code",
   "execution_count": 2,
   "metadata": {
    "ExecuteTime": {
     "end_time": "2022-02-25T08:49:56.520153Z",
     "start_time": "2022-02-25T08:49:56.515470Z"
    }
   },
   "outputs": [
    {
     "name": "stdout",
     "output_type": "stream",
     "text": [
      "1.0.2\n"
     ]
    }
   ],
   "source": [
    "import sklearn\n",
    "print(sklearn.__version__)"
   ]
  },
  {
   "cell_type": "markdown",
   "metadata": {},
   "source": [
    "## Les données\n",
    "On va utiliser le jeu de données <a href=\"https://ai.googleblog.com/2017/08/launching-speech-commands-dataset.html\">\"speech commands\"</a> que vous devez <a href=\"http://download.tensorflow.org/data/speech_commands_v0.01.tar.gz\">télécharger</a>."
   ]
  },
  {
   "cell_type": "code",
   "execution_count": 5,
   "metadata": {
    "ExecuteTime": {
     "end_time": "2022-02-25T08:49:58.889474Z",
     "start_time": "2022-02-25T08:49:58.883203Z"
    }
   },
   "outputs": [],
   "source": [
    "basedir=r\".\\Sons\"\n",
    "# à adapter à votre chemin de sons\n",
    "#attention, sous windows, il faut changer en \"C:\\\\Users\\\\monNom\\\\monCoursPrefere\\\\\"\n",
    "classes = [\"gauche\", \"droite\", \"milieu\", \"bas\"] #vous pouvez modifier ou ajouter d'autres classes du jeu de données"
   ]
  },
  {
   "cell_type": "code",
   "execution_count": 6,
   "metadata": {
    "ExecuteTime": {
     "end_time": "2022-02-25T08:50:00.023621Z",
     "start_time": "2022-02-25T08:49:59.985871Z"
    }
   },
   "outputs": [
    {
     "name": "stdout",
     "output_type": "stream",
     "text": [
      "32 sons de la classe  gauche\n",
      "33 sons de la classe  droite\n",
      "29 sons de la classe  milieu\n",
      "31 sons de la classe  bas\n"
     ]
    }
   ],
   "source": [
    "for cl in classes:\n",
    "    listSons = glob.glob(basedir+ '\\\\'+cl+\"/*.wav\")\n",
    "    print(len(listSons), \"sons de la classe \", cl)"
   ]
  },
  {
   "cell_type": "markdown",
   "source": [
    "### On commence avec un seul son (au choix)\n",
    "Charger le son, afficher le et écoutez le. A quelle fréquence est-il échantillonné ?"
   ],
   "metadata": {
    "collapsed": false
   }
  },
  {
   "cell_type": "code",
   "execution_count": 11,
   "outputs": [],
   "source": [
    "y, sr = librosa.load(listSons[0])"
   ],
   "metadata": {
    "collapsed": false,
    "pycharm": {
     "name": "#%%\n"
    }
   }
  },
  {
   "cell_type": "markdown",
   "metadata": {},
   "source": [
    "### Calcul des MFCCs du son"
   ]
  },
  {
   "cell_type": "code",
   "execution_count": 12,
   "metadata": {
    "ExecuteTime": {
     "end_time": "2022-02-25T08:50:37.891293Z",
     "start_time": "2022-02-25T08:50:37.874734Z"
    }
   },
   "outputs": [],
   "source": [
    "mfccFeatures = librosa.feature.mfcc(y,sr,n_mfcc=13)"
   ]
  },
  {
   "cell_type": "code",
   "execution_count": 13,
   "metadata": {
    "ExecuteTime": {
     "end_time": "2022-02-25T08:50:42.950247Z",
     "start_time": "2022-02-25T08:50:42.942686Z"
    }
   },
   "outputs": [
    {
     "data": {
      "text/plain": "(13, 61)"
     },
     "execution_count": 13,
     "metadata": {},
     "output_type": "execute_result"
    }
   ],
   "source": [
    "mfccFeatures.shape"
   ]
  },
  {
   "cell_type": "code",
   "execution_count": 14,
   "metadata": {
    "ExecuteTime": {
     "end_time": "2022-02-25T08:50:53.515924Z",
     "start_time": "2022-02-25T08:50:53.509140Z"
    }
   },
   "outputs": [
    {
     "data": {
      "text/plain": "31047"
     },
     "execution_count": 14,
     "metadata": {},
     "output_type": "execute_result"
    }
   ],
   "source": [
    "len(y)"
   ]
  },
  {
   "cell_type": "code",
   "execution_count": 15,
   "metadata": {
    "ExecuteTime": {
     "end_time": "2022-02-25T08:51:04.036909Z",
     "start_time": "2022-02-25T08:51:04.029891Z"
    }
   },
   "outputs": [
    {
     "name": "stdout",
     "output_type": "stream",
     "text": [
      "avec les MFCCs, on peut décrire un son par  793  valeurs au lieu de  31047\n"
     ]
    }
   ],
   "source": [
    "print(\"avec les MFCCs, on peut décrire un son par \", mfccFeatures.shape[0]*mfccFeatures.shape[1], \" valeurs au lieu de \", len(y))"
   ]
  },
  {
   "cell_type": "code",
   "execution_count": 16,
   "metadata": {
    "ExecuteTime": {
     "end_time": "2022-02-25T08:51:29.154631Z",
     "start_time": "2022-02-25T08:51:29.149348Z"
    }
   },
   "outputs": [
    {
     "name": "stdout",
     "output_type": "stream",
     "text": [
      "ou même par bien moins en prenant la moyenne des MFCC: [-5.2869708e+02  7.3712914e+01  1.2263650e+01  2.0059635e+01\n",
      " -2.4447367e+00  9.2848415e+00  7.0554562e-02  1.2482163e+00\n",
      " -3.1421449e+00  8.8498669e+00 -2.6991444e+00  1.2418857e-01\n",
      " -4.1742086e+00]\n"
     ]
    }
   ],
   "source": [
    "print(\"ou même par bien moins en prenant la moyenne des MFCC:\", np.mean(mfccFeatures,axis=1))"
   ]
  },
  {
   "cell_type": "markdown",
   "metadata": {},
   "source": [
    "## Calcul des MFCCs de tous les sons"
   ]
  },
  {
   "cell_type": "markdown",
   "metadata": {},
   "source": [
    "### On va partir d'une base de 20 sons de chaque classe"
   ]
  },
  {
   "cell_type": "code",
   "execution_count": 18,
   "metadata": {
    "ExecuteTime": {
     "end_time": "2022-02-25T08:53:44.486149Z",
     "start_time": "2022-02-25T08:53:42.913609Z"
    }
   },
   "outputs": [],
   "source": [
    "nb=20\n",
    "nbMFCCtotal = 0\n",
    "\n",
    "for cl in classes:\n",
    "    listSons = glob.glob(basedir+ '\\\\'+cl+\"/*.wav\")\n",
    "    for s in listSons[:nb]:\n",
    "        #print(\"###\",s,\"###\")\n",
    "        (sig,rate) = librosa.load(s)\n",
    "        mfcc_feat = librosa.feature.mfcc(sig,rate,n_mfcc=13)\n",
    "        #print(\"MFCC: \", mfcc_feat.shape, \"longueur du son : \", len(sig))\n",
    "        nbMFCCtotal += mfcc_feat.shape[1]\n"
   ]
  },
  {
   "cell_type": "markdown",
   "metadata": {},
   "source": [
    "En fonction des longueur des sons, on n'obtient pas le même nombre de MFCCs. Comment comparer 2 sons qui ne sont pas décrits par le même nombre de valeurs ? Une solution serait de réduire les longueurs à la plus petite des longueurs mais on risque de perdre une partie importante du son. Et si un nouveau son était plus petit ? Une autre solution serait de combler les sons plus petits par du silence au risque d'avoir une ressemblance entre les sons contenant plus de silence."
   ]
  },
  {
   "cell_type": "markdown",
   "metadata": {},
   "source": [
    "Pour un premier test, on va utiliser la moyenne de tous les MFCCs d'un son pour le représenter. Un son sera ainsi représenté par 13 coefficients."
   ]
  },
  {
   "cell_type": "code",
   "execution_count": 19,
   "metadata": {
    "ExecuteTime": {
     "end_time": "2022-02-25T08:58:05.449331Z",
     "start_time": "2022-02-25T08:58:03.653875Z"
    }
   },
   "outputs": [],
   "source": [
    "lesMfcc = np.empty(shape=(nb*len(classes), 13), dtype=float) \n",
    "verbose=False\n",
    "\n",
    "i=0\n",
    "for cl in classes:\n",
    "    listSons = glob.glob(basedir+ '\\\\'+cl+\"/*.wav\")\n",
    "    for s in listSons[:nb]:\n",
    "        if verbose:\n",
    "            print(\"###\",s,\"###\")\n",
    "        (sig,rate) = librosa.load(s)\n",
    "        mfcc_feat = librosa.feature.mfcc(sig,rate,n_mfcc=13)\n",
    "        if verbose:\n",
    "            print(\"MFCC: \", mfcc_feat.shape, \"len : \", len(sig))\n",
    "        lesMfcc[i] = np.mean(mfcc_feat, axis=1)\n",
    "        i += 1\n",
    "\n",
    "if verbose:\n",
    "    print(\"shape : \",lesMfcc.shape)\n"
   ]
  },
  {
   "cell_type": "markdown",
   "metadata": {},
   "source": [
    "### Classification linéaire des sons"
   ]
  },
  {
   "cell_type": "markdown",
   "metadata": {},
   "source": [
    "Il ne reste plus que l'étape de classification des sons. On va utiliser pour cela une méthode simple de classification linéaire: <a href=\"https://scikit-learn.org/stable/modules/generated/sklearn.linear_model.LogisticRegression.html\">la régression logistique</a>."
   ]
  },
  {
   "cell_type": "code",
   "execution_count": 20,
   "metadata": {
    "ExecuteTime": {
     "end_time": "2022-02-25T08:58:13.600739Z",
     "start_time": "2022-02-25T08:58:13.597649Z"
    }
   },
   "outputs": [],
   "source": [
    "from sklearn.linear_model import LogisticRegression"
   ]
  },
  {
   "cell_type": "code",
   "execution_count": 22,
   "metadata": {
    "ExecuteTime": {
     "end_time": "2022-02-25T08:59:45.739936Z",
     "start_time": "2022-02-25T08:59:45.735686Z"
    }
   },
   "outputs": [
    {
     "name": "stdout",
     "output_type": "stream",
     "text": [
      "[-4.69089787e+02  8.63889294e+01  1.39268181e+01  1.89268923e+01\n",
      "  1.78328517e+00  7.06519408e+00 -2.39426885e+00 -3.99301274e-01\n",
      " -4.65427798e+00  7.91415403e-01 -2.48054977e+00 -1.13191820e-01\n",
      " -3.19836352e+00]\n",
      "[76.32810292 27.55803413 10.80640636 11.58393458  9.39365411  7.53728595\n",
      "  7.70266053  7.26641346  5.59684665  4.74261308  6.5263291   4.46761364\n",
      "  4.04859528]\n"
     ]
    }
   ],
   "source": [
    "from sklearn import preprocessing\n",
    "\n",
    "scaler = preprocessing.StandardScaler().fit(lesMfcc)\n",
    "\n",
    "print(scaler.mean_)\n",
    "print(scaler.scale_)\n",
    "\n",
    "xTrain = scaler.transform(lesMfcc)"
   ]
  },
  {
   "cell_type": "code",
   "execution_count": 24,
   "metadata": {
    "ExecuteTime": {
     "end_time": "2022-02-25T09:00:12.651229Z",
     "start_time": "2022-02-25T09:00:12.645985Z"
    }
   },
   "outputs": [],
   "source": [
    "from sklearn.metrics import f1_score, accuracy_score, confusion_matrix, ConfusionMatrixDisplay"
   ]
  },
  {
   "cell_type": "code",
   "execution_count": 25,
   "metadata": {
    "ExecuteTime": {
     "end_time": "2022-02-25T09:00:14.900690Z",
     "start_time": "2022-02-25T09:00:14.892372Z"
    }
   },
   "outputs": [
    {
     "name": "stdout",
     "output_type": "stream",
     "text": [
      "train F1 score =  0.8000000000000002\n",
      "train accuracy score =  0.8\n"
     ]
    }
   ],
   "source": [
    "ypred = logisticRegr.predict(xTrain)\n",
    "print(\"train F1 score = \", f1_score(yTrain, ypred, average = 'micro'))\n",
    "print(\"train accuracy score = \", accuracy_score(yTrain, ypred))\n"
   ]
  },
  {
   "cell_type": "code",
   "execution_count": 27,
   "metadata": {
    "ExecuteTime": {
     "end_time": "2022-02-25T09:00:43.964577Z",
     "start_time": "2022-02-25T09:00:43.837453Z"
    }
   },
   "outputs": [
    {
     "data": {
      "text/plain": "<Figure size 432x288 with 2 Axes>",
      "image/png": "[encoded data removed]"
     },
     "metadata": {
      "needs_background": "light"
     },
     "output_type": "display_data"
    }
   ],
   "source": [
    "cm = confusion_matrix(yTrain, ypred, labels=[0,1,2,3])\n",
    "disp = ConfusionMatrixDisplay(confusion_matrix=cm, display_labels=classes)\n",
    "disp.plot()\n",
    "disp.ax_.set_title('Confusion matrix (train dataset)')\n",
    "plt.show()"
   ]
  },
  {
   "cell_type": "markdown",
   "metadata": {},
   "source": [
    "Ce ne pas de la triche de regarder les performances sur les données que nous avons utilisées pour construire le classifieur ?"
   ]
  },
  {
   "cell_type": "markdown",
   "metadata": {},
   "source": [
    "### Evaluation de la classification"
   ]
  },
  {
   "cell_type": "markdown",
   "metadata": {},
   "source": [
    "Pour évaluer de façon juste, on va utiliser des sons qui n'ont pas déjà servi à l'apprentissage. On va par exemple prendre les nb derniers de chaque classe."
   ]
  },
  {
   "cell_type": "code",
   "execution_count": 28,
   "metadata": {
    "ExecuteTime": {
     "end_time": "2022-02-25T09:01:28.380732Z",
     "start_time": "2022-02-25T09:01:26.600587Z"
    },
    "scrolled": true
   },
   "outputs": [],
   "source": [
    "lesMfccTest = np.empty(shape=(nb*len(classes), 13), dtype=float) \n",
    "verbose=False\n",
    "\n",
    "i=0\n",
    "for cl in classes:\n",
    "    listSons = glob.glob(basedir+ '\\\\'+cl+\"/*.wav\")\n",
    "    for s in listSons[-nb:]:\n",
    "        if verbose:\n",
    "            print(\"###\",s,\"###\")\n",
    "        (sig,rate) = librosa.load(s)\n",
    "        mfcc_feat = librosa.feature.mfcc(sig,rate,n_mfcc=13)\n",
    "        if verbose:\n",
    "            print(\"MFCC: \", mfcc_feat.shape, \"len : \", len(sig))\n",
    "        lesMfccTest[i] = np.mean(mfcc_feat, axis=1)\n",
    "        i += 1\n",
    "\n",
    "if verbose:\n",
    "    print(\"shape : \",lesMfccTest.shape)\n",
    "    \n",
    "xTest = scaler.transform(lesMfccTest)\n",
    "yTest = []\n",
    "for clNumber in range(len(classes)):\n",
    "    yTest += [clNumber]*nb"
   ]
  },
  {
   "cell_type": "code",
   "execution_count": 29,
   "metadata": {
    "ExecuteTime": {
     "end_time": "2022-02-25T09:01:34.439586Z",
     "start_time": "2022-02-25T09:01:34.428698Z"
    }
   },
   "outputs": [
    {
     "name": "stdout",
     "output_type": "stream",
     "text": [
      "test F1 score =  0.6625\n",
      "test accuracy score =  0.6625\n"
     ]
    }
   ],
   "source": [
    "predTest = logisticRegr.predict(xTest)\n",
    "print(\"test F1 score = \", f1_score(yTest, predTest, average = 'micro'))\n",
    "print(\"test accuracy score = \", accuracy_score(yTest, predTest))\n"
   ]
  },
  {
   "cell_type": "code",
   "execution_count": 30,
   "metadata": {
    "ExecuteTime": {
     "end_time": "2022-02-25T09:01:40.027134Z",
     "start_time": "2022-02-25T09:01:39.899121Z"
    }
   },
   "outputs": [
    {
     "ename": "ValueError",
     "evalue": "The number of FixedLocator locations (3), usually from a call to set_ticks, does not match the number of ticklabels (4).",
     "output_type": "error",
     "traceback": [
      "\u001B[1;31m---------------------------------------------------------------------------\u001B[0m",
      "\u001B[1;31mValueError\u001B[0m                                Traceback (most recent call last)",
      "Input \u001B[1;32mIn [30]\u001B[0m, in \u001B[0;36m<module>\u001B[1;34m\u001B[0m\n\u001B[0;32m      1\u001B[0m cm \u001B[38;5;241m=\u001B[39m confusion_matrix(yTest, predTest, labels\u001B[38;5;241m=\u001B[39m[\u001B[38;5;241m0\u001B[39m,\u001B[38;5;241m1\u001B[39m,\u001B[38;5;241m2\u001B[39m])\n\u001B[0;32m      2\u001B[0m disp \u001B[38;5;241m=\u001B[39m ConfusionMatrixDisplay(confusion_matrix\u001B[38;5;241m=\u001B[39mcm, display_labels\u001B[38;5;241m=\u001B[39mclasses)\n\u001B[1;32m----> 3\u001B[0m \u001B[43mdisp\u001B[49m\u001B[38;5;241;43m.\u001B[39;49m\u001B[43mplot\u001B[49m\u001B[43m(\u001B[49m\u001B[43m)\u001B[49m\n\u001B[0;32m      4\u001B[0m disp\u001B[38;5;241m.\u001B[39max_\u001B[38;5;241m.\u001B[39mset_title(\u001B[38;5;124m'\u001B[39m\u001B[38;5;124mConfusion matrix (test dataset)\u001B[39m\u001B[38;5;124m'\u001B[39m)\n\u001B[0;32m      5\u001B[0m plt\u001B[38;5;241m.\u001B[39mshow()\n",
      "File \u001B[1;32m~\\AppData\\Local\\Programs\\Python\\Python310\\lib\\site-packages\\sklearn\\metrics\\_plot\\confusion_matrix.py:163\u001B[0m, in \u001B[0;36mConfusionMatrixDisplay.plot\u001B[1;34m(self, include_values, cmap, xticks_rotation, values_format, ax, colorbar)\u001B[0m\n\u001B[0;32m    161\u001B[0m \u001B[38;5;28;01mif\u001B[39;00m colorbar:\n\u001B[0;32m    162\u001B[0m     fig\u001B[38;5;241m.\u001B[39mcolorbar(\u001B[38;5;28mself\u001B[39m\u001B[38;5;241m.\u001B[39mim_, ax\u001B[38;5;241m=\u001B[39max)\n\u001B[1;32m--> 163\u001B[0m \u001B[43max\u001B[49m\u001B[38;5;241;43m.\u001B[39;49m\u001B[43mset\u001B[49m\u001B[43m(\u001B[49m\n\u001B[0;32m    164\u001B[0m \u001B[43m    \u001B[49m\u001B[43mxticks\u001B[49m\u001B[38;5;241;43m=\u001B[39;49m\u001B[43mnp\u001B[49m\u001B[38;5;241;43m.\u001B[39;49m\u001B[43marange\u001B[49m\u001B[43m(\u001B[49m\u001B[43mn_classes\u001B[49m\u001B[43m)\u001B[49m\u001B[43m,\u001B[49m\n\u001B[0;32m    165\u001B[0m \u001B[43m    \u001B[49m\u001B[43myticks\u001B[49m\u001B[38;5;241;43m=\u001B[39;49m\u001B[43mnp\u001B[49m\u001B[38;5;241;43m.\u001B[39;49m\u001B[43marange\u001B[49m\u001B[43m(\u001B[49m\u001B[43mn_classes\u001B[49m\u001B[43m)\u001B[49m\u001B[43m,\u001B[49m\n\u001B[0;32m    166\u001B[0m \u001B[43m    \u001B[49m\u001B[43mxticklabels\u001B[49m\u001B[38;5;241;43m=\u001B[39;49m\u001B[43mdisplay_labels\u001B[49m\u001B[43m,\u001B[49m\n\u001B[0;32m    167\u001B[0m \u001B[43m    \u001B[49m\u001B[43myticklabels\u001B[49m\u001B[38;5;241;43m=\u001B[39;49m\u001B[43mdisplay_labels\u001B[49m\u001B[43m,\u001B[49m\n\u001B[0;32m    168\u001B[0m \u001B[43m    \u001B[49m\u001B[43mylabel\u001B[49m\u001B[38;5;241;43m=\u001B[39;49m\u001B[38;5;124;43m\"\u001B[39;49m\u001B[38;5;124;43mTrue label\u001B[39;49m\u001B[38;5;124;43m\"\u001B[39;49m\u001B[43m,\u001B[49m\n\u001B[0;32m    169\u001B[0m \u001B[43m    \u001B[49m\u001B[43mxlabel\u001B[49m\u001B[38;5;241;43m=\u001B[39;49m\u001B[38;5;124;43m\"\u001B[39;49m\u001B[38;5;124;43mPredicted label\u001B[39;49m\u001B[38;5;124;43m\"\u001B[39;49m\u001B[43m,\u001B[49m\n\u001B[0;32m    170\u001B[0m \u001B[43m\u001B[49m\u001B[43m)\u001B[49m\n\u001B[0;32m    172\u001B[0m ax\u001B[38;5;241m.\u001B[39mset_ylim((n_classes \u001B[38;5;241m-\u001B[39m \u001B[38;5;241m0.5\u001B[39m, \u001B[38;5;241m-\u001B[39m\u001B[38;5;241m0.5\u001B[39m))\n\u001B[0;32m    173\u001B[0m plt\u001B[38;5;241m.\u001B[39msetp(ax\u001B[38;5;241m.\u001B[39mget_xticklabels(), rotation\u001B[38;5;241m=\u001B[39mxticks_rotation)\n",
      "File \u001B[1;32m~\\AppData\\Local\\Programs\\Python\\Python310\\lib\\site-packages\\matplotlib\\artist.py:116\u001B[0m, in \u001B[0;36mArtist.__init_subclass__.<locals>.<lambda>\u001B[1;34m(self, **kwargs)\u001B[0m\n\u001B[0;32m    108\u001B[0m \u001B[38;5;28;01mif\u001B[39;00m \u001B[38;5;129;01mnot\u001B[39;00m \u001B[38;5;28mhasattr\u001B[39m(\u001B[38;5;28mcls\u001B[39m\u001B[38;5;241m.\u001B[39mset, \u001B[38;5;124m'\u001B[39m\u001B[38;5;124m_autogenerated_signature\u001B[39m\u001B[38;5;124m'\u001B[39m):\n\u001B[0;32m    109\u001B[0m     \u001B[38;5;66;03m# Don't overwrite cls.set if the subclass or one of its parents\u001B[39;00m\n\u001B[0;32m    110\u001B[0m     \u001B[38;5;66;03m# has defined a set method set itself.\u001B[39;00m\n\u001B[0;32m    111\u001B[0m     \u001B[38;5;66;03m# If there was no explicit definition, cls.set is inherited from\u001B[39;00m\n\u001B[0;32m    112\u001B[0m     \u001B[38;5;66;03m# the hierarchy of auto-generated set methods, which hold the\u001B[39;00m\n\u001B[0;32m    113\u001B[0m     \u001B[38;5;66;03m# flag _autogenerated_signature.\u001B[39;00m\n\u001B[0;32m    114\u001B[0m     \u001B[38;5;28;01mreturn\u001B[39;00m\n\u001B[1;32m--> 116\u001B[0m \u001B[38;5;28mcls\u001B[39m\u001B[38;5;241m.\u001B[39mset \u001B[38;5;241m=\u001B[39m \u001B[38;5;28;01mlambda\u001B[39;00m \u001B[38;5;28mself\u001B[39m, \u001B[38;5;241m*\u001B[39m\u001B[38;5;241m*\u001B[39mkwargs: Artist\u001B[38;5;241m.\u001B[39mset(\u001B[38;5;28mself\u001B[39m, \u001B[38;5;241m*\u001B[39m\u001B[38;5;241m*\u001B[39mkwargs)\n\u001B[0;32m    117\u001B[0m \u001B[38;5;28mcls\u001B[39m\u001B[38;5;241m.\u001B[39mset\u001B[38;5;241m.\u001B[39m\u001B[38;5;18m__name__\u001B[39m \u001B[38;5;241m=\u001B[39m \u001B[38;5;124m\"\u001B[39m\u001B[38;5;124mset\u001B[39m\u001B[38;5;124m\"\u001B[39m\n\u001B[0;32m    118\u001B[0m \u001B[38;5;28mcls\u001B[39m\u001B[38;5;241m.\u001B[39mset\u001B[38;5;241m.\u001B[39m\u001B[38;5;18m__qualname__\u001B[39m \u001B[38;5;241m=\u001B[39m \u001B[38;5;124mf\u001B[39m\u001B[38;5;124m\"\u001B[39m\u001B[38;5;132;01m{\u001B[39;00m\u001B[38;5;28mcls\u001B[39m\u001B[38;5;241m.\u001B[39m\u001B[38;5;18m__qualname__\u001B[39m\u001B[38;5;132;01m}\u001B[39;00m\u001B[38;5;124m.set\u001B[39m\u001B[38;5;124m\"\u001B[39m\n",
      "File \u001B[1;32m~\\AppData\\Local\\Programs\\Python\\Python310\\lib\\site-packages\\matplotlib\\artist.py:1164\u001B[0m, in \u001B[0;36mArtist.set\u001B[1;34m(self, **kwargs)\u001B[0m\n\u001B[0;32m   1159\u001B[0m \u001B[38;5;28;01mdef\u001B[39;00m \u001B[38;5;21mset\u001B[39m(\u001B[38;5;28mself\u001B[39m, \u001B[38;5;241m*\u001B[39m\u001B[38;5;241m*\u001B[39mkwargs):\n\u001B[0;32m   1160\u001B[0m     \u001B[38;5;66;03m# docstring and signature are auto-generated via\u001B[39;00m\n\u001B[0;32m   1161\u001B[0m     \u001B[38;5;66;03m# Artist._update_set_signature_and_docstring() at the end of the\u001B[39;00m\n\u001B[0;32m   1162\u001B[0m     \u001B[38;5;66;03m# module.\u001B[39;00m\n\u001B[0;32m   1163\u001B[0m     kwargs \u001B[38;5;241m=\u001B[39m cbook\u001B[38;5;241m.\u001B[39mnormalize_kwargs(kwargs, \u001B[38;5;28mself\u001B[39m)\n\u001B[1;32m-> 1164\u001B[0m     \u001B[38;5;28;01mreturn\u001B[39;00m \u001B[38;5;28;43mself\u001B[39;49m\u001B[38;5;241;43m.\u001B[39;49m\u001B[43mupdate\u001B[49m\u001B[43m(\u001B[49m\u001B[43mkwargs\u001B[49m\u001B[43m)\u001B[49m\n",
      "File \u001B[1;32m~\\AppData\\Local\\Programs\\Python\\Python310\\lib\\site-packages\\matplotlib\\artist.py:1066\u001B[0m, in \u001B[0;36mArtist.update\u001B[1;34m(self, props)\u001B[0m\n\u001B[0;32m   1063\u001B[0m             \u001B[38;5;28;01mif\u001B[39;00m \u001B[38;5;129;01mnot\u001B[39;00m callable(func):\n\u001B[0;32m   1064\u001B[0m                 \u001B[38;5;28;01mraise\u001B[39;00m \u001B[38;5;167;01mAttributeError\u001B[39;00m(\u001B[38;5;124mf\u001B[39m\u001B[38;5;124m\"\u001B[39m\u001B[38;5;132;01m{\u001B[39;00m\u001B[38;5;28mtype\u001B[39m(\u001B[38;5;28mself\u001B[39m)\u001B[38;5;241m.\u001B[39m\u001B[38;5;18m__name__\u001B[39m\u001B[38;5;132;01m!r}\u001B[39;00m\u001B[38;5;124m object \u001B[39m\u001B[38;5;124m\"\u001B[39m\n\u001B[0;32m   1065\u001B[0m                                      \u001B[38;5;124mf\u001B[39m\u001B[38;5;124m\"\u001B[39m\u001B[38;5;124mhas no property \u001B[39m\u001B[38;5;132;01m{\u001B[39;00mk\u001B[38;5;132;01m!r}\u001B[39;00m\u001B[38;5;124m\"\u001B[39m)\n\u001B[1;32m-> 1066\u001B[0m             ret\u001B[38;5;241m.\u001B[39mappend(\u001B[43mfunc\u001B[49m\u001B[43m(\u001B[49m\u001B[43mv\u001B[49m\u001B[43m)\u001B[49m)\n\u001B[0;32m   1067\u001B[0m \u001B[38;5;28;01mif\u001B[39;00m ret:\n\u001B[0;32m   1068\u001B[0m     \u001B[38;5;28mself\u001B[39m\u001B[38;5;241m.\u001B[39mpchanged()\n",
      "File \u001B[1;32m~\\AppData\\Local\\Programs\\Python\\Python310\\lib\\site-packages\\matplotlib\\axes\\_base.py:75\u001B[0m, in \u001B[0;36m_axis_method_wrapper.__set_name__.<locals>.wrapper\u001B[1;34m(self, *args, **kwargs)\u001B[0m\n\u001B[0;32m     74\u001B[0m \u001B[38;5;28;01mdef\u001B[39;00m \u001B[38;5;21mwrapper\u001B[39m(\u001B[38;5;28mself\u001B[39m, \u001B[38;5;241m*\u001B[39margs, \u001B[38;5;241m*\u001B[39m\u001B[38;5;241m*\u001B[39mkwargs):\n\u001B[1;32m---> 75\u001B[0m     \u001B[38;5;28;01mreturn\u001B[39;00m get_method(\u001B[38;5;28mself\u001B[39m)(\u001B[38;5;241m*\u001B[39margs, \u001B[38;5;241m*\u001B[39m\u001B[38;5;241m*\u001B[39mkwargs)\n",
      "File \u001B[1;32m~\\AppData\\Local\\Programs\\Python\\Python310\\lib\\site-packages\\matplotlib\\axis.py:1798\u001B[0m, in \u001B[0;36mAxis._set_ticklabels\u001B[1;34m(self, labels, fontdict, minor, **kwargs)\u001B[0m\n\u001B[0;32m   1796\u001B[0m \u001B[38;5;28;01mif\u001B[39;00m fontdict \u001B[38;5;129;01mis\u001B[39;00m \u001B[38;5;129;01mnot\u001B[39;00m \u001B[38;5;28;01mNone\u001B[39;00m:\n\u001B[0;32m   1797\u001B[0m     kwargs\u001B[38;5;241m.\u001B[39mupdate(fontdict)\n\u001B[1;32m-> 1798\u001B[0m \u001B[38;5;28;01mreturn\u001B[39;00m \u001B[38;5;28mself\u001B[39m\u001B[38;5;241m.\u001B[39mset_ticklabels(labels, minor\u001B[38;5;241m=\u001B[39mminor, \u001B[38;5;241m*\u001B[39m\u001B[38;5;241m*\u001B[39mkwargs)\n",
      "File \u001B[1;32m~\\AppData\\Local\\Programs\\Python\\Python310\\lib\\site-packages\\matplotlib\\axis.py:1720\u001B[0m, in \u001B[0;36mAxis.set_ticklabels\u001B[1;34m(self, ticklabels, minor, **kwargs)\u001B[0m\n\u001B[0;32m   1716\u001B[0m \u001B[38;5;28;01mif\u001B[39;00m \u001B[38;5;28misinstance\u001B[39m(locator, mticker\u001B[38;5;241m.\u001B[39mFixedLocator):\n\u001B[0;32m   1717\u001B[0m     \u001B[38;5;66;03m# Passing [] as a list of ticklabels is often used as a way to\u001B[39;00m\n\u001B[0;32m   1718\u001B[0m     \u001B[38;5;66;03m# remove all tick labels, so only error for > 0 ticklabels\u001B[39;00m\n\u001B[0;32m   1719\u001B[0m     \u001B[38;5;28;01mif\u001B[39;00m \u001B[38;5;28mlen\u001B[39m(locator\u001B[38;5;241m.\u001B[39mlocs) \u001B[38;5;241m!=\u001B[39m \u001B[38;5;28mlen\u001B[39m(ticklabels) \u001B[38;5;129;01mand\u001B[39;00m \u001B[38;5;28mlen\u001B[39m(ticklabels) \u001B[38;5;241m!=\u001B[39m \u001B[38;5;241m0\u001B[39m:\n\u001B[1;32m-> 1720\u001B[0m         \u001B[38;5;28;01mraise\u001B[39;00m \u001B[38;5;167;01mValueError\u001B[39;00m(\n\u001B[0;32m   1721\u001B[0m             \u001B[38;5;124m\"\u001B[39m\u001B[38;5;124mThe number of FixedLocator locations\u001B[39m\u001B[38;5;124m\"\u001B[39m\n\u001B[0;32m   1722\u001B[0m             \u001B[38;5;124mf\u001B[39m\u001B[38;5;124m\"\u001B[39m\u001B[38;5;124m (\u001B[39m\u001B[38;5;132;01m{\u001B[39;00m\u001B[38;5;28mlen\u001B[39m(locator\u001B[38;5;241m.\u001B[39mlocs)\u001B[38;5;132;01m}\u001B[39;00m\u001B[38;5;124m), usually from a call to\u001B[39m\u001B[38;5;124m\"\u001B[39m\n\u001B[0;32m   1723\u001B[0m             \u001B[38;5;124m\"\u001B[39m\u001B[38;5;124m set_ticks, does not match\u001B[39m\u001B[38;5;124m\"\u001B[39m\n\u001B[0;32m   1724\u001B[0m             \u001B[38;5;124mf\u001B[39m\u001B[38;5;124m\"\u001B[39m\u001B[38;5;124m the number of ticklabels (\u001B[39m\u001B[38;5;132;01m{\u001B[39;00m\u001B[38;5;28mlen\u001B[39m(ticklabels)\u001B[38;5;132;01m}\u001B[39;00m\u001B[38;5;124m).\u001B[39m\u001B[38;5;124m\"\u001B[39m)\n\u001B[0;32m   1725\u001B[0m     tickd \u001B[38;5;241m=\u001B[39m {loc: lab \u001B[38;5;28;01mfor\u001B[39;00m loc, lab \u001B[38;5;129;01min\u001B[39;00m \u001B[38;5;28mzip\u001B[39m(locator\u001B[38;5;241m.\u001B[39mlocs, ticklabels)}\n\u001B[0;32m   1726\u001B[0m     func \u001B[38;5;241m=\u001B[39m functools\u001B[38;5;241m.\u001B[39mpartial(\u001B[38;5;28mself\u001B[39m\u001B[38;5;241m.\u001B[39m_format_with_dict, tickd)\n",
      "\u001B[1;31mValueError\u001B[0m: The number of FixedLocator locations (3), usually from a call to set_ticks, does not match the number of ticklabels (4)."
     ]
    },
    {
     "data": {
      "text/plain": "<Figure size 432x288 with 2 Axes>",
      "image/png": "[encoded data removed]"
     },
     "metadata": {
      "needs_background": "light"
     },
     "output_type": "display_data"
    }
   ],
   "source": [
    "cm = confusion_matrix(yTest, predTest, labels=[0,1,2])\n",
    "disp = ConfusionMatrixDisplay(confusion_matrix=cm, display_labels=classes)\n",
    "disp.plot()\n",
    "disp.ax_.set_title('Confusion matrix (test dataset)')\n",
    "plt.show()"
   ]
  },
  {
   "cell_type": "markdown",
   "metadata": {},
   "source": [
    "Essayez d'améliorer les résultats en augmentant le nombre de sons par classes ou en modifiant la représentation des sons."
   ]
  },
  {
   "cell_type": "markdown",
   "metadata": {},
   "source": [
    "Essayez également d'autres classes du jeu de données."
   ]
  },
  {
   "cell_type": "code",
   "execution_count": null,
   "metadata": {
    "pycharm": {
     "is_executing": true
    }
   },
   "outputs": [],
   "source": [
    "#Tout convertir en wav"
   ]
  }
 ],
 "metadata": {
  "hide_input": false,
  "kernelspec": {
   "display_name": "Python 3",
   "language": "python",
   "name": "python3"
  },
  "language_info": {
   "codemirror_mode": {
    "name": "ipython",
    "version": 3
   },
   "file_extension": ".py",
   "mimetype": "text/x-python",
   "name": "python",
   "nbconvert_exporter": "python",
   "pygments_lexer": "ipython3",
   "version": "3.8.10"
  },
  "latex_envs": {
   "LaTeX_envs_menu_present": true,
   "autoclose": false,
   "autocomplete": true,
   "bibliofile": "biblio.bib",
   "cite_by": "apalike",
   "current_citInitial": 1,
   "eqLabelWithNumbers": true,
   "eqNumInitial": 1,
   "hotkeys": {
    "equation": "Ctrl-E",
    "itemize": "Ctrl-I"
   },
   "labels_anchors": false,
   "latex_user_defs": false,
   "report_style_numbering": false,
   "user_envs_cfg": false
  },
  "varInspector": {
   "cols": {
    "lenName": 16,
    "lenType": 16,
    "lenVar": 40
   },
   "kernels_config": {
    "python": {
     "delete_cmd_postfix": "",
     "delete_cmd_prefix": "del ",
     "library": "var_list.py",
     "varRefreshCmd": "print(var_dic_list())"
    },
    "r": {
     "delete_cmd_postfix": ") ",
     "delete_cmd_prefix": "rm(",
     "library": "var_list.r",
     "varRefreshCmd": "cat(var_dic_list()) "
    }
   },
   "types_to_exclude": [
    "module",
    "function",
    "builtin_function_or_method",
    "instance",
    "_Feature"
   ],
   "window_display": false
  }
 },
 "nbformat": 4,
 "nbformat_minor": 4
}