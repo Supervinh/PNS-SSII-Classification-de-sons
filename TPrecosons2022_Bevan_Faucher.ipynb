{
 "cells": [
  {
   "cell_type": "markdown",
   "metadata": {},
   "source": [
    "# TP classification de sons à rendre\n",
    "\n",
    "Tom Bevan (tom.bevan@etu.unice.fr)\n",
    "Vinh Faucher (vinh.faucher@etu.unice.fr)\n",
    "\n",
    "Polytech SI3 - SSII - 2021-22"
   ]
  },
  {
   "cell_type": "markdown",
   "source": [
    "# Données\n",
    "\n",
    "Nous avons choisi 4 mots : gauche, droite, milieu, bas.\n",
    "Pour chaque mot, nous avons au minimum 31 enregistrements différents.\n",
    "Nous avons dû faire un prétraitement, afin notamment de convertir les fichiers en wav et pour certains de les découper."
   ],
   "metadata": {
    "collapsed": false,
    "pycharm": {
     "name": "#%% md\n"
    }
   }
  },
  {
   "cell_type": "code",
   "execution_count": 1,
   "metadata": {
    "ExecuteTime": {
     "end_time": "2022-02-25T08:49:55.796301Z",
     "start_time": "2022-02-25T08:49:55.791554Z"
    }
   },
   "outputs": [],
   "source": [
    "#les imports nécessaires pour la suite\n",
    "import matplotlib.pyplot as plt\n",
    "import numpy as np \n",
    "import librosa\n",
    "import librosa.display\n",
    "import glob\n",
    "from sklearn.linear_model import LogisticRegression\n",
    "from sklearn import preprocessing\n",
    "from sklearn.metrics import f1_score, accuracy_score, confusion_matrix, ConfusionMatrixDisplay\n",
    "from sklearn.cluster import KMeans"
   ]
  },
  {
   "cell_type": "markdown",
   "metadata": {},
   "source": [
    "## Les données\n",
    "On va utiliser le jeu de données <a href=\"https://ai.googleblog.com/2017/08/launching-speech-commands-dataset.html\">\"speech commands\"</a>."
   ]
  },
  {
   "cell_type": "code",
   "execution_count": 2,
   "metadata": {
    "ExecuteTime": {
     "end_time": "2022-02-25T08:49:58.889474Z",
     "start_time": "2022-02-25T08:49:58.883203Z"
    }
   },
   "outputs": [],
   "source": [
    "basedir=\"./Sons/\"\n",
    "# à adapter selon l'ordinateur\n",
    "classes = ['Gauche', 'Droite','Milieu', 'Bas'] # Nos classes\n",
    "verbose = True\n",
    "taille_mfcc = 13"
   ]
  },
  {
   "cell_type": "code",
   "execution_count": 3,
   "metadata": {
    "ExecuteTime": {
     "end_time": "2022-02-25T08:50:00.023621Z",
     "start_time": "2022-02-25T08:49:59.985871Z"
    }
   },
   "outputs": [
    {
     "name": "stdout",
     "output_type": "stream",
     "text": [
      "33 sons de la classe  Gauche\n",
      "35 sons de la classe  Droite\n",
      "31 sons de la classe  Milieu\n",
      "33 sons de la classe  Bas\n"
     ]
    }
   ],
   "source": [
    "for cl in classes:\n",
    "    listSons = glob.glob(basedir+cl+\"/*.wav\")\n",
    "    print(len(listSons), \"sons de la classe \", cl)"
   ]
  },
  {
   "cell_type": "markdown",
   "metadata": {},
   "source": [
    "## Calcul des MFCCs de tous les sons"
   ]
  },
  {
   "cell_type": "markdown",
   "metadata": {},
   "source": [
    "### On va partir d'une base de 24 sons de chaque classe"
   ]
  },
  {
   "cell_type": "code",
   "execution_count": 4,
   "metadata": {
    "ExecuteTime": {
     "end_time": "2022-02-25T08:53:44.486149Z",
     "start_time": "2022-02-25T08:53:42.913609Z"
    }
   },
   "outputs": [],
   "source": [
    "def build_MFCC(mfcc, nb):\n",
    "    global verbose\n",
    "    i=0\n",
    "    for cl in classes:\n",
    "        listeSons = glob.glob(basedir+cl+\"/*.wav\")\n",
    "        for s in listeSons[:nb]:\n",
    "            if verbose:\n",
    "                print(\"###\",s,\"###\")\n",
    "            (sig,rate) = librosa.load(s)\n",
    "            mfcc_feat = librosa.feature.mfcc(sig,rate,n_mfcc=13)\n",
    "            if verbose:\n",
    "                print(\"MFCC: \", mfcc_feat.shape, \"len : \", len(sig))\n",
    "            mfcc[i] = np.mean(mfcc_feat, axis=1)\n",
    "            i += 1\n",
    "    if verbose:\n",
    "        print(\"shape : \",mfcc.shape)\n",
    "    return mfcc\n"
   ]
  },
  {
   "cell_type": "code",
   "execution_count": 5,
   "metadata": {
    "ExecuteTime": {
     "end_time": "2022-02-25T08:58:05.449331Z",
     "start_time": "2022-02-25T08:58:03.653875Z"
    }
   },
   "outputs": [
    {
     "name": "stdout",
     "output_type": "stream",
     "text": [
      "### ./Sons/Gauche\\AM_gauche.wav ###\n",
      "MFCC:  (13, 69) len :  35280\n",
      "### ./Sons/Gauche\\AP_Gauche.wav ###\n",
      "MFCC:  (13, 74) len :  37632\n",
      "### ./Sons/Gauche\\A_Gauche.wav ###\n",
      "MFCC:  (13, 65) len :  32928\n",
      "### ./Sons/Gauche\\Gauche1.wav ###\n",
      "MFCC:  (13, 108) len :  55125\n",
      "### ./Sons/Gauche\\Gauche10.wav ###\n",
      "MFCC:  (13, 68) len :  34304\n",
      "### ./Sons/Gauche\\Gauche11.wav ###\n",
      "MFCC:  (13, 164) len :  83456\n",
      "### ./Sons/Gauche\\Gauche12.wav ###\n",
      "MFCC:  (13, 44) len :  22050\n",
      "### ./Sons/Gauche\\Gauche13.wav ###\n",
      "MFCC:  (13, 35) len :  17640\n",
      "### ./Sons/Gauche\\Gauche14.wav ###\n",
      "MFCC:  (13, 44) len :  22051\n",
      "### ./Sons/Gauche\\Gauche15.wav ###\n",
      "MFCC:  (13, 35) len :  17643\n",
      "### ./Sons/Gauche\\Gauche16.wav ###\n",
      "MFCC:  (13, 44) len :  22053\n",
      "### ./Sons/Gauche\\Gauche17.wav ###\n",
      "MFCC:  (13, 83) len :  41984\n",
      "### ./Sons/Gauche\\Gauche18.wav ###\n",
      "MFCC:  (13, 64) len :  32256\n",
      "### ./Sons/Gauche\\Gauche19.wav ###\n",
      "MFCC:  (13, 64) len :  32256\n",
      "### ./Sons/Gauche\\Gauche2.wav ###\n",
      "MFCC:  (13, 31) len :  15435\n",
      "### ./Sons/Gauche\\Gauche20.wav ###\n",
      "MFCC:  (13, 64) len :  32256\n",
      "### ./Sons/Gauche\\Gauche21.wav ###\n",
      "MFCC:  (13, 98) len :  49664\n",
      "### ./Sons/Gauche\\Gauche22.wav ###\n",
      "MFCC:  (13, 49) len :  24576\n",
      "### ./Sons/Gauche\\Gauche23.wav ###\n",
      "MFCC:  (13, 75) len :  37888\n",
      "### ./Sons/Gauche\\Gauche24.wav ###\n",
      "MFCC:  (13, 59) len :  29696\n",
      "### ./Sons/Droite\\AM_droite.wav ###\n",
      "MFCC:  (13, 57) len :  29165\n",
      "### ./Sons/Droite\\AP_Droite.wav ###\n",
      "MFCC:  (13, 65) len :  32928\n",
      "### ./Sons/Droite\\A_Droite.wav ###\n",
      "MFCC:  (13, 62) len :  31517\n",
      "### ./Sons/Droite\\Droite1.wav ###\n",
      "MFCC:  (13, 151) len :  77175\n",
      "### ./Sons/Droite\\Droite10.wav ###\n",
      "MFCC:  (13, 86) len :  43520\n",
      "### ./Sons/Droite\\Droite11.wav ###\n",
      "MFCC:  (13, 72) len :  36352\n",
      "### ./Sons/Droite\\Droite12.wav ###\n",
      "MFCC:  (13, 160) len :  81408\n",
      "### ./Sons/Droite\\Droite13.wav ###\n",
      "MFCC:  (13, 160) len :  81408\n",
      "### ./Sons/Droite\\Droite14.wav ###\n",
      "MFCC:  (13, 52) len :  26460\n",
      "### ./Sons/Droite\\Droite15.wav ###\n",
      "MFCC:  (13, 52) len :  26460\n",
      "### ./Sons/Droite\\Droite16.wav ###\n",
      "MFCC:  (13, 52) len :  26461\n",
      "### ./Sons/Droite\\Droite17.wav ###\n",
      "MFCC:  (13, 52) len :  26460\n",
      "### ./Sons/Droite\\Droite18.wav ###\n",
      "MFCC:  (13, 44) len :  22050\n",
      "### ./Sons/Droite\\Droite19.wav ###\n",
      "MFCC:  (13, 78) len :  39424\n",
      "### ./Sons/Droite\\Droite2.wav ###\n",
      "MFCC:  (13, 44) len :  22050\n",
      "### ./Sons/Droite\\Droite20.wav ###\n",
      "MFCC:  (13, 73) len :  36864\n",
      "### ./Sons/Droite\\Droite21.wav ###\n",
      "MFCC:  (13, 73) len :  36864\n",
      "### ./Sons/Droite\\Droite22.wav ###\n",
      "MFCC:  (13, 104) len :  52736\n",
      "### ./Sons/Droite\\Droite23.wav ###\n",
      "MFCC:  (13, 48) len :  24064\n",
      "### ./Sons/Droite\\Droite24.wav ###\n",
      "MFCC:  (13, 90) len :  45568\n",
      "### ./Sons/Milieu\\AM_milieu.wav ###\n",
      "MFCC:  (13, 53) len :  26813\n",
      "### ./Sons/Milieu\\AP_Milieu.wav ###\n",
      "MFCC:  (13, 76) len :  38573\n",
      "### ./Sons/Milieu\\A_Milieu.wav ###\n",
      "MFCC:  (13, 71) len :  36221\n",
      "### ./Sons/Milieu\\Milieu1.wav ###\n",
      "MFCC:  (13, 119) len :  60811\n",
      "### ./Sons/Milieu\\Milieu10.wav ###\n",
      "MFCC:  (13, 85) len :  43008\n",
      "### ./Sons/Milieu\\Milieu11.wav ###\n",
      "MFCC:  (13, 120) len :  60928\n",
      "### ./Sons/Milieu\\Milieu12.wav ###\n",
      "MFCC:  (13, 62) len :  31287\n",
      "### ./Sons/Milieu\\Milieu13.wav ###\n",
      "MFCC:  (13, 54) len :  27348\n",
      "### ./Sons/Milieu\\Milieu14.wav ###\n",
      "MFCC:  (13, 54) len :  27503\n",
      "### ./Sons/Milieu\\Milieu15.wav ###\n",
      "MFCC:  (13, 60) len :  30220\n",
      "### ./Sons/Milieu\\Milieu16.wav ###\n",
      "MFCC:  (13, 55) len :  27742\n",
      "### ./Sons/Milieu\\Milieu17.wav ###\n",
      "MFCC:  (13, 73) len :  36864\n",
      "### ./Sons/Milieu\\Milieu18.wav ###\n",
      "MFCC:  (13, 118) len :  59904\n",
      "### ./Sons/Milieu\\Milieu19.wav ###\n",
      "MFCC:  (13, 79) len :  39936\n",
      "### ./Sons/Milieu\\Milieu2.wav ###\n",
      "MFCC:  (13, 51) len :  25972\n",
      "### ./Sons/Milieu\\Milieu20.wav ###\n",
      "MFCC:  (13, 78) len :  39424\n",
      "### ./Sons/Milieu\\Milieu21.wav ###\n",
      "MFCC:  (13, 98) len :  49664\n",
      "### ./Sons/Milieu\\Milieu22.wav ###\n",
      "MFCC:  (13, 108) len :  54784\n",
      "### ./Sons/Milieu\\Milieu23.wav ###\n",
      "MFCC:  (13, 59) len :  29906\n",
      "### ./Sons/Milieu\\Milieu24.wav ###\n",
      "MFCC:  (13, 75) len :  38264\n",
      "### ./Sons/Bas\\AM_bas.wav ###\n",
      "MFCC:  (13, 61) len :  31047\n",
      "### ./Sons/Bas\\AP_Bas.wav ###\n",
      "MFCC:  (13, 48) len :  24461\n",
      "### ./Sons/Bas\\A_Bas.wav ###\n",
      "MFCC:  (13, 61) len :  31047\n",
      "### ./Sons/Bas\\Bas1.wav ###\n",
      "MFCC:  (13, 44) len :  22050\n",
      "### ./Sons/Bas\\Bas10.wav ###\n",
      "MFCC:  (13, 68) len :  34304\n",
      "### ./Sons/Bas\\Bas11.wav ###\n",
      "MFCC:  (13, 130) len :  66048\n",
      "### ./Sons/Bas\\Bas12.wav ###\n",
      "MFCC:  (13, 31) len :  15435\n",
      "### ./Sons/Bas\\Bas13.wav ###\n",
      "MFCC:  (13, 35) len :  17640\n",
      "### ./Sons/Bas\\Bas14.wav ###\n",
      "MFCC:  (13, 33) len :  16538\n",
      "### ./Sons/Bas\\Bas15.wav ###\n",
      "MFCC:  (13, 31) len :  15438\n",
      "### ./Sons/Bas\\Bas16.wav ###\n",
      "MFCC:  (13, 44) len :  22050\n",
      "### ./Sons/Bas\\Bas17.wav ###\n",
      "MFCC:  (13, 54) len :  27136\n",
      "### ./Sons/Bas\\Bas18.wav ###\n",
      "MFCC:  (13, 65) len :  32768\n",
      "### ./Sons/Bas\\Bas19.wav ###\n",
      "MFCC:  (13, 54) len :  27136\n",
      "### ./Sons/Bas\\Bas2.wav ###\n",
      "MFCC:  (13, 26) len :  13230\n",
      "### ./Sons/Bas\\Bas20.wav ###\n",
      "MFCC:  (13, 106) len :  53760\n",
      "### ./Sons/Bas\\Bas21.wav ###\n",
      "MFCC:  (13, 73) len :  36864\n",
      "### ./Sons/Bas\\Bas22.wav ###\n",
      "MFCC:  (13, 65) len :  32768\n",
      "### ./Sons/Bas\\Bas23.wav ###\n",
      "MFCC:  (13, 103) len :  52224\n",
      "### ./Sons/Bas\\Bas24.wav ###\n",
      "MFCC:  (13, 93) len :  47104\n",
      "shape :  (80, 13)\n"
     ]
    }
   ],
   "source": [
    "nb=20\n",
    "lesMfcc = np.empty(shape=(nb*len(classes), 13), dtype=float)\n",
    "lesMfcc = build_MFCC(lesMfcc, nb)\n"
   ]
  },
  {
   "cell_type": "markdown",
   "metadata": {},
   "source": [
    "### Classification linéaire des sons"
   ]
  },
  {
   "cell_type": "markdown",
   "metadata": {},
   "source": [
    "Il ne reste plus que l'étape de classification des sons. On va utiliser pour cela une méthode simple de classification linéaire: <a href=\"https://scikit-learn.org/stable/modules/generated/sklearn.linear_model.LogisticRegression.html\">la régression logistique</a>."
   ]
  },
  {
   "cell_type": "code",
   "execution_count": 6,
   "outputs": [
    {
     "name": "stderr",
     "output_type": "stream",
     "text": [
      "C:\\Users\\Vinh\\AppData\\Local\\Programs\\Python\\Python310\\lib\\site-packages\\sklearn\\linear_model\\_logistic.py:814: ConvergenceWarning: lbfgs failed to converge (status=1):\n",
      "STOP: TOTAL NO. of ITERATIONS REACHED LIMIT.\n",
      "\n",
      "Increase the number of iterations (max_iter) or scale the data as shown in:\n",
      "    https://scikit-learn.org/stable/modules/preprocessing.html\n",
      "Please also refer to the documentation for alternative solver options:\n",
      "    https://scikit-learn.org/stable/modules/linear_model.html#logistic-regression\n",
      "  n_iter_i = _check_optimize_result(\n"
     ]
    },
    {
     "data": {
      "text/plain": "LogisticRegression()"
     },
     "execution_count": 6,
     "metadata": {},
     "output_type": "execute_result"
    }
   ],
   "source": [
    "# création de l'objet de regression logistique\n",
    "logisticRegr = LogisticRegression()\n",
    "\n",
    "# classes des sons:\n",
    "yTrain = []\n",
    "for clNumber in range(len(classes)):\n",
    "    yTrain += [clNumber]*nb\n",
    "\n",
    "# apprentissage de la séparation en utilisation des données pour lesquelles on connait la classe\n",
    "logisticRegr.fit(lesMfcc, yTrain)\n"
   ],
   "metadata": {
    "collapsed": false,
    "pycharm": {
     "name": "#%%\n"
    }
   }
  },
  {
   "cell_type": "code",
   "execution_count": 7,
   "metadata": {
    "ExecuteTime": {
     "end_time": "2022-02-25T08:59:45.739936Z",
     "start_time": "2022-02-25T08:59:45.735686Z"
    }
   },
   "outputs": [
    {
     "name": "stdout",
     "output_type": "stream",
     "text": [
      "[-4.69089787e+02  8.63889294e+01  1.39268181e+01  1.89268923e+01\n",
      "  1.78328517e+00  7.06519408e+00 -2.39426885e+00 -3.99301274e-01\n",
      " -4.65427798e+00  7.91415403e-01 -2.48054977e+00 -1.13191820e-01\n",
      " -3.19836352e+00]\n",
      "[76.32810292 27.55803413 10.80640636 11.58393458  9.39365411  7.53728595\n",
      "  7.70266053  7.26641346  5.59684665  4.74261308  6.5263291   4.46761364\n",
      "  4.04859528]\n"
     ]
    }
   ],
   "source": [
    "scaler = preprocessing.StandardScaler().fit(lesMfcc)\n",
    "\n",
    "print(scaler.mean_)\n",
    "print(scaler.scale_)\n",
    "\n",
    "xTrain = scaler.transform(lesMfcc)"
   ]
  },
  {
   "cell_type": "code",
   "execution_count": 8,
   "metadata": {
    "ExecuteTime": {
     "end_time": "2022-02-25T09:00:14.900690Z",
     "start_time": "2022-02-25T09:00:14.892372Z"
    }
   },
   "outputs": [
    {
     "name": "stdout",
     "output_type": "stream",
     "text": [
      "train F1 score =  0.7250000000000001\n",
      "train accuracy score =  0.725\n"
     ]
    }
   ],
   "source": [
    "ypred = logisticRegr.predict(xTrain)\n",
    "print(\"train F1 score = \", f1_score(yTrain, ypred, average = 'micro'))\n",
    "print(\"train accuracy score = \", accuracy_score(yTrain, ypred))\n"
   ]
  },
  {
   "cell_type": "code",
   "execution_count": 9,
   "metadata": {
    "ExecuteTime": {
     "end_time": "2022-02-25T09:00:43.964577Z",
     "start_time": "2022-02-25T09:00:43.837453Z"
    }
   },
   "outputs": [
    {
     "data": {
      "text/plain": "<Figure size 432x288 with 2 Axes>",
      "image/png": "[encoded data removed]"
     },
     "metadata": {
      "needs_background": "light"
     },
     "output_type": "display_data"
    }
   ],
   "source": [
    "cm = confusion_matrix(yTrain, ypred, labels=[0,1,2,3])\n",
    "disp = ConfusionMatrixDisplay(confusion_matrix=cm, display_labels=classes)\n",
    "disp.plot()\n",
    "disp.ax_.set_title('Confusion matrix (train dataset)')\n",
    "plt.show()"
   ]
  },
  {
   "cell_type": "markdown",
   "metadata": {},
   "source": [
    "### Evaluation de la classification"
   ]
  },
  {
   "cell_type": "markdown",
   "metadata": {},
   "source": [
    "Pour évaluer de façon juste, on va utiliser des sons qui n'ont pas déjà servi à l'apprentissage. On va par exemple prendre les nb derniers de chaque classe."
   ]
  },
  {
   "cell_type": "code",
   "execution_count": 10,
   "metadata": {
    "ExecuteTime": {
     "end_time": "2022-02-25T09:01:28.380732Z",
     "start_time": "2022-02-25T09:01:26.600587Z"
    },
    "scrolled": true
   },
   "outputs": [
    {
     "name": "stdout",
     "output_type": "stream",
     "text": [
      "### ./Sons/Gauche\\AM_gauche.wav ###\n",
      "MFCC:  (13, 69) len :  35280\n",
      "### ./Sons/Gauche\\AP_Gauche.wav ###\n",
      "MFCC:  (13, 74) len :  37632\n",
      "### ./Sons/Gauche\\A_Gauche.wav ###\n",
      "MFCC:  (13, 65) len :  32928\n",
      "### ./Sons/Gauche\\Gauche1.wav ###\n",
      "MFCC:  (13, 108) len :  55125\n",
      "### ./Sons/Gauche\\Gauche10.wav ###\n",
      "MFCC:  (13, 68) len :  34304\n",
      "### ./Sons/Gauche\\Gauche11.wav ###\n",
      "MFCC:  (13, 164) len :  83456\n",
      "### ./Sons/Gauche\\Gauche12.wav ###\n",
      "MFCC:  (13, 44) len :  22050\n",
      "### ./Sons/Gauche\\Gauche13.wav ###\n",
      "MFCC:  (13, 35) len :  17640\n",
      "### ./Sons/Gauche\\Gauche14.wav ###\n",
      "MFCC:  (13, 44) len :  22051\n",
      "### ./Sons/Gauche\\Gauche15.wav ###\n",
      "MFCC:  (13, 35) len :  17643\n",
      "### ./Sons/Droite\\AM_droite.wav ###\n",
      "MFCC:  (13, 57) len :  29165\n",
      "### ./Sons/Droite\\AP_Droite.wav ###\n",
      "MFCC:  (13, 65) len :  32928\n",
      "### ./Sons/Droite\\A_Droite.wav ###\n",
      "MFCC:  (13, 62) len :  31517\n",
      "### ./Sons/Droite\\Droite1.wav ###\n",
      "MFCC:  (13, 151) len :  77175\n",
      "### ./Sons/Droite\\Droite10.wav ###\n",
      "MFCC:  (13, 86) len :  43520\n",
      "### ./Sons/Droite\\Droite11.wav ###\n",
      "MFCC:  (13, 72) len :  36352\n",
      "### ./Sons/Droite\\Droite12.wav ###\n",
      "MFCC:  (13, 160) len :  81408\n",
      "### ./Sons/Droite\\Droite13.wav ###\n",
      "MFCC:  (13, 160) len :  81408\n",
      "### ./Sons/Droite\\Droite14.wav ###\n",
      "MFCC:  (13, 52) len :  26460\n",
      "### ./Sons/Droite\\Droite15.wav ###\n",
      "MFCC:  (13, 52) len :  26460\n",
      "### ./Sons/Milieu\\AM_milieu.wav ###\n",
      "MFCC:  (13, 53) len :  26813\n",
      "### ./Sons/Milieu\\AP_Milieu.wav ###\n",
      "MFCC:  (13, 76) len :  38573\n",
      "### ./Sons/Milieu\\A_Milieu.wav ###\n",
      "MFCC:  (13, 71) len :  36221\n",
      "### ./Sons/Milieu\\Milieu1.wav ###\n",
      "MFCC:  (13, 119) len :  60811\n",
      "### ./Sons/Milieu\\Milieu10.wav ###\n",
      "MFCC:  (13, 85) len :  43008\n",
      "### ./Sons/Milieu\\Milieu11.wav ###\n",
      "MFCC:  (13, 120) len :  60928\n",
      "### ./Sons/Milieu\\Milieu12.wav ###\n",
      "MFCC:  (13, 62) len :  31287\n",
      "### ./Sons/Milieu\\Milieu13.wav ###\n",
      "MFCC:  (13, 54) len :  27348\n",
      "### ./Sons/Milieu\\Milieu14.wav ###\n",
      "MFCC:  (13, 54) len :  27503\n",
      "### ./Sons/Milieu\\Milieu15.wav ###\n",
      "MFCC:  (13, 60) len :  30220\n",
      "### ./Sons/Bas\\AM_bas.wav ###\n",
      "MFCC:  (13, 61) len :  31047\n",
      "### ./Sons/Bas\\AP_Bas.wav ###\n",
      "MFCC:  (13, 48) len :  24461\n",
      "### ./Sons/Bas\\A_Bas.wav ###\n",
      "MFCC:  (13, 61) len :  31047\n",
      "### ./Sons/Bas\\Bas1.wav ###\n",
      "MFCC:  (13, 44) len :  22050\n",
      "### ./Sons/Bas\\Bas10.wav ###\n",
      "MFCC:  (13, 68) len :  34304\n",
      "### ./Sons/Bas\\Bas11.wav ###\n",
      "MFCC:  (13, 130) len :  66048\n",
      "### ./Sons/Bas\\Bas12.wav ###\n",
      "MFCC:  (13, 31) len :  15435\n",
      "### ./Sons/Bas\\Bas13.wav ###\n",
      "MFCC:  (13, 35) len :  17640\n",
      "### ./Sons/Bas\\Bas14.wav ###\n",
      "MFCC:  (13, 33) len :  16538\n",
      "### ./Sons/Bas\\Bas15.wav ###\n",
      "MFCC:  (13, 31) len :  15438\n",
      "shape :  (40, 13)\n"
     ]
    }
   ],
   "source": [
    "nbTest = 10\n",
    "lesMfccTest = np.empty(shape=(nbTest*len(classes), 13), dtype=float)\n",
    "lesMfccTest = build_MFCC(lesMfccTest, nbTest)\n",
    "xTest = scaler.transform(lesMfccTest)\n",
    "yTest = []\n",
    "for clNumber in range(len(classes)):\n",
    "    yTest += [clNumber]*nbTest"
   ]
  },
  {
   "cell_type": "code",
   "execution_count": 11,
   "metadata": {
    "ExecuteTime": {
     "end_time": "2022-02-25T09:01:34.439586Z",
     "start_time": "2022-02-25T09:01:34.428698Z"
    }
   },
   "outputs": [
    {
     "name": "stdout",
     "output_type": "stream",
     "text": [
      "test F1 score =  0.675\n",
      "test accuracy score =  0.675\n"
     ]
    }
   ],
   "source": [
    "predTest = logisticRegr.predict(xTest)\n",
    "print(\"test F1 score = \", f1_score(yTest, predTest, average = 'micro'))\n",
    "print(\"test accuracy score = \", accuracy_score(yTest, predTest))\n"
   ]
  },
  {
   "cell_type": "code",
   "execution_count": 12,
   "outputs": [
    {
     "data": {
      "text/plain": "<Figure size 432x288 with 2 Axes>",
      "image/png": "[encoded data removed]"
     },
     "metadata": {
      "needs_background": "light"
     },
     "output_type": "display_data"
    }
   ],
   "source": [
    "cm = confusion_matrix(yTest, predTest, labels=[0,1,2,3])\n",
    "disp = ConfusionMatrixDisplay(confusion_matrix=cm, display_labels=classes)\n",
    "disp.plot()\n",
    "disp.ax_.set_title('Confusion matrix (test dataset)')\n",
    "plt.show()"
   ],
   "metadata": {
    "collapsed": false,
    "pycharm": {
     "name": "#%%\n"
    }
   }
  },
  {
   "cell_type": "markdown",
   "source": [
    "On peut voir que les mots milieu et droite sont assez bien reconnus, le mot bas un peu moins, et le mot gauche est le mot le moins bien reconnu dans notre liste.\n",
    "Cependant, ces résultats varient en fonction des enregistrements utilisés, il nous est arrivé que le mot bas soit mieux reconnu que le mot gauche. Afin de limiter au plus ce genre de différences, il faudrait utiliser plus d'enregistrements de chaque mot pour l'apprentissage, avec des intonations et des accents différents."
   ],
   "metadata": {
    "collapsed": false,
    "pycharm": {
     "name": "#%% md\n"
    }
   }
  },
  {
   "cell_type": "markdown",
   "source": [
    "## Classification par sac de descripteurs"
   ],
   "metadata": {
    "collapsed": false,
    "pycharm": {
     "name": "#%% md\n"
    }
   }
  },
  {
   "cell_type": "code",
   "execution_count": 13,
   "outputs": [],
   "source": [
    "def build_bof(k, lesLabels, dimSons):\n",
    "    '''méthode pour construire le Bag Of Features d'un échantillon de sons'''\n",
    "    bofs = np.empty(shape = (0, k), dtype = int) # tableau des BoF\n",
    "    i = 0 # indice pour le parcours de MFCC\n",
    "\n",
    "    for nbS in dimSons: # Parcours des sons\n",
    "        tmpBof = np.array([0]*k) # initialisation du BOF pour le son courant\n",
    "        j = 0\n",
    "        while j < nbS: # pour chaque MFCC de ce son\n",
    "            tmpBof[lesLabels[i]] += 1\n",
    "            j+=1\n",
    "            i+=1\n",
    "        tmpBof = tmpBof/nbS # transformation en pourcentage\n",
    "        copyBof = tmpBof.copy()\n",
    "        bofs = np.append(bofs, [copyBof], 0)\n",
    "\n",
    "    return bofs\n",
    "\n",
    "def build_MFCC_for_bof(listSons, lesMfcc, dimSons, nb = 20):\n",
    "    '''méthode pour construite le tableau des MFCC d'un échantillon de sons'''\n",
    "    global taille_mfcc\n",
    "    for s in listSons[:nb]: # on prends les nb premiers sons de la liste 1\n",
    "        sig, rate = librosa.load(s)\n",
    "        mfcc_feat = librosa.feature.mfcc(sig,rate,n_mfcc=taille_mfcc) # on calcule les MFCC du son\n",
    "\n",
    "        lesMfcc = np.append(lesMfcc, mfcc_feat.transpose(), axis = 0) # on ajoute les MFCC du son à notre array\n",
    "        dimSons.append(mfcc_feat.shape[1]) # et on \"déclare\" le nombre de MFCC du son\n",
    "    return lesMfcc"
   ],
   "metadata": {
    "collapsed": false,
    "pycharm": {
     "name": "#%%\n"
    }
   }
  },
  {
   "cell_type": "code",
   "execution_count": 14,
   "outputs": [
    {
     "name": "stdout",
     "output_type": "stream",
     "text": [
      "train score pour k = 2: 0.3125\n",
      "test score pour k = 2: 0.3\n",
      "train score pour k = 3: 0.3\n",
      "test score pour k = 3: 0.3\n",
      "train score pour k = 4: 0.4125\n",
      "test score pour k = 4: 0.425\n",
      "train score pour k = 5: 0.575\n",
      "test score pour k = 5: 0.525\n",
      "train score pour k = 6: 0.55\n",
      "test score pour k = 6: 0.45\n",
      "train score pour k = 7: 0.5875\n",
      "test score pour k = 7: 0.6\n",
      "train score pour k = 8: 0.6125\n",
      "test score pour k = 8: 0.5\n",
      "train score pour k = 9: 0.675\n",
      "test score pour k = 9: 0.425\n",
      "train score pour k = 10: 0.6125\n",
      "test score pour k = 10: 0.45\n",
      "train score pour k = 11: 0.6875\n",
      "test score pour k = 11: 0.6\n",
      "train score pour k = 12: 0.7375\n",
      "test score pour k = 12: 0.65\n",
      "train score pour k = 13: 0.7375\n",
      "test score pour k = 13: 0.575\n",
      "train score pour k = 14: 0.7250000000000001\n",
      "test score pour k = 14: 0.625\n"
     ]
    }
   ],
   "source": [
    "# partie d'initialisation des fichiers sons\n",
    "################################################################################################################\n",
    "\n",
    "basedir=\"./Sons/\"\n",
    "class1 = 'Gauche'\n",
    "class2 = 'Droite'\n",
    "class3 = 'Milieu'\n",
    "class4 = 'Bas'\n",
    "\n",
    "listSons1 = glob.glob(basedir+class1+\"/*.wav\")\n",
    "listSons2 = glob.glob(basedir+class2+\"/*.wav\")\n",
    "listSons3 = glob.glob(basedir+class3+\"/*.wav\")\n",
    "listSons4 = glob.glob(basedir+class4+\"/*.wav\")\n",
    "\n",
    "\n",
    "\n",
    "# partie construction du vecteur de tous les MFCC\n",
    "################################################################################################################\n",
    "\n",
    "nb = 20 # nombre de sons dans l'échantillon\n",
    "lesMfcc = np.empty(shape = (0, 13), dtype = float) # tableau de tous les MFCC (de tous les sons)\n",
    "dimSons = []\n",
    "lesMfcc = build_MFCC_for_bof(listSons1, lesMfcc, dimSons, nb)\n",
    "lesMfcc = build_MFCC_for_bof(listSons2, lesMfcc, dimSons, nb)\n",
    "lesMfcc = build_MFCC_for_bof(listSons3, lesMfcc, dimSons, nb)\n",
    "lesMfcc = build_MFCC_for_bof(listSons4, lesMfcc, dimSons, nb)\n",
    "\n",
    "\n",
    "nbTest=10\n",
    "lesMfccTest = np.empty(shape=(0, 13), dtype=float)\n",
    "dimSonsTest = []\n",
    "# on va prendre les nb derniers sons\n",
    "lesMfccTest = build_MFCC_for_bof(listSons1[-nbTest:], lesMfccTest, dimSonsTest, nbTest)\n",
    "lesMfccTest = build_MFCC_for_bof(listSons2[-nbTest:], lesMfccTest, dimSonsTest, nbTest)\n",
    "lesMfccTest = build_MFCC_for_bof(listSons3[-nbTest:], lesMfccTest, dimSonsTest, nbTest)\n",
    "lesMfccTest = build_MFCC_for_bof(listSons4[-nbTest:], lesMfccTest, dimSonsTest, nbTest)\n",
    "\n",
    "\n",
    "# ici on va tester l'apprentissage en faisant varier le nombre de clusters k\n",
    "\n",
    "# apprentissage\n",
    "################################################################################################################\n",
    "\n",
    "test_k_results = {}\n",
    "train_k_results = {}\n",
    "\n",
    "for k in range(2, 15):\n",
    "    monKmeans = KMeans(n_clusters = k) # création de l'objet\n",
    "    monKmeans.fit(lesMfcc) # apprentissage\n",
    "    lesLabels = monKmeans.labels_ # tableau des numéros de \"regroupement\" de toutes nos MFCC\n",
    "\n",
    "    bofs = build_bof(k, lesLabels, dimSons)\n",
    "\n",
    "    logisticRegr = LogisticRegression() # création de l'objet de regression logistique\n",
    "\n",
    "    # classes des sons (0 pour classe1 et 1 pour classe2)\n",
    "    groundTruth = [0]*nb + [1]*nb + [2]*nb + [3]*nb\n",
    "\n",
    "    logisticRegr.fit(bofs, groundTruth) # apprentissage\n",
    "    resTrain = logisticRegr.predict(bofs)\n",
    "    scoreTrain = f1_score(groundTruth, resTrain, average='micro')\n",
    "    print(f'train score pour k = {k}:', scoreTrain)\n",
    "    train_k_results[k] = scoreTrain\n",
    "\n",
    "\n",
    "\n",
    "    lesLabelsTest = monKmeans.predict(lesMfccTest) # prédiction des partitions pour ces MFCCs\n",
    "\n",
    "\n",
    "\n",
    "    bofsTest = build_bof(k, lesLabelsTest, dimSonsTest)\n",
    "\n",
    "    groundTruthTest = [0]*nbTest + [1]*nbTest + [2]*nbTest + [3]*nbTest\n",
    "    resTest = logisticRegr.predict(bofsTest)\n",
    "    scoreTest = f1_score(groundTruthTest,resTest, average='micro')\n",
    "    print(f'test score pour k = {k}:', scoreTest)\n",
    "    test_k_results[k] = scoreTest"
   ],
   "metadata": {
    "collapsed": false,
    "pycharm": {
     "name": "#%%\n"
    }
   }
  },
  {
   "cell_type": "code",
   "execution_count": 15,
   "outputs": [
    {
     "name": "stdout",
     "output_type": "stream",
     "text": [
      "k max = 11\n",
      "train score pour k = 11: 0.7\n",
      "test score pour taille Mfcc = 13: 0.6\n",
      "train score pour k = 11: 0.6875\n",
      "test score pour taille Mfcc = 14: 0.47500000000000003\n",
      "train score pour k = 11: 0.6625\n",
      "test score pour taille Mfcc = 15: 0.6\n",
      "train score pour k = 11: 0.7125\n",
      "test score pour taille Mfcc = 16: 0.575\n",
      "train score pour k = 11: 0.75\n",
      "test score pour taille Mfcc = 17: 0.6\n",
      "train score pour k = 11: 0.7\n",
      "test score pour taille Mfcc = 18: 0.6\n",
      "train score pour k = 11: 0.7125\n",
      "test score pour taille Mfcc = 19: 0.55\n"
     ]
    }
   ],
   "source": [
    "k = 0\n",
    "maxValue = max(test_k_results.values())\n",
    "for value in test_k_results.values():\n",
    "    k += 1\n",
    "    if maxValue == value:\n",
    "        break\n",
    "print(f\"k max = {k}\")\n",
    "scoreTestMax = 0\n",
    "taille_mfcc_best = 0\n",
    "\n",
    "for taille_mfcc in range(13, 20):\n",
    "    lesMfcc = np.empty(shape = (0, taille_mfcc), dtype = float) # tableau de tous les MFCC (de tous les sons)\n",
    "    dimSons = []\n",
    "    lesMfcc = build_MFCC_for_bof(listSons1, lesMfcc, dimSons, nb)\n",
    "    lesMfcc = build_MFCC_for_bof(listSons2, lesMfcc, dimSons, nb)\n",
    "    lesMfcc = build_MFCC_for_bof(listSons3, lesMfcc, dimSons, nb)\n",
    "    lesMfcc = build_MFCC_for_bof(listSons4, lesMfcc, dimSons, nb)\n",
    "\n",
    "\n",
    "    lesMfccTest = np.empty(shape=(0, taille_mfcc), dtype=float)\n",
    "    dimSonsTest = []\n",
    "    # on va prendre les nb derniers sons\n",
    "    lesMfccTest = build_MFCC_for_bof(listSons1[-nbTest:], lesMfccTest, dimSonsTest, nbTest)\n",
    "    lesMfccTest = build_MFCC_for_bof(listSons2[-nbTest:], lesMfccTest, dimSonsTest, nbTest)\n",
    "    lesMfccTest = build_MFCC_for_bof(listSons3[-nbTest:], lesMfccTest, dimSonsTest, nbTest)\n",
    "    lesMfccTest = build_MFCC_for_bof(listSons4[-nbTest:], lesMfccTest, dimSonsTest, nbTest)\n",
    "\n",
    "    monKmeans = KMeans(n_clusters = k) # création de l'objet\n",
    "    monKmeans.fit(lesMfcc) # apprentissage\n",
    "    lesLabels = monKmeans.labels_ # tableau des numéros de \"regroupement\" de toutes nos MFCC\n",
    "\n",
    "    bofs = build_bof(k, lesLabels, dimSons)\n",
    "\n",
    "    logisticRegr = LogisticRegression() # création de l'objet de regression logistique\n",
    "\n",
    "    # classes des sons (0 pour classe1 et 1 pour classe2)\n",
    "    groundTruth = [0]*nb + [1]*nb + [2]*nb + [3]*nb\n",
    "\n",
    "    logisticRegr.fit(bofs, groundTruth) # apprentissage\n",
    "    resTrain = logisticRegr.predict(bofs)\n",
    "    scoreTrain = f1_score(groundTruth, resTrain, average='micro')\n",
    "    print(f'train score pour k = {k}:', scoreTrain)\n",
    "    train_k_results[k] = scoreTrain\n",
    "\n",
    "\n",
    "    lesLabelsTest = monKmeans.predict(lesMfccTest) # prédiction des partitions pour ces MFCCs\n",
    "\n",
    "    bofsTest = build_bof(k, lesLabelsTest, dimSonsTest)\n",
    "\n",
    "    groundTruthTest = [0]*nbTest + [1]*nbTest + [2]*nbTest + [3]*nbTest\n",
    "    resTest = logisticRegr.predict(bofsTest)\n",
    "    scoreTest = f1_score(groundTruthTest,resTest, average='micro')\n",
    "    if scoreTestMax<scoreTest:\n",
    "        scoreTestMax = scoreTest\n",
    "        taille_mfcc_best = taille_mfcc\n",
    "    print(f'test score pour taille Mfcc = {taille_mfcc}:', scoreTest)"
   ],
   "metadata": {
    "collapsed": false,
    "pycharm": {
     "name": "#%%\n"
    }
   }
  },
  {
   "cell_type": "code",
   "execution_count": 16,
   "outputs": [
    {
     "name": "stdout",
     "output_type": "stream",
     "text": [
      "The max for k = 11, is a score of 0.6 with a MFCC's size of 13\n"
     ]
    }
   ],
   "source": [
    "print(f\"The max for k = {k}, is a score of {scoreTestMax} with a MFCC's size of {taille_mfcc_best}\")"
   ],
   "metadata": {
    "collapsed": false,
    "pycharm": {
     "name": "#%%\n"
    }
   }
  },
  {
   "cell_type": "code",
   "execution_count": 24,
   "outputs": [
    {
     "name": "stdout",
     "output_type": "stream",
     "text": [
      "train score pour k = 11: 0.7\n",
      "test score pour taille Mfcc = 13: 0.6\n"
     ]
    }
   ],
   "source": [
    "taille_mfcc = taille_mfcc_best\n",
    "lesMfcc = np.empty(shape = (0, taille_mfcc), dtype = float) # tableau de tous les MFCC (de tous les sons)\n",
    "dimSons = []\n",
    "lesMfcc = build_MFCC_for_bof(listSons1, lesMfcc, dimSons, nb)\n",
    "lesMfcc = build_MFCC_for_bof(listSons2, lesMfcc, dimSons, nb)\n",
    "lesMfcc = build_MFCC_for_bof(listSons3, lesMfcc, dimSons, nb)\n",
    "lesMfcc = build_MFCC_for_bof(listSons4, lesMfcc, dimSons, nb)\n",
    "\n",
    "\n",
    "lesMfccTest = np.empty(shape=(0, taille_mfcc), dtype=float)\n",
    "dimSonsTest = []\n",
    "# on va prendre les nb derniers sons\n",
    "lesMfccTest = build_MFCC_for_bof(listSons1[-nbTest:], lesMfccTest, dimSonsTest, nbTest)\n",
    "lesMfccTest = build_MFCC_for_bof(listSons2[-nbTest:], lesMfccTest, dimSonsTest, nbTest)\n",
    "lesMfccTest = build_MFCC_for_bof(listSons3[-nbTest:], lesMfccTest, dimSonsTest, nbTest)\n",
    "lesMfccTest = build_MFCC_for_bof(listSons4[-nbTest:], lesMfccTest, dimSonsTest, nbTest)\n",
    "\n",
    "monKmeans = KMeans(n_clusters = k) # création de l'objet\n",
    "monKmeans.fit(lesMfcc) # apprentissage\n",
    "lesLabels = monKmeans.labels_ # tableau des numéros de \"regroupement\" de toutes nos MFCC\n",
    "\n",
    "bofs = build_bof(k, lesLabels, dimSons)\n",
    "\n",
    "logisticRegr = LogisticRegression() # création de l'objet de regression logistique\n",
    "\n",
    "# classes des sons (0 pour classe1 et 1 pour classe2)\n",
    "groundTruth = [0]*nb + [1]*nb + [2]*nb + [3]*nb\n",
    "\n",
    "logisticRegr.fit(bofs, groundTruth) # apprentissage\n",
    "resTrain = logisticRegr.predict(bofs)\n",
    "scoreTrain = f1_score(groundTruth, resTrain, average='micro')\n",
    "print(f'train score pour k = {k}:', scoreTrain)\n",
    "train_k_results[k] = scoreTrain\n",
    "\n",
    "\n",
    "lesLabelsTest = monKmeans.predict(lesMfccTest) # prédiction des partitions pour ces MFCCs\n",
    "\n",
    "bofsTest = build_bof(k, lesLabelsTest, dimSonsTest)\n",
    "\n",
    "groundTruthTest = [0]*nbTest + [1]*nbTest + [2]*nbTest + [3]*nbTest\n",
    "resTest = logisticRegr.predict(bofsTest)\n",
    "scoreTest = f1_score(groundTruthTest,resTest, average='micro')\n",
    "print(f'test score pour taille Mfcc = {taille_mfcc}:', scoreTest)"
   ],
   "metadata": {
    "collapsed": false,
    "pycharm": {
     "name": "#%%\n"
    }
   }
  },
  {
   "cell_type": "code",
   "execution_count": 25,
   "outputs": [
    {
     "name": "stdout",
     "output_type": "stream",
     "text": [
      "[0.0683472  0.13070366 0.06539793 0.22732929 0.05099236 0.09601257\n",
      " 0.05560985 0.0446712  0.04713807 0.17256214 0.04123573]\n",
      "[0.13132436 0.17367593 0.06071093 0.25139469 0.0826579  0.1438003\n",
      " 0.07264923 0.11974115 0.05713991 0.17927215 0.06859015]\n"
     ]
    }
   ],
   "source": [
    "scaler = preprocessing.StandardScaler().fit(bofs)\n",
    "\n",
    "print(scaler.mean_)\n",
    "print(scaler.scale_)\n",
    "\n",
    "xTrain = scaler.transform(bofs)"
   ],
   "metadata": {
    "collapsed": false,
    "pycharm": {
     "name": "#%%\n"
    }
   }
  },
  {
   "cell_type": "code",
   "execution_count": 26,
   "outputs": [],
   "source": [
    "ypred = logisticRegr.predict(xTrain)"
   ],
   "metadata": {
    "collapsed": false,
    "pycharm": {
     "name": "#%%\n"
    }
   }
  },
  {
   "cell_type": "code",
   "execution_count": 27,
   "outputs": [
    {
     "data": {
      "text/plain": "<Figure size 432x288 with 2 Axes>",
      "image/png": "[encoded data removed]"
     },
     "metadata": {
      "needs_background": "light"
     },
     "output_type": "display_data"
    }
   ],
   "source": [
    "cm = confusion_matrix(yTrain, ypred, labels=[0,1,2,3])\n",
    "disp = ConfusionMatrixDisplay(confusion_matrix=cm, display_labels=classes)\n",
    "disp.plot()\n",
    "disp.ax_.set_title('Confusion matrix (train dataset)')\n",
    "plt.show()"
   ],
   "metadata": {
    "collapsed": false,
    "pycharm": {
     "name": "#%%\n"
    }
   }
  },
  {
   "cell_type": "code",
   "execution_count": 28,
   "outputs": [],
   "source": [
    "xTest = scaler.transform(bofsTest)\n",
    "yTest = []\n",
    "for clNumber in range(len(classes)):\n",
    "    yTest += [clNumber]*nbTest"
   ],
   "metadata": {
    "collapsed": false,
    "pycharm": {
     "name": "#%%\n"
    }
   }
  },
  {
   "cell_type": "code",
   "execution_count": 29,
   "outputs": [],
   "source": [
    "ypred = logisticRegr.predict(xTrain)"
   ],
   "metadata": {
    "collapsed": false,
    "pycharm": {
     "name": "#%%\n"
    }
   }
  },
  {
   "cell_type": "code",
   "execution_count": 30,
   "outputs": [
    {
     "data": {
      "text/plain": "<Figure size 432x288 with 2 Axes>",
      "image/png": "[encoded data removed]"
     },
     "metadata": {
      "needs_background": "light"
     },
     "output_type": "display_data"
    }
   ],
   "source": [
    "cm = confusion_matrix(yTest, predTest, labels=[0,1,2,3])\n",
    "disp = ConfusionMatrixDisplay(confusion_matrix=cm, display_labels=classes)\n",
    "disp.plot()\n",
    "disp.ax_.set_title('Confusion matrix (test dataset)')\n",
    "plt.show()"
   ],
   "metadata": {
    "collapsed": false,
    "pycharm": {
     "name": "#%%\n"
    }
   }
  },
  {
   "cell_type": "code",
   "execution_count": null,
   "outputs": [],
   "source": [],
   "metadata": {
    "collapsed": false,
    "pycharm": {
     "name": "#%%\n"
    }
   }
  }
 ],
 "metadata": {
  "hide_input": false,
  "kernelspec": {
   "display_name": "Python 3",
   "language": "python",
   "name": "python3"
  },
  "language_info": {
   "codemirror_mode": {
    "name": "ipython",
    "version": 3
   },
   "file_extension": ".py",
   "mimetype": "text/x-python",
   "name": "python",
   "nbconvert_exporter": "python",
   "pygments_lexer": "ipython3",
   "version": "3.8.10"
  },
  "latex_envs": {
   "LaTeX_envs_menu_present": true,
   "autoclose": false,
   "autocomplete": true,
   "bibliofile": "biblio.bib",
   "cite_by": "apalike",
   "current_citInitial": 1,
   "eqLabelWithNumbers": true,
   "eqNumInitial": 1,
   "hotkeys": {
    "equation": "Ctrl-E",
    "itemize": "Ctrl-I"
   },
   "labels_anchors": false,
   "latex_user_defs": false,
   "report_style_numbering": false,
   "user_envs_cfg": false
  },
  "varInspector": {
   "cols": {
    "lenName": 16,
    "lenType": 16,
    "lenVar": 40
   },
   "kernels_config": {
    "python": {
     "delete_cmd_postfix": "",
     "delete_cmd_prefix": "del ",
     "library": "var_list.py",
     "varRefreshCmd": "print(var_dic_list())"
    },
    "r": {
     "delete_cmd_postfix": ") ",
     "delete_cmd_prefix": "rm(",
     "library": "var_list.r",
     "varRefreshCmd": "cat(var_dic_list()) "
    }
   },
   "types_to_exclude": [
    "module",
    "function",
    "builtin_function_or_method",
    "instance",
    "_Feature"
   ],
   "window_display": false
  }
 },
 "nbformat": 4,
 "nbformat_minor": 4
}